{
 "cells": [
  {
   "cell_type": "markdown",
   "metadata": {},
   "source": [
    "### W(import)"
   ]
  },
  {
   "cell_type": "code",
   "execution_count": 1,
   "metadata": {},
   "outputs": [],
   "source": [
    "import copy, os, shutil, sys\n",
    "# from __future__ import annotations\n",
    "import mod.MVVlStd, mod.victory, mod.MyBankAcc\n",
    "# from typing import Ty\n",
    "# sorted() SupportsRichComparison"
   ]
  },
  {
   "cell_type": "code",
   "execution_count": 117,
   "metadata": {},
   "outputs": [
    {
     "data": {
      "text/plain": [
       "('D:\\\\Doc\\\\Dvl\\\\Prj\\\\Py\\\\Stu\\\\PyDev\\\\05\\\\HW',)"
      ]
     },
     "execution_count": 117,
     "metadata": {},
     "output_type": "execute_result"
    }
   ],
   "source": [
    "mod.MVVlStd.mInP_FltAVali_fefi('Ts', laInPTypeFlt_cll=None)"
   ]
  },
  {
   "cell_type": "code",
   "execution_count": 11,
   "metadata": {},
   "outputs": [
    {
     "name": "stdout",
     "output_type": "stream",
     "text": [
      "D:\\Doc\\Dvl\\Prj\\Py\\Stu\\PyDev\\05\\HW 'D:\\\\Doc\\\\Dvl\\\\Prj\\\\Py\\\\Stu\\\\PyDev\\\\05\\\\HW'\n"
     ]
    }
   ],
   "source": [
    "teCurDir_s = os.path.realpath(os.curdir)\n",
    "print(teCurDir_s, f'{teCurDir_s!r}')\n"
   ]
  },
  {
   "cell_type": "code",
   "execution_count": 114,
   "metadata": {},
   "outputs": [
    {
     "name": "stdout",
     "output_type": "stream",
     "text": [
      "ТекДиректория:(), All:0\n"
     ]
    }
   ],
   "source": [
    "from mod.MVVlStd import glSep_s, mInP_FltAVali_fefi, mMenu_c, mSupportsWrite_ca\n",
    "import mod.victory, mod.MyBankAcc\n",
    "\n",
    "mStt_d = dict(kStkDir_l=[], kDirEntry_t=None, kTSumT_t=None)\n",
    "\n",
    "def mFll_Stt_fe(laNewDir_s=None, laSortKey_cll=lambda _el: _el.name.upper(),\n",
    "                     laScan_b:bool=True):\n",
    "  if laNewDir_s is None: laNewDir_s = os.curdir # Init|RScan\n",
    "  loDir_s = os.path.realpath(laNewDir_s)\n",
    "  if not os.path.exists(loDir_s):\n",
    "    raise FileNotFoundError(2, f'Dir:({loDir_s}) not exist.')\n",
    "    # raise FileNotFoundError(2, f'Dir:({loDir_s}) not exist.', 3)\n",
    "  if not os.path.isdir(loDir_s):\n",
    "    raise NotADirectoryError(f'On path:({loDir_s}) exist not directory.')\n",
    "\n",
    "  if (not bool(mStt_d['kStkDir_l'])) or (mStt_d['kStkDir_l'][-1] != loDir_s):\n",
    "    mStt_d['kStkDir_l'].append(loDir_s)\n",
    "    laScan_b = laScan_b or True\n",
    "  else: pass # SameDir\n",
    "\n",
    "  if laScan_b or mStt_d['kDirEntry_t'] is None or mStt_d['kTSumT_t'] is None:\n",
    "    # print(f'DVL:{laScan_b=}')\n",
    "    if callable(laSortKey_cll):\n",
    "      mStt_d['kDirEntry_t'] = tuple(sorted(os.scandir(loDir_s), key=laSortKey_cll))\n",
    "    else:\n",
    "      mStt_d['kDirEntry_t'] = tuple(os.scandir(loDir_s))\n",
    "    loTT_t = tuple((_el.name, _el.is_file(follow_symlinks=False), _el.is_dir(follow_symlinks=False),\n",
    "        _el.is_symlink()) for _el in mStt_d['kDirEntry_t'])\n",
    "    mStt_d['kTSumT_t'] = (sum(_el[1] for _el in loTT_t), sum(_el[2] for _el in loTT_t),\n",
    "        sum(_el[3] for _el in loTT_t))\n",
    "\n",
    "def mOuP_Stt_fmp(laSf_o:mMenu_c, file:mSupportsWrite_ca=sys.stdout):\n",
    "  lo_s = \"ТекДиректория:({}), \"\n",
    "  if mStt_d['kDirEntry_t'] is None: lo_s = lo_s.format('')\n",
    "  else: lo_s = lo_s.format(mStt_d['kStkDir_l'][-1])\n",
    "  if mStt_d['kDirEntry_t'] is None:\n",
    "    lo_s += f\"All:0\"\n",
    "  elif mStt_d['kTSumT_t'] is None:\n",
    "    lo_s += f\"All:{len(mStt_d['kDirEntry_t'])}\"\n",
    "  else:\n",
    "    lo_s += (f\"(All,File,Dir,SLink):({len(mStt_d['kDirEntry_t'])},\" +\n",
    "       ','.join(str(_el) for _el in mStt_d['kTSumT_t']) + ')')\n",
    "  # print(f\"kRtDir_s={mStt_d['kRtDir_s']}, kCurRelDir_s={mStt_d['kCurRelDir_s']}\",\n",
    "  #     lo_s, sep=', ', file=file)\n",
    "  # tNL_s = '\\n'\n",
    "  # print(f\"{tNL_s.join((str(_el) for _el in mStt_d['kDirEntry_t']))}\")\n",
    "  # print(tNL_s.join((str(_el) for _el in mStt_d['kDirEntry_t'])))\n",
    "  print(lo_s, file=file)\n",
    "mOuP_Stt_fmp(None)\n"
   ]
  },
  {
   "cell_type": "code",
   "execution_count": 115,
   "metadata": {},
   "outputs": [
    {
     "name": "stdout",
     "output_type": "stream",
     "text": [
      "ТекДиректория:(), All:0\n",
      "\n",
      "('kStkDir_l', [])\n",
      "('kDirEntry_t', None)\n",
      "('kTSumT_t', None)\n",
      "D:\\Doc\\Dvl\\Prj\\Py\\Stu\\PyDev\\05\\HW\n",
      "'D:\\\\Doc\\\\Dvl\\\\Prj\\\\Py\\\\Stu\\\\PyDev\\\\05\\\\HW'\n",
      "\n",
      "ТекДиректория:(D:\\Doc\\Dvl\\Prj\\Py\\Stu\\PyDev\\05\\HW), (All,File,Dir,SLink):(12,8,4,0)\n",
      "\n",
      "('kStkDir_l', ['D:\\\\Doc\\\\Dvl\\\\Prj\\\\Py\\\\Stu\\\\PyDev\\\\05\\\\HW'])\n",
      "('kDirEntry_t', (<DirEntry '.git'>, <DirEntry '.gitignore'>, <DirEntry 'filemanager.py'>, <DirEntry 'LICENSE'>, <DirEntry 'mod'>, <DirEntry 'README.md'>, <DirEntry 'tmp'>, <DirEntry 'ts'>, <DirEntry 'ts.ipynb'>, <DirEntry 'ts.tar'>, <DirEntry 'ts.txt'>, <DirEntry 'ts1.py'>))\n",
      "('kTSumT_t', (8, 4, 0))\n",
      "D:\\Doc\\Dvl\\Prj\\Py\\Stu\\PyDev\\05\\HW\n",
      "'D:\\\\Doc\\\\Dvl\\\\Prj\\\\Py\\\\Stu\\\\PyDev\\\\05\\\\HW'\n",
      "\n",
      "ТекДиректория:(D:\\Doc\\Dvl\\Prj\\Py\\Stu\\PyDev\\05\\HW\\ts), (All,File,Dir,SLink):(6,3,1,2)\n",
      "\n",
      "('kStkDir_l', ['D:\\\\Doc\\\\Dvl\\\\Prj\\\\Py\\\\Stu\\\\PyDev\\\\05\\\\HW', 'D:\\\\Doc\\\\Dvl\\\\Prj\\\\Py\\\\Stu\\\\PyDev\\\\05\\\\HW\\\\ts'])\n",
      "('kDirEntry_t', (<DirEntry 'LICENSE'>, <DirEntry 'mod'>, <DirEntry 'README.md'>, <DirEntry 'ts.txt'>, <DirEntry 'Ts1'>, <DirEntry 'ts1.py'>))\n",
      "('kTSumT_t', (3, 1, 2))\n",
      "D:\\Doc\\Dvl\\Prj\\Py\\Stu\\PyDev\\05\\HW\n",
      "'D:\\\\Doc\\\\Dvl\\\\Prj\\\\Py\\\\Stu\\\\PyDev\\\\05\\\\HW'\n",
      "\n",
      "ТекДиректория:(D:\\Doc\\Dvl\\Prj\\Py\\Stu\\PyDev\\05\\HW\\ts), (All,File,Dir,SLink):(6,3,1,2)\n",
      "\n",
      "('kStkDir_l', ['D:\\\\Doc\\\\Dvl\\\\Prj\\\\Py\\\\Stu\\\\PyDev\\\\05\\\\HW', 'D:\\\\Doc\\\\Dvl\\\\Prj\\\\Py\\\\Stu\\\\PyDev\\\\05\\\\HW\\\\ts'])\n",
      "('kDirEntry_t', (<DirEntry 'LICENSE'>, <DirEntry 'mod'>, <DirEntry 'README.md'>, <DirEntry 'ts.txt'>, <DirEntry 'Ts1'>, <DirEntry 'ts1.py'>))\n",
      "('kTSumT_t', (3, 1, 2))\n",
      "D:\\Doc\\Dvl\\Prj\\Py\\Stu\\PyDev\\05\\HW\n",
      "'D:\\\\Doc\\\\Dvl\\\\Prj\\\\Py\\\\Stu\\\\PyDev\\\\05\\\\HW'\n",
      "\n"
     ]
    },
    {
     "ename": "NotADirectoryError",
     "evalue": "On path:(D:\\Doc\\Dvl\\Prj\\Py\\Stu\\PyDev\\05\\HW\\ts.txt) exist not directory.",
     "output_type": "error",
     "traceback": [
      "\u001b[1;31m---------------------------------------------------------------------------\u001b[0m",
      "\u001b[1;31mNotADirectoryError\u001b[0m                        Traceback (most recent call last)",
      "\u001b[1;32md:\\Doc\\Dvl\\Prj\\Py\\Stu\\PyDev\\05\\HW\\ts.ipynb Cell 5'\u001b[0m in \u001b[0;36m<cell line: 14>\u001b[1;34m()\u001b[0m\n\u001b[0;32m     <a href='vscode-notebook-cell:/d%3A/Doc/Dvl/Prj/Py/Stu/PyDev/05/HW/ts.ipynb#ch0000019?line=11'>12</a>\u001b[0m mOuP_Stt_fmp(\u001b[39mNone\u001b[39;00m)\n\u001b[0;32m     <a href='vscode-notebook-cell:/d%3A/Doc/Dvl/Prj/Py/Stu/PyDev/05/HW/ts.ipynb#ch0000019?line=12'>13</a>\u001b[0m \u001b[39mprint\u001b[39m(\u001b[39m'\u001b[39m\u001b[39m'\u001b[39m, \u001b[39m*\u001b[39m(mStt_d\u001b[39m.\u001b[39mitems()), os\u001b[39m.\u001b[39mpath\u001b[39m.\u001b[39mrealpath(os\u001b[39m.\u001b[39mcurdir), \u001b[39mf\u001b[39m\u001b[39m'\u001b[39m\u001b[39m{\u001b[39;00mos\u001b[39m.\u001b[39mpath\u001b[39m.\u001b[39mrealpath(os\u001b[39m.\u001b[39mcurdir)\u001b[39m!r}\u001b[39;00m\u001b[39m'\u001b[39m, \u001b[39m'\u001b[39m\u001b[39m'\u001b[39m, sep\u001b[39m=\u001b[39m\u001b[39m'\u001b[39m\u001b[39m\\n\u001b[39;00m\u001b[39m'\u001b[39m)\n\u001b[1;32m---> <a href='vscode-notebook-cell:/d%3A/Doc/Dvl/Prj/Py/Stu/PyDev/05/HW/ts.ipynb#ch0000019?line=13'>14</a>\u001b[0m mFll_Stt_fe(os\u001b[39m.\u001b[39;49mpath\u001b[39m.\u001b[39;49mjoin(tTsDir_s, tTsFi_s))\n\u001b[0;32m     <a href='vscode-notebook-cell:/d%3A/Doc/Dvl/Prj/Py/Stu/PyDev/05/HW/ts.ipynb#ch0000019?line=14'>15</a>\u001b[0m mOuP_Stt_fmp(\u001b[39mNone\u001b[39;00m)\n\u001b[0;32m     <a href='vscode-notebook-cell:/d%3A/Doc/Dvl/Prj/Py/Stu/PyDev/05/HW/ts.ipynb#ch0000019?line=15'>16</a>\u001b[0m \u001b[39mprint\u001b[39m(\u001b[39m'\u001b[39m\u001b[39m'\u001b[39m, \u001b[39m*\u001b[39m(mStt_d\u001b[39m.\u001b[39mitems()), os\u001b[39m.\u001b[39mpath\u001b[39m.\u001b[39mrealpath(os\u001b[39m.\u001b[39mcurdir), \u001b[39mf\u001b[39m\u001b[39m'\u001b[39m\u001b[39m{\u001b[39;00mos\u001b[39m.\u001b[39mpath\u001b[39m.\u001b[39mrealpath(os\u001b[39m.\u001b[39mcurdir)\u001b[39m!r}\u001b[39;00m\u001b[39m'\u001b[39m, \u001b[39m'\u001b[39m\u001b[39m'\u001b[39m, sep\u001b[39m=\u001b[39m\u001b[39m'\u001b[39m\u001b[39m\\n\u001b[39;00m\u001b[39m'\u001b[39m)\n",
      "\u001b[1;32md:\\Doc\\Dvl\\Prj\\Py\\Stu\\PyDev\\05\\HW\\ts.ipynb Cell 4'\u001b[0m in \u001b[0;36mmFll_Stt_fe\u001b[1;34m(laNewDir_s, laSortKey_cll, laScan_b)\u001b[0m\n\u001b[0;32m     <a href='vscode-notebook-cell:/d%3A/Doc/Dvl/Prj/Py/Stu/PyDev/05/HW/ts.ipynb#ch0000002?line=11'>12</a>\u001b[0m   \u001b[39m# raise FileNotFoundError(2, f'Dir:({loDir_s}) not exist.', 3)\u001b[39;00m\n\u001b[0;32m     <a href='vscode-notebook-cell:/d%3A/Doc/Dvl/Prj/Py/Stu/PyDev/05/HW/ts.ipynb#ch0000002?line=12'>13</a>\u001b[0m \u001b[39mif\u001b[39;00m \u001b[39mnot\u001b[39;00m os\u001b[39m.\u001b[39mpath\u001b[39m.\u001b[39misdir(loDir_s):\n\u001b[1;32m---> <a href='vscode-notebook-cell:/d%3A/Doc/Dvl/Prj/Py/Stu/PyDev/05/HW/ts.ipynb#ch0000002?line=13'>14</a>\u001b[0m   \u001b[39mraise\u001b[39;00m \u001b[39mNotADirectoryError\u001b[39;00m(\u001b[39mf\u001b[39m\u001b[39m'\u001b[39m\u001b[39mOn path:(\u001b[39m\u001b[39m{\u001b[39;00mloDir_s\u001b[39m}\u001b[39;00m\u001b[39m) exist not directory.\u001b[39m\u001b[39m'\u001b[39m)\n\u001b[0;32m     <a href='vscode-notebook-cell:/d%3A/Doc/Dvl/Prj/Py/Stu/PyDev/05/HW/ts.ipynb#ch0000002?line=15'>16</a>\u001b[0m \u001b[39mif\u001b[39;00m (\u001b[39mnot\u001b[39;00m \u001b[39mbool\u001b[39m(mStt_d[\u001b[39m'\u001b[39m\u001b[39mkStkDir_l\u001b[39m\u001b[39m'\u001b[39m])) \u001b[39mor\u001b[39;00m (mStt_d[\u001b[39m'\u001b[39m\u001b[39mkStkDir_l\u001b[39m\u001b[39m'\u001b[39m][\u001b[39m-\u001b[39m\u001b[39m1\u001b[39m] \u001b[39m!=\u001b[39m loDir_s):\n\u001b[0;32m     <a href='vscode-notebook-cell:/d%3A/Doc/Dvl/Prj/Py/Stu/PyDev/05/HW/ts.ipynb#ch0000002?line=16'>17</a>\u001b[0m   mStt_d[\u001b[39m'\u001b[39m\u001b[39mkStkDir_l\u001b[39m\u001b[39m'\u001b[39m]\u001b[39m.\u001b[39mappend(loDir_s)\n",
      "\u001b[1;31mNotADirectoryError\u001b[0m: On path:(D:\\Doc\\Dvl\\Prj\\Py\\Stu\\PyDev\\05\\HW\\ts.txt) exist not directory."
     ]
    }
   ],
   "source": [
    "tTsDir_s, tTsFi_s = r'ts', r'ts.txt'\n",
    "# tTsDir_s, tTsFi_s = r'ts', r'ts'\n",
    "mOuP_Stt_fmp(None)\n",
    "print('', *(mStt_d.items()), os.path.realpath(os.curdir), f'{os.path.realpath(os.curdir)!r}', '', sep='\\n')\n",
    "mFll_Stt_fe()\n",
    "mOuP_Stt_fmp(None)\n",
    "print('', *(mStt_d.items()), os.path.realpath(os.curdir), f'{os.path.realpath(os.curdir)!r}', '', sep='\\n')\n",
    "mFll_Stt_fe(tTsDir_s)\n",
    "mOuP_Stt_fmp(None)\n",
    "print('', *(mStt_d.items()), os.path.realpath(os.curdir), f'{os.path.realpath(os.curdir)!r}', '', sep='\\n')\n",
    "mFll_Stt_fe(tTsDir_s, laScan_b=[])\n",
    "mOuP_Stt_fmp(None)\n",
    "print('', *(mStt_d.items()), os.path.realpath(os.curdir), f'{os.path.realpath(os.curdir)!r}', '', sep='\\n')\n",
    "mFll_Stt_fe(os.path.join(tTsDir_s, tTsFi_s))\n",
    "mOuP_Stt_fmp(None)\n",
    "print('', *(mStt_d.items()), os.path.realpath(os.curdir), f'{os.path.realpath(os.curdir)!r}', '', sep='\\n')\n"
   ]
  },
  {
   "cell_type": "code",
   "execution_count": 77,
   "metadata": {},
   "outputs": [
    {
     "name": "stdout",
     "output_type": "stream",
     "text": [
      ".name------------------------------\n",
      "LICENSE\n",
      "mod\n",
      "README.md\n",
      "ts.txt\n",
      "Ts1\n",
      "ts1.py\n",
      "\n",
      ".is_file(follow_symlinks=False)------------------------------\n",
      "LICENSE\n",
      "README.md\n",
      "ts1.py\n",
      "\n",
      ".is_dir(follow_symlinks=False)------------------------------\n",
      "Ts1\n",
      "\n",
      "is_symlink()------------------------------\n",
      "mod\n",
      "ts.txt\n",
      "\n",
      ".is_file(follow_symlinks=True)------------------------------\n",
      "LICENSE\n",
      "README.md\n",
      "ts.txt\n",
      "ts1.py\n",
      "\n",
      ".is_dir(follow_symlinks=True)------------------------------\n",
      "mod\n",
      "Ts1\n",
      "\n"
     ]
    }
   ],
   "source": [
    "'''\n",
    ".name------------------------------\n",
    "LICENSE\n",
    "mod\n",
    "README.md\n",
    "tmp\n",
    "ts.txt\n",
    "Ts1\n",
    "ts1.py\n",
    "ts_SL\n",
    "\n",
    ".is_file(follow_symlinks=False)------------------------------\n",
    "LICENSE\n",
    "README.md\n",
    "ts1.py\n",
    "\n",
    ".is_dir(follow_symlinks=False)------------------------------\n",
    "tmp\n",
    "Ts1\n",
    "\n",
    "is_symlink()------------------------------\n",
    "mod\n",
    "ts.txt\n",
    "ts_SL\n",
    "\n",
    ".is_file(follow_symlinks=True)------------------------------\n",
    "LICENSE\n",
    "README.md\n",
    "ts.txt\n",
    "ts1.py\n",
    "\n",
    ".is_dir(follow_symlinks=True)------------------------------\n",
    "mod\n",
    "tmp\n",
    "Ts1\n",
    "'''\n",
    "# ts_SL:RelSL(->'.'), mod:DL, ts.txt:AbsSL, tmp:AbsSL, ts1.py:HL\n",
    "tNL_s = '\\n'\n",
    "print('.name'+'-' *30,\n",
    "    *(_el.name for _el in mStt_d['kDirEntry_t']), '', sep='\\n')\n",
    "print('.is_file(follow_symlinks=False)'+'-' *30,\n",
    "    *(_el.name for _el in mStt_d['kDirEntry_t'] if _el.is_file(follow_symlinks=False)), '', sep='\\n')\n",
    "print('.is_dir(follow_symlinks=False)'+'-' *30,\n",
    "    *(_el.name for _el in mStt_d['kDirEntry_t'] if _el.is_dir(follow_symlinks=False)), '', sep='\\n')\n",
    "print('is_symlink()'+'-' *30, *(_el.name for _el in mStt_d['kDirEntry_t'] if _el.is_symlink()), '', sep='\\n')\n",
    "print('.is_file(follow_symlinks=True)'+'-' *30, *(_el.name for _el in mStt_d['kDirEntry_t'] if _el.is_file(follow_symlinks=True)), '', sep='\\n')\n",
    "print('.is_dir(follow_symlinks=True)'+'-' *30, *(_el.name for _el in mStt_d['kDirEntry_t'] if _el.is_dir(follow_symlinks=True)), '', sep='\\n')"
   ]
  },
  {
   "cell_type": "code",
   "execution_count": 95,
   "metadata": {},
   "outputs": [
    {
     "name": "stdout",
     "output_type": "stream",
     "text": [
      "(All,File,Dir,SLink):(6,3,1,2)\n"
     ]
    }
   ],
   "source": [
    "print(f\"(All,File,Dir,SLink):({len(mStt_d['kDirEntry_t'])},\", ','.join(str(_el) for _el in mStt_d['kTSumT_t']), ')',sep='')"
   ]
  },
  {
   "cell_type": "code",
   "execution_count": 89,
   "metadata": {},
   "outputs": [
    {
     "ename": "ValueError",
     "evalue": "could not convert string to float: '1_00 0.33'",
     "output_type": "error",
     "traceback": [
      "\u001b[1;31m---------------------------------------------------------------------------\u001b[0m",
      "\u001b[1;31mValueError\u001b[0m                                Traceback (most recent call last)",
      "\u001b[1;32md:\\Doc\\Dvl\\Prj\\Py\\Stu\\PyDev\\05\\HW\\ts.ipynb Cell 7'\u001b[0m in \u001b[0;36m<cell line: 1>\u001b[1;34m()\u001b[0m\n\u001b[1;32m----> <a href='vscode-notebook-cell:/d%3A/Doc/Dvl/Prj/Py/Stu/PyDev/05/HW/ts.ipynb#ch0000026?line=0'>1</a>\u001b[0m \u001b[39mfloat\u001b[39;49m(\u001b[39m'\u001b[39;49m\u001b[39m1_00 0.33\u001b[39;49m\u001b[39m'\u001b[39;49m)\n",
      "\u001b[1;31mValueError\u001b[0m: could not convert string to float: '1_00 0.33'"
     ]
    }
   ],
   "source": [
    "float('1_000.33')"
   ]
  },
  {
   "cell_type": "code",
   "execution_count": 80,
   "metadata": {},
   "outputs": [
    {
     "name": "stdout",
     "output_type": "stream",
     "text": [
      "(('LICENSE', True, False, False), ('mod', False, False, True), ('README.md', True, False, False), ('ts.txt', False, False, True), ('Ts1', False, True, False), ('ts1.py', True, False, False)) 3 1 2\n"
     ]
    }
   ],
   "source": [
    "t_t = tuple((_el.name, _el.is_file(follow_symlinks=False), _el.is_dir(follow_symlinks=False), _el.is_symlink())\n",
    " for _el in mStt_d['kDirEntry_t'])\n",
    "print(t_t, sum(_el[1] for _el in t_t), sum(_el[2] for _el in t_t), sum(_el[3] for _el in t_t))"
   ]
  },
  {
   "cell_type": "code",
   "execution_count": 74,
   "metadata": {},
   "outputs": [
    {
     "data": {
      "text/plain": [
       "os.stat_result(st_mode=41471, st_ino=0, st_dev=0, st_nlink=0, st_uid=0, st_gid=0, st_size=0, st_atime=1656140794, st_mtime=1656140794, st_ctime=1656140794)"
      ]
     },
     "execution_count": 74,
     "metadata": {},
     "output_type": "execute_result"
    }
   ],
   "source": [
    "mStt_d['kDirEntry_t'][-1].stat(follow_symlinks=False)"
   ]
  },
  {
   "cell_type": "code",
   "execution_count": 22,
   "metadata": {},
   "outputs": [
    {
     "name": "stdout",
     "output_type": "stream",
     "text": [
      "('kCurDir_l', ['D:\\\\Doc\\\\Dvl\\\\Prj\\\\Py\\\\Stu\\\\PyDev\\\\05\\\\HW', 'D:\\\\Doc\\\\Dvl\\\\Prj\\\\Py\\\\Stu\\\\PyDev\\\\05\\\\HW\\\\ts'])\n",
      "('kDirEntry_t', (<DirEntry 'ts.txt'>,))\n",
      "D:\\Doc\\Dvl\\Prj\\Py\\Stu\\PyDev\\05\\HW\n",
      "'D:\\\\Doc\\\\Dvl\\\\Prj\\\\Py\\\\Stu\\\\PyDev\\\\05\\\\HW'\n",
      "\n"
     ]
    }
   ],
   "source": [
    "print(*(mStt_d.items()), os.path.realpath(os.curdir), f'{os.path.realpath(os.curdir)!r}', '', sep='\\n')\n"
   ]
  },
  {
   "cell_type": "code",
   "execution_count": 15,
   "metadata": {},
   "outputs": [
    {
     "data": {
      "text/plain": [
       "{'D:\\\\Doc\\\\Dvl\\\\Prj\\\\Py\\\\Stu\\\\PyDev\\\\05\\\\HW',\n",
       " 'D:\\\\Doc\\\\Dvl\\\\Prj\\\\Py\\\\Stu\\\\PyDev\\\\05\\\\HW\\\\ts'}"
      ]
     },
     "execution_count": 15,
     "metadata": {},
     "output_type": "execute_result"
    }
   ],
   "source": [
    "set(mStt_d['kStkDir_l'])"
   ]
  },
  {
   "cell_type": "code",
   "execution_count": 9,
   "metadata": {},
   "outputs": [
    {
     "name": "stdout",
     "output_type": "stream",
     "text": [
      "D:\\Doc\\Dvl\\Prj\\Py\\Stu\\PyDev\\05\\HW 'D:\\\\Doc\\\\Dvl\\\\Prj\\\\Py\\\\Stu\\\\PyDev\\\\05\\\\HW'\n"
     ]
    }
   ],
   "source": [
    "print(teCurDir_s, f'{teCurDir_s!r}')\n"
   ]
  },
  {
   "cell_type": "code",
   "execution_count": 6,
   "metadata": {},
   "outputs": [
    {
     "name": "stdout",
     "output_type": "stream",
     "text": [
      "D:\\Doc\\Dvl\\Prj\\Py\\Stu\\PyDev\\05\\HW 'D:\\\\Doc\\\\Dvl\\\\Prj\\\\Py\\\\Stu\\\\PyDev\\\\05\\\\HW'\n"
     ]
    }
   ],
   "source": [
    "teCurDir_s = os.path.realpath(os.curdir)\n",
    "print(teCurDir_s, f'{teCurDir_s!r}')\n"
   ]
  },
  {
   "cell_type": "code",
   "execution_count": 61,
   "metadata": {},
   "outputs": [
    {
     "name": "stdout",
     "output_type": "stream",
     "text": [
      "D:\\Doc\\Dvl\\Prj\\Py\\Stu\\PyDev\\05\\HW D:\\Doc\\Dvl\\Prj\\Py\\Stu\\PyDev\\05\\HW\\ts\\ts.txt\n"
     ]
    },
    {
     "ename": "NotADirectoryError",
     "evalue": "[WinError 267] Неверно задано имя папки: 'ts.txt'",
     "output_type": "error",
     "traceback": [
      "\u001b[1;31m---------------------------------------------------------------------------\u001b[0m",
      "\u001b[1;31mNotADirectoryError\u001b[0m                        Traceback (most recent call last)",
      "\u001b[1;32md:\\Doc\\Dvl\\Prj\\Py\\Stu\\PyDev\\05\\HW\\ts.ipynb Cell 5'\u001b[0m in \u001b[0;36m<cell line: 6>\u001b[1;34m()\u001b[0m\n\u001b[0;32m      <a href='vscode-notebook-cell:/d%3A/Doc/Dvl/Prj/Py/Stu/PyDev/05/HW/ts.ipynb#ch0000012?line=3'>4</a>\u001b[0m os\u001b[39m.\u001b[39mchdir(teCurDir_s)\n\u001b[0;32m      <a href='vscode-notebook-cell:/d%3A/Doc/Dvl/Prj/Py/Stu/PyDev/05/HW/ts.ipynb#ch0000012?line=5'>6</a>\u001b[0m \u001b[39mif\u001b[39;00m os\u001b[39m.\u001b[39mpath\u001b[39m.\u001b[39mexists(tTsDir_s):\n\u001b[1;32m----> <a href='vscode-notebook-cell:/d%3A/Doc/Dvl/Prj/Py/Stu/PyDev/05/HW/ts.ipynb#ch0000012?line=6'>7</a>\u001b[0m   \u001b[39mif\u001b[39;00m os\u001b[39m.\u001b[39mpath\u001b[39m.\u001b[39misdir(tTsDir_s): os\u001b[39m.\u001b[39mchdir(tTsFi_s)\n\u001b[0;32m      <a href='vscode-notebook-cell:/d%3A/Doc/Dvl/Prj/Py/Stu/PyDev/05/HW/ts.ipynb#ch0000012?line=7'>8</a>\u001b[0m     \u001b[39m# try:\u001b[39;00m\n\u001b[0;32m      <a href='vscode-notebook-cell:/d%3A/Doc/Dvl/Prj/Py/Stu/PyDev/05/HW/ts.ipynb#ch0000012?line=8'>9</a>\u001b[0m     \u001b[39m#   os.chdir(os.path.join(tTsFi_s,tTsDir_s))\u001b[39;00m\n\u001b[0;32m     <a href='vscode-notebook-cell:/d%3A/Doc/Dvl/Prj/Py/Stu/PyDev/05/HW/ts.ipynb#ch0000012?line=9'>10</a>\u001b[0m     \u001b[39m# except FileNotFoundError as tExc_o:\u001b[39;00m\n\u001b[1;32m   (...)\u001b[0m\n\u001b[0;32m     <a href='vscode-notebook-cell:/d%3A/Doc/Dvl/Prj/Py/Stu/PyDev/05/HW/ts.ipynb#ch0000012?line=12'>13</a>\u001b[0m     \u001b[39m#         for _s in dir(tExc_o) if not _s.startswith('__')), sep='\\n')\u001b[39;00m\n\u001b[0;32m     <a href='vscode-notebook-cell:/d%3A/Doc/Dvl/Prj/Py/Stu/PyDev/05/HW/ts.ipynb#ch0000012?line=13'>14</a>\u001b[0m     \u001b[39m#   raise tExc_o\u001b[39;00m\n\u001b[0;32m     <a href='vscode-notebook-cell:/d%3A/Doc/Dvl/Prj/Py/Stu/PyDev/05/HW/ts.ipynb#ch0000012?line=14'>15</a>\u001b[0m   \u001b[39melse\u001b[39;00m: \u001b[39mprint\u001b[39m(\u001b[39m'\u001b[39m\u001b[39mNotADirectoryError\u001b[39m\u001b[39m'\u001b[39m)\n",
      "\u001b[1;31mNotADirectoryError\u001b[0m: [WinError 267] Неверно задано имя папки: 'ts.txt'"
     ]
    }
   ],
   "source": [
    "tTsDir_s, tTsFi_s = r'ts', r'ts.txt'\n",
    "# os.path.join(tTsDir_s, tTsFi_s)\n",
    "print(os.path.realpath(os.curdir), os.path.join(teCurDir_s, tTsDir_s, tTsFi_s))\n",
    "os.chdir(teCurDir_s)\n",
    "\n",
    "if os.path.exists(tTsDir_s):\n",
    "  if os.path.isdir(tTsDir_s): os.chdir(tTsDir_s)\n",
    "    # try:\n",
    "    #   os.chdir(os.path.join(tTsFi_s,tTsDir_s))\n",
    "    # except FileNotFoundError as tExc_o:\n",
    "    #   print(tExc_o, f'{tExc_o!r}',\n",
    "    #       *(f'{_s}:{getattr(tExc_o, _s, None)}'\n",
    "    #         for _s in dir(tExc_o) if not _s.startswith('__')), sep='\\n')\n",
    "    #   raise tExc_o\n",
    "  else: print('NotADirectoryError')\n",
    "else: \n",
    "  os.mkdir(tTsDir_s) # os.(remove rmdir removedirs)\n",
    "  os.chdir(tTsDir_s)\n",
    "  \n",
    "print(os.path.realpath(os.curdir))\n",
    "teScan_t = tuple(sorted(os.scandir('.'), key=lambda _el: _el.name.upper()))\n",
    "print(*teScan_t, sep='\\n') # os.DirEntry \n",
    "if tTsFi_s in [_el.name for _el in teScan_t]:\n",
    "  print('FileExistsError')\n",
    "else: \n",
    "  with open(os.path.join(tTsFi_s), mode='x') as lw_o:\n",
    "    ...\n",
    "tuple(_el.name for _el in sorted(os.scandir('.'), key=lambda _el: _el.name.upper()))"
   ]
  },
  {
   "cell_type": "code",
   "execution_count": 41,
   "metadata": {},
   "outputs": [
    {
     "data": {
      "text/plain": [
       "True"
      ]
     },
     "execution_count": 41,
     "metadata": {},
     "output_type": "execute_result"
    }
   ],
   "source": [
    "tTsFi_s in [_el.name for _el in teScan_t]"
   ]
  },
  {
   "cell_type": "code",
   "execution_count": 123,
   "metadata": {},
   "outputs": [
    {
     "name": "stdout",
     "output_type": "stream",
     "text": [
      "DVL:Exc: [WinError 3] loDir_s non exist: 'ts.txt' -> 'ts.txt222'(FileNotFoundError(2, 'loDir_s non exist')):\n",
      "args:(2, 'loDir_s non exist')\n",
      "characters_written:None\n",
      "errno:2\n",
      "filename:ts.txt\n",
      "filename2:ts.txt222\n",
      "strerror:loDir_s non exist\n",
      "winerror:3\n",
      "with_traceback:<built-in method with_traceback of FileNotFoundError object at 0x000001625554DFC0>\n",
      "\n",
      "Fin\n"
     ]
    },
    {
     "ename": "FileNotFoundError",
     "evalue": "[WinError 3] loDir_s non exist: 'ts.txt' -> 'ts.txt222'",
     "output_type": "error",
     "traceback": [
      "\u001b[1;31m---------------------------------------------------------------------------\u001b[0m",
      "\u001b[1;31mFileNotFoundError\u001b[0m                         Traceback (most recent call last)",
      "\u001b[1;32md:\\Doc\\Dvl\\Prj\\Py\\Stu\\PyDev\\05\\HW\\ts.ipynb Cell 18'\u001b[0m in \u001b[0;36m<cell line: 1>\u001b[1;34m()\u001b[0m\n\u001b[0;32m      <a href='vscode-notebook-cell:/d%3A/Doc/Dvl/Prj/Py/Stu/PyDev/05/HW/ts.ipynb#ch0000006?line=0'>1</a>\u001b[0m \u001b[39mtry\u001b[39;00m:\n\u001b[1;32m----> <a href='vscode-notebook-cell:/d%3A/Doc/Dvl/Prj/Py/Stu/PyDev/05/HW/ts.ipynb#ch0000006?line=1'>2</a>\u001b[0m   \u001b[39mraise\u001b[39;00m \u001b[39mFileNotFoundError\u001b[39;00m(\u001b[39m2\u001b[39m,\u001b[39m'\u001b[39m\u001b[39mloDir_s non exist\u001b[39m\u001b[39m'\u001b[39m, tTsFi_s, \u001b[39m3\u001b[39m, tTsFi_s \u001b[39m+\u001b[39m\u001b[39m'\u001b[39m\u001b[39m222\u001b[39m\u001b[39m'\u001b[39m)\n\u001b[0;32m      <a href='vscode-notebook-cell:/d%3A/Doc/Dvl/Prj/Py/Stu/PyDev/05/HW/ts.ipynb#ch0000006?line=2'>3</a>\u001b[0m \u001b[39mexcept\u001b[39;00m \u001b[39mFileNotFoundError\u001b[39;00m \u001b[39mas\u001b[39;00m tExc_o:\n\u001b[0;32m      <a href='vscode-notebook-cell:/d%3A/Doc/Dvl/Prj/Py/Stu/PyDev/05/HW/ts.ipynb#ch0000006?line=3'>4</a>\u001b[0m   \u001b[39mprint\u001b[39m(\u001b[39mf\u001b[39m\u001b[39m'\u001b[39m\u001b[39mDVL:Exc: \u001b[39m\u001b[39m{\u001b[39;00mtExc_o\u001b[39m}\u001b[39;00m\u001b[39m(\u001b[39m\u001b[39m{\u001b[39;00mtExc_o\u001b[39m!r}\u001b[39;00m\u001b[39m):\u001b[39m\u001b[39m'\u001b[39m,\n\u001b[0;32m      <a href='vscode-notebook-cell:/d%3A/Doc/Dvl/Prj/Py/Stu/PyDev/05/HW/ts.ipynb#ch0000006?line=4'>5</a>\u001b[0m    \u001b[39m*\u001b[39m(\u001b[39mf\u001b[39m\u001b[39m'\u001b[39m\u001b[39m{\u001b[39;00m_s\u001b[39m}\u001b[39;00m\u001b[39m:\u001b[39m\u001b[39m{\u001b[39;00m\u001b[39mgetattr\u001b[39m(tExc_o, _s, \u001b[39mNone\u001b[39;00m)\u001b[39m}\u001b[39;00m\u001b[39m'\u001b[39m \u001b[39mfor\u001b[39;00m _s \u001b[39min\u001b[39;00m \u001b[39mdir\u001b[39m(tExc_o) \u001b[39mif\u001b[39;00m \u001b[39mnot\u001b[39;00m _s\u001b[39m.\u001b[39mstartswith(\u001b[39m'\u001b[39m\u001b[39m__\u001b[39m\u001b[39m'\u001b[39m)), sep\u001b[39m=\u001b[39m\u001b[39m'\u001b[39m\u001b[39m\\n\u001b[39;00m\u001b[39m'\u001b[39m)\n",
      "\u001b[1;31mFileNotFoundError\u001b[0m: [WinError 3] loDir_s non exist: 'ts.txt' -> 'ts.txt222'"
     ]
    }
   ],
   "source": [
    "try:\n",
    "  raise FileNotFoundError(2,'loDir_s non exist', tTsFi_s, 3, tTsFi_s +'222')\n",
    "except FileNotFoundError as tExc_o:\n",
    "  print(f'DVL:Exc: {tExc_o}({tExc_o!r}):',\n",
    "   *(f'{_s}:{getattr(tExc_o, _s, None)}' for _s in dir(tExc_o) if not _s.startswith('__')), sep='\\n')\n",
    "  raise\n",
    "finally:\n",
    "  # print('Fin', tExc_o)\n",
    "  print('\\nFin')\n",
    "   "
   ]
  },
  {
   "cell_type": "code",
   "execution_count": 48,
   "metadata": {},
   "outputs": [
    {
     "ename": "NameError",
     "evalue": "name 'tExc_o' is not defined",
     "output_type": "error",
     "traceback": [
      "\u001b[1;31m---------------------------------------------------------------------------\u001b[0m",
      "\u001b[1;31mNameError\u001b[0m                                 Traceback (most recent call last)",
      "\u001b[1;32md:\\Doc\\Dvl\\Prj\\Py\\Stu\\PyDev\\05\\HW\\ts.ipynb Cell 8'\u001b[0m in \u001b[0;36m<cell line: 1>\u001b[1;34m()\u001b[0m\n\u001b[1;32m----> <a href='vscode-notebook-cell:/d%3A/Doc/Dvl/Prj/Py/Stu/PyDev/05/HW/ts.ipynb#ch0000020?line=0'>1</a>\u001b[0m \u001b[39mdir\u001b[39m(tExc_o)\n",
      "\u001b[1;31mNameError\u001b[0m: name 'tExc_o' is not defined"
     ]
    }
   ],
   "source": [
    "FileNotFoundError()"
   ]
  },
  {
   "cell_type": "code",
   "execution_count": null,
   "metadata": {},
   "outputs": [
    {
     "name": "stdout",
     "output_type": "stream",
     "text": [
      "D:\\Doc\\Dvl\\Prj\\Py\\Stu\\PyDev\\05\\HW\n",
      "D:\\Doc\\Dvl\\Prj\\Py\\Stu\\PyDev\\05\\HW\\mod\n",
      "D:\\Doc\\Dvl\\Prj\\Py\\Stu\\PyDev\\05\\HW\n"
     ]
    },
    {
     "ename": "FileNotFoundError",
     "evalue": "[WinError 161] Указан недопустимый путь: '//rty'",
     "output_type": "error",
     "traceback": [
      "\u001b[1;31m---------------------------------------------------------------------------\u001b[0m\n",
      "\u001b[1;31mFileNotFoundError\u001b[0m                         Traceback (most recent call last)\n",
      "\u001b[1;32md:\\Doc\\Dvl\\Prj\\Py\\Stu\\PyDev\\05\\HW\\ts.ipynb Cell 7'\u001b[0m in \u001b[0;36m<cell line: 6>\u001b[1;34m()\u001b[0m\n",
      "\u001b[0;32m      <a href='vscode-notebook-cell:/d%3A/Doc/Dvl/Prj/Py/Stu/PyDev/05/HW/ts.ipynb#ch0000011?line=3'>4</a>\u001b[0m os\u001b[39m.\u001b[39mchdir(os\u001b[39m.\u001b[39mpardir)\n",
      "\u001b[0;32m      <a href='vscode-notebook-cell:/d%3A/Doc/Dvl/Prj/Py/Stu/PyDev/05/HW/ts.ipynb#ch0000011?line=4'>5</a>\u001b[0m \u001b[39mprint\u001b[39m(os\u001b[39m.\u001b[39mpath\u001b[39m.\u001b[39mrealpath(os\u001b[39m.\u001b[39mcurdir))\n",
      "\u001b[1;32m----> <a href='vscode-notebook-cell:/d%3A/Doc/Dvl/Prj/Py/Stu/PyDev/05/HW/ts.ipynb#ch0000011?line=5'>6</a>\u001b[0m os\u001b[39m.\u001b[39;49mchdir(\u001b[39mr\u001b[39;49m\u001b[39m'\u001b[39;49m\u001b[39m//rty\u001b[39;49m\u001b[39m'\u001b[39;49m) \u001b[39m# OSError: [WinError 123] Синтаксическая ошибка в имени файла, имени папки или метке тома: '<>rty'\u001b[39;00m\n",
      "\u001b[0;32m      <a href='vscode-notebook-cell:/d%3A/Doc/Dvl/Prj/Py/Stu/PyDev/05/HW/ts.ipynb#ch0000011?line=6'>7</a>\u001b[0m os\u001b[39m.\u001b[39mchdir(\u001b[39mr\u001b[39m\u001b[39m'\u001b[39m\u001b[39m<>rty\u001b[39m\u001b[39m'\u001b[39m) \u001b[39m# OSError: [WinError 123] Синтаксическая ошибка в имени файла, имени папки или метке тома: '<>rty'\u001b[39;00m\n",
      "\u001b[0;32m      <a href='vscode-notebook-cell:/d%3A/Doc/Dvl/Prj/Py/Stu/PyDev/05/HW/ts.ipynb#ch0000011?line=7'>8</a>\u001b[0m os\u001b[39m.\u001b[39mchdir(\u001b[39mr\u001b[39m\u001b[39m'\u001b[39m\u001b[39mrty\u001b[39m\u001b[39m'\u001b[39m) \u001b[39m# FileNotFoundError: [WinError 2] Не удается найти указанный файл: 'rty'\u001b[39;00m\n",
      "\n",
      "\u001b[1;31mFileNotFoundError\u001b[0m: [WinError 161] Указан недопустимый путь: '//rty'"
     ]
    }
   ],
   "source": [
    "print(os.path.realpath(os.curdir))\n",
    "os.chdir('mod')\n",
    "print(os.path.realpath(os.curdir))\n",
    "os.chdir(os.pardir)\n",
    "print(os.path.realpath(os.curdir))\n",
    "os.chdir(r'//rty') # FileNotFoundError: [WinError 161] Указан недопустимый путь: '//rty'\n",
    "os.chdir(r'<>rty') # OSError: [WinError 123] Синтаксическая ошибка в имени файла, имени папки или метке тома: '<>rty'\n",
    "os.chdir(r'rty') # FileNotFoundError: [WinError 2] Не удается найти указанный файл: 'rty'\n",
    "os.chdir(r'README.md') # NotADirectoryError: [WinError 267] Неверно задано имя папки: 'README.md'\n",
    "print(os.path.realpath(os.curdir))"
   ]
  },
  {
   "cell_type": "markdown",
   "metadata": {},
   "source": [
    "##### Nte:FileOpError\n",
    "exception FileExistsError\n",
    "Raised when trying to create a file or directory which already exists. Corresponds to errno EEXIST.\n",
    "\n",
    "exception FileNotFoundError\n",
    "Raised when a file or directory is requested but doesn’t exist. Corresponds to errno ENOENT.\n",
    "\n",
    "exception InterruptedError\n",
    "Raised when a system call is interrupted by an incoming signal. Corresponds to errno EINTR.\n",
    "\n",
    ">Changed in version 3.5: Python now retries system calls when a syscall is interrupted by a signal, except if the signal handler raises an exception (see PEP 475 for the rationale), instead of raising InterruptedError.\n",
    "\n",
    "exception IsADirectoryError\n",
    "Raised when a file operation (such as os.remove()) is requested on a directory. Corresponds to errno EISDIR.\n",
    "\n",
    "exception NotADirectoryError\n",
    "Raised when a directory operation (such as os.listdir()) is requested on something which is not a directory. On most POSIX platforms, it may also be raised if an operation attempts to open or traverse a non-directory file as if it were a directory. Corresponds to errno ENOTDIR.\n",
    "\n",
    "exception PermissionError\n",
    "Raised when trying to run an operation without the adequate access rights - for example filesystem permissions. Corresponds to errno EACCES and EPERM.\n",
    "\n",
    "exception OSError([arg])\n",
    "exception OSError(errno, strerror[, filename[, winerror[, filename2]]])\n",
    ">Name:\n",
    "All functions in this module -os - raise OSError (or subclasses thereof) in the case of invalid or inaccessible file names and paths, or other arguments that have the correct type, but are not accepted by the operating system."
   ]
  },
  {
   "cell_type": "code",
   "execution_count": 25,
   "metadata": {},
   "outputs": [
    {
     "name": "stdout",
     "output_type": "stream",
     "text": [
      "D:\\Doc\\Dvl\\Prj\\Py\\Stu\\PyDev\\05\\HW\n",
      "D:\\Doc\\Dvl\\Prj\\Py\\Stu\\PyDev\\05\\HW\\mod\n"
     ]
    }
   ],
   "source": [
    "print(os.path.realpath(os.curdir))\n",
    "os.chdir('mod') # FileNotFoundError: [WinError 2] Не удается найти указанный файл: 'rty'\n",
    "print(os.path.realpath(os.curdir))\n"
   ]
  },
  {
   "cell_type": "code",
   "execution_count": 8,
   "metadata": {},
   "outputs": [
    {
     "name": "stdout",
     "output_type": "stream",
     "text": [
      " Нужно ввести еще 1 знач. и осталось 1 попыт.\n",
      "\tERR: You input:'5' INVALID because of NOT x in (1,2,3).\n",
      " Нужно ввести еще 1 знач. и осталось 10 попыт.\n",
      "(6.0, 2.2) (1,)\n"
     ]
    }
   ],
   "source": [
    "# mod.MVVlStd.inp_FltAVali_fefi()\n",
    "print(mod.MVVlStd.inp_FltAVali_fefi(laWhatInPMsg_s=' Any Float', laInPValues_co=2, laInPTypeFlt_cll=float, laMaxInPTry_co=1),\n",
    " mod.MVVlStd.inp_FltAVali_fefi(' x', laValiInPMsg_s='x in (1,2,3)',\n",
    "  laVali_cll=lambda x: x in (1,2,3))\n",
    "  )\n"
   ]
  },
  {
   "cell_type": "markdown",
   "metadata": {},
   "source": [
    "### W/o(import)"
   ]
  },
  {
   "cell_type": "code",
   "execution_count": 9,
   "metadata": {},
   "outputs": [
    {
     "name": "stdout",
     "output_type": "stream",
     "text": [
      " Нужно ввести еще 1 знач. и осталось 1 попыт.\n",
      "\tERR: You input:'6' INVALID because of NOT x in (1,2,3).\n",
      " Нужно ввести еще 1 знач. и осталось 10 попыт.\n",
      "(4.5, 5.0) (2,)\n"
     ]
    }
   ],
   "source": [
    "import copy, sys, time\n",
    "from dataclasses import dataclass, field\n",
    "from collections.abc import Callable\n",
    "\n",
    "glScrWid_s = 80\n",
    "glSep_s = '_' *glScrWid_s\n",
    "\n",
    "glStdMsg4InP_l = [' Please, Input', ' and press Enter',\n",
    "    'Your value will be validated as', 'on default ',\n",
    "    # ' and {} attempt{} left'\n",
    "    ' and {} attem. left',\n",
    "    ' It remains to input {} more val.{}.']\n",
    "glStdMsg4InP_l = [' Пожалуйста, введите', ' и нажмите Enter',\n",
    "    'Ваш ввод должен соответствовать усл.', 'по умолчанию ',\n",
    "    ' и осталось {} попыт.',\n",
    "    ' Нужно ввести еще {} знач.{}.']\n",
    "\n",
    "def inp_FltAVali_fefi(laWhatInPMsg_s, laInPValues_co=1, laValiInPMsg_s='',\n",
    "    laVali_cll=None, laInPTypeFlt_cll=int, laMaxInPTry_co=11,\n",
    "    laAcceptEmptyInPAsDf_b=False, laDfV_s=None, laMsg4InP_l=glStdMsg4InP_l,\n",
    "    laVerbose_i=None, file=sys.stdout) -> tuple:\n",
    "\n",
    "  if laInPValues_co < 1: raise ValueError(f'laInPValues_co must be > 0, now:{laInPValues_co}')\n",
    "  loTypeAValiFlsCo_l, loRes_l, loMaxTry_co = [0, 0], [], int(max(laInPValues_co, laMaxInPTry_co))\n",
    "  if laValiInPMsg_s and laVali_cll:\n",
    "    lo_s = f' - {laMsg4InP_l[2]}({laValiInPMsg_s}'\n",
    "    if lo_s[-1] == '\\n': lo_s = lo_s[:-1] + ') -\\n'\n",
    "    else: lo_s += ') -'\n",
    "  else: lo_s = ''\n",
    "  lo_s = laMsg4InP_l[0] + f\"{laWhatInPMsg_s}{lo_s}\" + laMsg4InP_l[1]\n",
    "  if laAcceptEmptyInPAsDf_b and laDfV_s is not None:\n",
    "    lo_s += f\"({laMsg4InP_l[3]}'{laDfV_s}')\"\n",
    "  loInPMsg_s = f\"{lo_s}: \"\n",
    "\n",
    "  for l_co in range(loMaxTry_co):\n",
    "    li_s = input(loInPMsg_s)\n",
    "    if li_s == '' and laAcceptEmptyInPAsDf_b and laDfV_s is not None:\n",
    "      li_s = laDfV_s # 2Do: Che: laDfV_s is str OR UpLi\n",
    "    # if not li_s: ??User(Exit|Bre) ??laAcceptEmpty(As(Df|Bre))InP_b=False\n",
    "    try:\n",
    "      if laInPTypeFlt_cll is not None:\n",
    "        liChe_i = laInPTypeFlt_cll(li_s)\n",
    "      else: liChe_i = li_s\n",
    "    except ValueError as leExc_o:\n",
    "      loTypeAValiFlsCo_l[0] +=1; liChe_i = None\n",
    "      print(f\"\\tERR: You input:'{li_s}' NOT pass check type w/func({laInPTypeFlt_cll}\",\n",
    "          f'- Exception:{type(leExc_o).__name__}({leExc_o}) raised.', file=file)\n",
    "    else:\n",
    "      if laVali_cll is not None:\n",
    "        if laVali_cll(liChe_i):\n",
    "          loRes_l.append(liChe_i)\n",
    "          # print(f\"\\tMSG: You input:'{liChe_i}' valid.\", file=file)\n",
    "        else:\n",
    "          loTypeAValiFlsCo_l[1] +=1\n",
    "          lo_s = f' because of NOT {laValiInPMsg_s}' if laValiInPMsg_s else ''\n",
    "          print(f\"\\tERR: You input:'{liChe_i}' INVALID{lo_s}.\", file=file)\n",
    "      else:\n",
    "        loRes_l.append(liChe_i)\n",
    "        # print(f\"\\tMSG: You input:'{liChe_i}'.\", file=file)\n",
    "        # if liChe_i == tPtt_i: tOk_co +=1\n",
    "    # print(f'DBG: {loRes_l=}')\n",
    "    if len(loRes_l) == laInPValues_co: break  \n",
    "    if laMaxInPTry_co:\n",
    "      if l_co == (loMaxTry_co -1): # RFa:Rm(NNe int)\n",
    "        if loRes_l:\n",
    "          print(f\"\\tWRN: Rich max(laInPValues_co, laMaxInPTry_co):{loMaxTry_co}, return {tuple(loRes_l)} as User input.\", file=file)\n",
    "        else:\n",
    "          raise ValueError(f'Rich max(laInPValues_co, laMaxInPTry_co):{loMaxTry_co} but loRes_l is Empty - nothing return as User input.')\n",
    "      else:\n",
    "        # lo_s = '' if l_co == (loMaxTry_co -2) else 's'\n",
    "        # lo_s = f' and {loMaxTry_co - l_co -1} attempt{lo_s} left'\n",
    "        if laMsg4InP_l[-2]:\n",
    "          lo_s = laMsg4InP_l[-2].format(loMaxTry_co - l_co -1)\n",
    "        else: lo_s = ''\n",
    "    else: lo_s = '' #RFa:Rm:NNe(.rstrip('.'))\n",
    "    if laMsg4InP_l[-1]:\n",
    "      lo_s = laMsg4InP_l[-1].format(laInPValues_co - len(loRes_l), lo_s)\n",
    "      print(lo_s.rstrip('.') + '.', file=file)\n",
    "    # print(f'MSG: It remains to input {laInPValues_co - len(loRes_l)} more value{lo_s}.', file=file)\n",
    "  return tuple(loRes_l)\n",
    "\n",
    "print(inp_FltAVali_fefi(laWhatInPMsg_s=' Any Float', laInPValues_co=2, laInPTypeFlt_cll=float,\n",
    "    laMaxInPTry_co=1))\n",
    "print(inp_FltAVali_fefi(' x', laValiInPMsg_s='x in (1,2,3)',\n",
    "  laVali_cll=lambda x: x in (1,2,3))\n",
    "  )\n"
   ]
  },
  {
   "cell_type": "code",
   "execution_count": 12,
   "metadata": {},
   "outputs": [
    {
     "data": {
      "text/plain": [
       "False"
      ]
     },
     "execution_count": 12,
     "metadata": {},
     "output_type": "execute_result"
    }
   ],
   "source": [
    "callable('None')"
   ]
  },
  {
   "cell_type": "code",
   "execution_count": null,
   "metadata": {},
   "outputs": [],
   "source": [
    "@dataclass\n",
    "class Menu_c():\n",
    "\n",
    "  fOutMenuItm_d: dict = field(default_factory=dict) # OutVar: ItmFmt(_k=Key, _v=[Desc_s, _cll, ??Type_en:(AlwOut, ...)])\n",
    "  # fOutStt_d: dict = None # OutVar\n",
    "  fAppTtl_s: str = ''\n",
    "  fPrnOutStt_cll: Callable = None # OutVar # [self, file]; ??(Slv:NN)Df: IF fOutStt_d is !None -> print(fOutStt_d)\n",
    "  fIterSortKey_cll: Callable = None # [key] ??(Prop4Set): AsIn2fOutMenuItm_d OR (lambda _el: str(_el))|int\n",
    "  fHeaFmt_s: str = None\n",
    "  fFooFmt_s: str = None\n",
    "  fItmFmt_s: str = '{_k!s:>2}. {_v[0]}'\n",
    "  fActHst_l: list = field(default_factory=list)\n",
    "  # 2Do: PP(Max(Col|Row)) 4 prn_fmp\n",
    "  fAFile4Prn_o: object = sys.stdout\n",
    "\n",
    "  def __post_init__(self):\n",
    "    if self.fHeaFmt_s is not None: self.fHeaFmt_s = str(self.fHeaFmt_s)\n",
    "    else:\n",
    "      self.fHeaFmt_s = glSep_s\n",
    "      if self.fAppTtl_s: self.fHeaFmt_s += f'\\n{self.fAppTtl_s}:'\n",
    "    if self.fFooFmt_s is not None: self.fFooFmt_s = str(self.fFooFmt_s)\n",
    "    else: self.fFooFmt_s = glSep_s[:len(glSep_s)//3 *2]\n",
    "    \n",
    "    self.fRunLoop_b = bool(self.fOutMenuItm_d)\n",
    "    self.fInP_s, self.fInP_k = None, None\n",
    "    if self.fActHst_l is not None:\n",
    "      self.fActHst_l.append((time.time_ns(), 'Inn', '__post_init__', True))\n",
    "\n",
    "  def __iter__(self): # 2Do: MaB Onl WhiUse(prn_fmp)\n",
    "    if self.fIterSortKey_cll is None:\n",
    "      return (_k for _k in self.fOutMenuItm_d.keys())\n",
    "    return (_k for _k in sorted(self.fOutMenuItm_d.keys(), key=self.fIterSortKey_cll))\n",
    "\n",
    "  def __getitem__(self, key): # BOf:KISS\n",
    "    return self.fOutMenuItm_d[key]\n",
    "\n",
    "  def __len__(self): # BOf:KISS\n",
    "    return len(self.fOutMenuItm_d)\n",
    "\n",
    "  def __contains__(self, key): # BOf:KISS\n",
    "    return key in self.fOutMenuItm_d\n",
    "\n",
    "  # 2Do: MaB: oup_fmp(self, file=fAFile4Prn_o)\n",
    "  # 2Do: MaB Onl(9+KeyExit OR Fit2Scr+KeyExit) w/Set(sf.WhiVieItmKey_l)\n",
    "  def prn_fmp(self, file=fAFile4Prn_o):\n",
    "    if bool(self.fOutMenuItm_d):\n",
    "      if self.fHeaFmt_s != '': print(self.fHeaFmt_s, file=file)\n",
    "      print(*(self.fItmFmt_s.format(_k=_k, _v=self[_k]) for _k in self),\n",
    "          sep='\\n', file=file)\n",
    "      self.prn_Info_fmp(file=file)\n",
    "      if self.fFooFmt_s != '': print(self.fFooFmt_s, file=file)\n",
    "\n",
    "  # 2Do: __str__(self), __format__, tVieHst_fmp\n",
    "  def prn_Info_fmp(self, file=fAFile4Prn_o):\n",
    "    if self.fPrnOutStt_cll and callable(self.fPrnOutStt_cll):\n",
    "      self.fPrnOutStt_cll(self, file=file)\n",
    "\n",
    "  # 2Do: add_Itms?_ffm(self), del_Itms?_ffpm(self), def get_Keys?_ffpm(self):\n",
    "  # ??run_ffpm(self):\n",
    "  def __call__(self, file=fAFile4Prn_o): # MainLoop\n",
    "    if self.fActHst_l is not None:\n",
    "      self.fActHst_l.append((time.time_ns(), 'Inn', 'Beg:MainLoop', True))\n",
    "    while self.fRunLoop_b:\n",
    "      self.prn_fmp(file=file)\n",
    "      self.fInP_s, self.fInP_k = None, None # ??&| In2__post_init__\n",
    "      self.fInP_s = inp_FltAVali_fefi(f' пункт меню', laInPTypeFlt_cll=None,\n",
    "          file=file)[0].strip()\n",
    "      if self.fInP_s in self:\n",
    "        self.fInP_k = self.fInP_s\n",
    "      else:\n",
    "        try: self.fInP_k = int(self.fInP_s)\n",
    "        except ValueError as le_o: self.fInP_k = None\n",
    "        else:\n",
    "          if self.fInP_k not in self: self.fInP_k = None\n",
    "      if self.fInP_k is not None:\n",
    "        lo_cll = self[self.fInP_k][1]\n",
    "        if lo_cll is None: # 2Do:??AddHst\n",
    "          print(f'DVL: None 4 calling Fu() пункт меню({self.fInP_k})', file=file)\n",
    "          continue\n",
    "        else:\n",
    "          loRes_a = lo_cll(self, file=file)\n",
    "          if self.fActHst_l is not None:\n",
    "            self.fActHst_l.append((time.time_ns(), 'InP',\n",
    "                f'({self.fInP_s})' + self[self.fInP_k][0], loRes_a))\n",
    "      else:\n",
    "          print(f'MSG: Неверный пункт меню({self.fInP_s})', file=file) # 2Do:??AddHst\n",
    "    else:\n",
    "      if self.fHeaFmt_s != '': print(self.fHeaFmt_s, file=file)\n",
    "      print('До свидания!', file=file)\n",
    "      if self.fActHst_l is not None:\n",
    "        self.fActHst_l.append((time.time_ns(), 'Inn', 'End:MainLoop', True))\n",
    "      if self.fFooFmt_s != '': print(self.fFooFmt_s, file=file)\n",
    "\n",
    "    return self.fActHst_l\n"
   ]
  },
  {
   "cell_type": "code",
   "execution_count": 2,
   "metadata": {},
   "outputs": [
    {
     "name": "stdout",
     "output_type": "stream",
     "text": [
      "(1655977149789138500, 'Inn', '__post_init__', True)\n",
      "(1655977149789138500, 'Inn', 'Beg:MainLoop', True)\n",
      "(1655977622240934900, 'InP', '(Б)Мой банковский счет', [(1655977154499235200, 'Inn', '__post_init__', True), (1655977154499235200, 'Inn', 'Beg:MainLoop', True), (1655977161600854500, 'InP', '(1)Пополнение счета', 100.0), (1655977228192579300, 'InP', '(2)Покупка', ('Еда', 55.5)), (1655977248709705300, 'InP', '(2)Покупка', (None, 55.5)), (1655977256206115300, 'InP', '(2)Покупка', ('Еда', 44.5)), (1655977258495373500, 'InP', '(3)История покупок', (0.0, 2)), (1655977622238932600, 'InP', '(4)Выход', None), (1655977622239938800, 'Inn', 'End:MainLoop', True)])\n",
      "(1655977705911594500, 'InP', '(Ы)Выход', None)\n",
      "(1655977705912593100, 'Inn', 'End:MainLoop', True)\n"
     ]
    }
   ],
   "source": [
    "print(*[(1655977149789138500, 'Inn', '__post_init__', True), (1655977149789138500, 'Inn', 'Beg:MainLoop', True), (1655977622240934900, 'InP', '(Б)Мой банковский счет', [(1655977154499235200, 'Inn', '__post_init__', True), (1655977154499235200, 'Inn', 'Beg:MainLoop', True), (1655977161600854500, 'InP', '(1)Пополнение счета', 100.0), (1655977228192579300, 'InP', '(2)Покупка', ('Еда', 55.5)), (1655977248709705300, 'InP', '(2)Покупка', (None, 55.5)), (1655977256206115300, 'InP', '(2)Покупка', ('Еда', 44.5)), (1655977258495373500, 'InP', '(3)История покупок', (0.0, 2)), (1655977622238932600, 'InP', '(4)Выход', None), (1655977622239938800, 'Inn', 'End:MainLoop', True)]), (1655977705911594500, 'InP', '(Ы)Выход', None), (1655977705912593100, 'Inn', 'End:MainLoop', True)], sep='\\n')"
   ]
  }
 ],
 "metadata": {
  "kernelspec": {
   "display_name": "Python 3.10.4 ('PyDev')",
   "language": "python",
   "name": "python3"
  },
  "language_info": {
   "codemirror_mode": {
    "name": "ipython",
    "version": 3
   },
   "file_extension": ".py",
   "mimetype": "text/x-python",
   "name": "python",
   "nbconvert_exporter": "python",
   "pygments_lexer": "ipython3",
   "version": "3.10.4"
  },
  "orig_nbformat": 4,
  "vscode": {
   "interpreter": {
    "hash": "80293c70213cf7c3ccbcfb7e8993bc81b05a4697583b0e801800b9f0611eee6b"
   }
  }
 },
 "nbformat": 4,
 "nbformat_minor": 2
}
