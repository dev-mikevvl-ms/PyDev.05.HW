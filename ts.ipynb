{
 "cells": [
  {
   "cell_type": "markdown",
   "metadata": {},
   "source": [
    "### W(import)"
   ]
  },
  {
   "cell_type": "code",
   "execution_count": 1,
   "metadata": {},
   "outputs": [],
   "source": [
    "import copy, os, shutil, sys\n",
    "from mod.MVVlStd import (glSep_s, mInP_FltAVali_fefi, mMenu_c, mSupportsWrite_ca,\n",
    "    mChe_ExsPath_ff, mCre_AbsPath_ff)\n",
    "import mod.victory, mod.MyBankAcc\n",
    "# from __future__ import annotations\n",
    "# from typing import Ty\n",
    "# sorted() SupportsRichComparison\n",
    "import itertools as itts\n",
    "# import operator as op\n",
    "# import functools as futs # Upd\n"
   ]
  },
  {
   "cell_type": "code",
   "execution_count": 243,
   "metadata": {},
   "outputs": [
    {
     "data": {
      "text/plain": [
       "('1222',)"
      ]
     },
     "execution_count": 243,
     "metadata": {},
     "output_type": "execute_result"
    }
   ],
   "source": [
    "mod.MVVlStd.mInP_FltAVali_fefi('Ts', laInPTypeFlt_cll=None)"
   ]
  },
  {
   "cell_type": "code",
   "execution_count": 4,
   "metadata": {},
   "outputs": [
    {
     "name": "stdout",
     "output_type": "stream",
     "text": [
      "D:\\Doc\\Dvl\\Prj\\Py\\Stu\\PyDev\\05\\HW 'D:\\\\Doc\\\\Dvl\\\\Prj\\\\Py\\\\Stu\\\\PyDev\\\\05\\\\HW'\n"
     ]
    }
   ],
   "source": [
    "teCurDir_s = os.path.realpath(os.curdir)\n",
    "print(teCurDir_s, f'{teCurDir_s!r}')\n"
   ]
  },
  {
   "cell_type": "code",
   "execution_count": 5,
   "metadata": {},
   "outputs": [
    {
     "name": "stdout",
     "output_type": "stream",
     "text": [
      "ТекДиректория:(), All:0\n"
     ]
    }
   ],
   "source": [
    "# mStt_d = dict(kStkDir_llist[str]=[], kDirEntry_t:tuple[os.DirEntry]=None,\n",
    "# kTSum_t:tuple(Fi_i, Dir_i, !(Fi|Di)_i, SLnk_i)=None,\n",
    "# kPreSrtByTyT_t:tuple[tuple[Na_s, Ty_s2:'[DF~][L ]]]=None)\n",
    "mStt_d = dict(kStkDir_l=[], kDirEntry_t=None, kTSum_t=None, kPreSrtByTyT_t=None)\n",
    "\n",
    "def mFll_Stt_fe(laNewDir_s=None, laSortKey_cll=lambda _el: _el.name.upper(),\n",
    "                     laScan_b:bool=True):\n",
    "  if laNewDir_s is None: laNewDir_s = os.curdir # Init|RScan\n",
    "  loDir_s = os.path.realpath(laNewDir_s)\n",
    "  if not os.path.exists(loDir_s):\n",
    "    raise FileNotFoundError(2, f'Dir:({loDir_s}) not exist.')\n",
    "    # raise FileNotFoundError(2, f'Dir:({loDir_s}) not exist.', 3)\n",
    "  if not os.path.isdir(loDir_s):\n",
    "    raise NotADirectoryError(f'On path:({loDir_s}) exist not directory.')\n",
    "\n",
    "  if (not bool(mStt_d['kStkDir_l'])) or (mStt_d['kStkDir_l'][-1] != loDir_s):\n",
    "    mStt_d['kStkDir_l'].append(loDir_s)\n",
    "    laScan_b = laScan_b or True\n",
    "  else: pass # SameDir\n",
    "\n",
    "  if (laScan_b or mStt_d['kDirEntry_t'] is None or mStt_d['kTSum_t'] is None\n",
    "      or mStt_d['kPreSrtByTyT_t'] is None):\n",
    "    if callable(laSortKey_cll):\n",
    "      mStt_d['kDirEntry_t'] = tuple(sorted(os.scandir(loDir_s), key=laSortKey_cll))\n",
    "    else:\n",
    "      mStt_d['kDirEntry_t'] = tuple(os.scandir(loDir_s))\n",
    "\n",
    "    loTIt_t = itts.tee(((_el.name, _el.is_file(), _el.is_dir(), _el.is_symlink())\n",
    "                        for _el in mStt_d['kDirEntry_t']), 5)\n",
    "    mStt_d['kTSum_t'] = (sum(_el[1] for _el in loTIt_t[0]), sum(_el[2] for _el in loTIt_t[1]),\n",
    "        sum((not _el[1] and not _el[2]) for _el in loTIt_t[2]), sum(_el[3] for _el in loTIt_t[3]))\n",
    "    lo_it = ((_el[0], (('F' if _el[1] else '') or ('D' if _el[2] else '') or \"~\"), # Srt:DF~, LsPrintableSbl(ASCII):~\n",
    "                   ('L' if _el[3] else ' ')) for _el in loTIt_t[4])\n",
    "    mStt_d['kPreSrtByTyT_t'] = tuple((_el[0], (_el[1] + _el[2])) for _el in sorted(lo_it, key=lambda _el: _el[1]))\n",
    "\n",
    "def mOuP_Stt_fmp(laSf_o:mMenu_c, file:mSupportsWrite_ca=sys.stdout):\n",
    "  lo_s = \"ТекДиректория:({}), \"\n",
    "  if mStt_d['kDirEntry_t'] is None: lo_s = lo_s.format('')\n",
    "  else: lo_s = lo_s.format(mStt_d['kStkDir_l'][-1])\n",
    "  if mStt_d['kDirEntry_t'] is None:\n",
    "    lo_s += f\"All:0\"\n",
    "  elif mStt_d['kTSum_t'] is None:\n",
    "    lo_s += f\"All:{len(mStt_d['kDirEntry_t'])}\"\n",
    "  else:\n",
    "    lo_s += (f\"(All,File,Dir,Oth,+SLink):({len(mStt_d['kDirEntry_t'])},\" +\n",
    "       ','.join(str(_el) for _el in mStt_d['kTSum_t']) + ')')\n",
    "       \n",
    "  print(lo_s, file=file)\n",
    "  # if mStt_d['kPreSrtByTyT_t'] is not None:\n",
    "  #   print(mStt_d['kPreSrtByTyT_t'])\n",
    "  # print(f\"kRtDir_s={mStt_d['kRtDir_s']}, kCurRelDir_s={mStt_d['kCurRelDir_s']}\",\n",
    "  #     lo_s, sep=', ', file=file)\"\"\n",
    "  # tNL_s = '\\n'\n",
    "  # print(f\"{tNL_s.join((str(_el) for _el in mStt_d['kDirEntry_t']))}\")\n",
    "  # print(tNL_s.join((str(_el) for _el in mStt_d['kDirEntry_t'])))\n",
    "mOuP_Stt_fmp(None)\n"
   ]
  },
  {
   "cell_type": "code",
   "execution_count": 22,
   "metadata": {},
   "outputs": [
    {
     "data": {
      "text/plain": [
       "(2, 4, 6)"
      ]
     },
     "execution_count": 22,
     "metadata": {},
     "output_type": "execute_result"
    }
   ],
   "source": [
    "t_it = iter(range(16))\n",
    "tuple(itts.islice(t_it, 2, 7, 2))"
   ]
  },
  {
   "cell_type": "code",
   "execution_count": 18,
   "metadata": {},
   "outputs": [
    {
     "name": "stdout",
     "output_type": "stream",
     "text": [
      "ТекДиректория:(D:\\Doc\\Dvl\\Prj\\Py\\Stu\\PyDev\\05\\HW\\ts), (All,File,Dir,Oth,+SLink):(6,3,2,1,2)\n",
      "\n",
      "('kStkDir_l', ['D:\\\\Doc\\\\Dvl\\\\Prj\\\\Py\\\\Stu\\\\PyDev\\\\05\\\\HW', 'D:\\\\Doc\\\\Dvl\\\\Prj\\\\Py\\\\Stu\\\\PyDev\\\\05\\\\HW\\\\ts'])\n",
      "('kDirEntry_t', (<DirEntry 'LICENSE'>, <DirEntry 'mod'>, <DirEntry 'README.md'>, <DirEntry 'ts.txt'>, <DirEntry 'Ts1'>, <DirEntry 'ts1.py'>))\n",
      "('kTSum_t', (3, 2, 1, 2))\n",
      "('kPreSrtByTyT_t', (('mod', 'DL'), ('Ts1', 'D '), ('LICENSE', 'F '), ('README.md', 'F '), ('ts1.py', 'F '), ('ts.txt', '~L')))\n",
      "D:\\Doc\\Dvl\\Prj\\Py\\Stu\\PyDev\\05\\HW\n",
      "'D:\\\\Doc\\\\Dvl\\\\Prj\\\\Py\\\\Stu\\\\PyDev\\\\05\\\\HW'\n",
      "\n",
      "ТекДиректория:(D:\\Doc\\Dvl\\Prj\\Py\\Stu\\PyDev\\05\\HW), (All,File,Dir,Oth,+SLink):(11,7,4,0,0)\n",
      "\n",
      "('kStkDir_l', ['D:\\\\Doc\\\\Dvl\\\\Prj\\\\Py\\\\Stu\\\\PyDev\\\\05\\\\HW', 'D:\\\\Doc\\\\Dvl\\\\Prj\\\\Py\\\\Stu\\\\PyDev\\\\05\\\\HW\\\\ts', 'D:\\\\Doc\\\\Dvl\\\\Prj\\\\Py\\\\Stu\\\\PyDev\\\\05\\\\HW'])\n",
      "('kDirEntry_t', (<DirEntry '.git'>, <DirEntry '.gitignore'>, <DirEntry 'filemanager.py'>, <DirEntry 'LICENSE'>, <DirEntry 'mod'>, <DirEntry 'README.md'>, <DirEntry 'tmp'>, <DirEntry 'ts'>, <DirEntry 'ts.ipynb'>, <DirEntry 'ts.tar'>, <DirEntry 'ts1.py'>))\n",
      "('kTSum_t', (7, 4, 0, 0))\n",
      "('kPreSrtByTyT_t', (('.git', 'D '), ('mod', 'D '), ('tmp', 'D '), ('ts', 'D '), ('.gitignore', 'F '), ('filemanager.py', 'F '), ('LICENSE', 'F '), ('README.md', 'F '), ('ts.ipynb', 'F '), ('ts.tar', 'F '), ('ts1.py', 'F ')))\n",
      "D:\\Doc\\Dvl\\Prj\\Py\\Stu\\PyDev\\05\\HW\n",
      "'D:\\\\Doc\\\\Dvl\\\\Prj\\\\Py\\\\Stu\\\\PyDev\\\\05\\\\HW'\n",
      "\n",
      "ТекДиректория:(D:\\Doc\\Dvl\\Prj\\Py\\Stu\\PyDev\\05\\HW\\ts), (All,File,Dir,Oth,+SLink):(9,6,2,1,2)\n",
      "\n",
      "('kStkDir_l', ['D:\\\\Doc\\\\Dvl\\\\Prj\\\\Py\\\\Stu\\\\PyDev\\\\05\\\\HW', 'D:\\\\Doc\\\\Dvl\\\\Prj\\\\Py\\\\Stu\\\\PyDev\\\\05\\\\HW\\\\ts', 'D:\\\\Doc\\\\Dvl\\\\Prj\\\\Py\\\\Stu\\\\PyDev\\\\05\\\\HW', 'D:\\\\Doc\\\\Dvl\\\\Prj\\\\Py\\\\Stu\\\\PyDev\\\\05\\\\HW\\\\ts'])\n",
      "('kDirEntry_t', (<DirEntry 'LICENSE'>, <DirEntry 'lll'>, <DirEntry 'mod'>, <DirEntry 'README.md'>, <DirEntry 'ts.txt'>, <DirEntry 'Ts1'>, <DirEntry 'ts1.py'>, <DirEntry 'ttt.txt'>, <DirEntry 'x'>))\n",
      "('kTSum_t', (6, 2, 1, 2))\n",
      "('kPreSrtByTyT_t', (('mod', 'DL'), ('Ts1', 'D '), ('LICENSE', 'F '), ('lll', 'F '), ('README.md', 'F '), ('ts1.py', 'F '), ('ttt.txt', 'F '), ('x', 'F '), ('ts.txt', '~L')))\n",
      "D:\\Doc\\Dvl\\Prj\\Py\\Stu\\PyDev\\05\\HW\n",
      "'D:\\\\Doc\\\\Dvl\\\\Prj\\\\Py\\\\Stu\\\\PyDev\\\\05\\\\HW'\n",
      "\n",
      "ТекДиректория:(D:\\Doc\\Dvl\\Prj\\Py\\Stu\\PyDev\\05\\HW\\ts), (All,File,Dir,Oth,+SLink):(9,6,2,1,2)\n",
      "\n",
      "('kStkDir_l', ['D:\\\\Doc\\\\Dvl\\\\Prj\\\\Py\\\\Stu\\\\PyDev\\\\05\\\\HW', 'D:\\\\Doc\\\\Dvl\\\\Prj\\\\Py\\\\Stu\\\\PyDev\\\\05\\\\HW\\\\ts', 'D:\\\\Doc\\\\Dvl\\\\Prj\\\\Py\\\\Stu\\\\PyDev\\\\05\\\\HW', 'D:\\\\Doc\\\\Dvl\\\\Prj\\\\Py\\\\Stu\\\\PyDev\\\\05\\\\HW\\\\ts'])\n",
      "('kDirEntry_t', (<DirEntry 'LICENSE'>, <DirEntry 'lll'>, <DirEntry 'mod'>, <DirEntry 'README.md'>, <DirEntry 'ts.txt'>, <DirEntry 'Ts1'>, <DirEntry 'ts1.py'>, <DirEntry 'ttt.txt'>, <DirEntry 'x'>))\n",
      "('kTSum_t', (6, 2, 1, 2))\n",
      "('kPreSrtByTyT_t', (('mod', 'DL'), ('Ts1', 'D '), ('LICENSE', 'F '), ('lll', 'F '), ('README.md', 'F '), ('ts1.py', 'F '), ('ttt.txt', 'F '), ('x', 'F '), ('ts.txt', '~L')))\n",
      "D:\\Doc\\Dvl\\Prj\\Py\\Stu\\PyDev\\05\\HW\n",
      "'D:\\\\Doc\\\\Dvl\\\\Prj\\\\Py\\\\Stu\\\\PyDev\\\\05\\\\HW'\n",
      "\n"
     ]
    },
    {
     "ename": "FileNotFoundError",
     "evalue": "[Errno 2] Dir:(D:\\Doc\\Dvl\\Prj\\Py\\Stu\\PyDev\\05\\HW\\ts.txt) not exist.",
     "output_type": "error",
     "traceback": [
      "\u001b[1;31m---------------------------------------------------------------------------\u001b[0m",
      "\u001b[1;31mFileNotFoundError\u001b[0m                         Traceback (most recent call last)",
      "\u001b[1;32md:\\Doc\\Dvl\\Prj\\Py\\Stu\\PyDev\\05\\HW\\ts.ipynb Cell 7'\u001b[0m in \u001b[0;36m<cell line: 14>\u001b[1;34m()\u001b[0m\n\u001b[0;32m     <a href='vscode-notebook-cell:/d%3A/Doc/Dvl/Prj/Py/Stu/PyDev/05/HW/ts.ipynb#ch0000005?line=11'>12</a>\u001b[0m mOuP_Stt_fmp(\u001b[39mNone\u001b[39;00m)\n\u001b[0;32m     <a href='vscode-notebook-cell:/d%3A/Doc/Dvl/Prj/Py/Stu/PyDev/05/HW/ts.ipynb#ch0000005?line=12'>13</a>\u001b[0m \u001b[39mprint\u001b[39m(\u001b[39m'\u001b[39m\u001b[39m'\u001b[39m, \u001b[39m*\u001b[39m(mStt_d\u001b[39m.\u001b[39mitems()), os\u001b[39m.\u001b[39mpath\u001b[39m.\u001b[39mrealpath(os\u001b[39m.\u001b[39mcurdir), \u001b[39mf\u001b[39m\u001b[39m'\u001b[39m\u001b[39m{\u001b[39;00mos\u001b[39m.\u001b[39mpath\u001b[39m.\u001b[39mrealpath(os\u001b[39m.\u001b[39mcurdir)\u001b[39m!r}\u001b[39;00m\u001b[39m'\u001b[39m, \u001b[39m'\u001b[39m\u001b[39m'\u001b[39m, sep\u001b[39m=\u001b[39m\u001b[39m'\u001b[39m\u001b[39m\\n\u001b[39;00m\u001b[39m'\u001b[39m)\n\u001b[1;32m---> <a href='vscode-notebook-cell:/d%3A/Doc/Dvl/Prj/Py/Stu/PyDev/05/HW/ts.ipynb#ch0000005?line=13'>14</a>\u001b[0m mFll_Stt_fe(os\u001b[39m.\u001b[39;49mpath\u001b[39m.\u001b[39;49mjoin(tTsDir_s, tTsFi_s))\n\u001b[0;32m     <a href='vscode-notebook-cell:/d%3A/Doc/Dvl/Prj/Py/Stu/PyDev/05/HW/ts.ipynb#ch0000005?line=14'>15</a>\u001b[0m mOuP_Stt_fmp(\u001b[39mNone\u001b[39;00m)\n\u001b[0;32m     <a href='vscode-notebook-cell:/d%3A/Doc/Dvl/Prj/Py/Stu/PyDev/05/HW/ts.ipynb#ch0000005?line=15'>16</a>\u001b[0m \u001b[39mprint\u001b[39m(\u001b[39m'\u001b[39m\u001b[39m'\u001b[39m, \u001b[39m*\u001b[39m(mStt_d\u001b[39m.\u001b[39mitems()), os\u001b[39m.\u001b[39mpath\u001b[39m.\u001b[39mrealpath(os\u001b[39m.\u001b[39mcurdir), \u001b[39mf\u001b[39m\u001b[39m'\u001b[39m\u001b[39m{\u001b[39;00mos\u001b[39m.\u001b[39mpath\u001b[39m.\u001b[39mrealpath(os\u001b[39m.\u001b[39mcurdir)\u001b[39m!r}\u001b[39;00m\u001b[39m'\u001b[39m, \u001b[39m'\u001b[39m\u001b[39m'\u001b[39m, sep\u001b[39m=\u001b[39m\u001b[39m'\u001b[39m\u001b[39m\\n\u001b[39;00m\u001b[39m'\u001b[39m)\n",
      "\u001b[1;32md:\\Doc\\Dvl\\Prj\\Py\\Stu\\PyDev\\05\\HW\\ts.ipynb Cell 5'\u001b[0m in \u001b[0;36mmFll_Stt_fe\u001b[1;34m(laNewDir_s, laSortKey_cll, laScan_b)\u001b[0m\n\u001b[0;32m      <a href='vscode-notebook-cell:/d%3A/Doc/Dvl/Prj/Py/Stu/PyDev/05/HW/ts.ipynb#ch0000004?line=8'>9</a>\u001b[0m loDir_s \u001b[39m=\u001b[39m os\u001b[39m.\u001b[39mpath\u001b[39m.\u001b[39mrealpath(laNewDir_s)\n\u001b[0;32m     <a href='vscode-notebook-cell:/d%3A/Doc/Dvl/Prj/Py/Stu/PyDev/05/HW/ts.ipynb#ch0000004?line=9'>10</a>\u001b[0m \u001b[39mif\u001b[39;00m \u001b[39mnot\u001b[39;00m os\u001b[39m.\u001b[39mpath\u001b[39m.\u001b[39mexists(loDir_s):\n\u001b[1;32m---> <a href='vscode-notebook-cell:/d%3A/Doc/Dvl/Prj/Py/Stu/PyDev/05/HW/ts.ipynb#ch0000004?line=10'>11</a>\u001b[0m   \u001b[39mraise\u001b[39;00m \u001b[39mFileNotFoundError\u001b[39;00m(\u001b[39m2\u001b[39m, \u001b[39mf\u001b[39m\u001b[39m'\u001b[39m\u001b[39mDir:(\u001b[39m\u001b[39m{\u001b[39;00mloDir_s\u001b[39m}\u001b[39;00m\u001b[39m) not exist.\u001b[39m\u001b[39m'\u001b[39m)\n\u001b[0;32m     <a href='vscode-notebook-cell:/d%3A/Doc/Dvl/Prj/Py/Stu/PyDev/05/HW/ts.ipynb#ch0000004?line=11'>12</a>\u001b[0m   \u001b[39m# raise FileNotFoundError(2, f'Dir:({loDir_s}) not exist.', 3)\u001b[39;00m\n\u001b[0;32m     <a href='vscode-notebook-cell:/d%3A/Doc/Dvl/Prj/Py/Stu/PyDev/05/HW/ts.ipynb#ch0000004?line=12'>13</a>\u001b[0m \u001b[39mif\u001b[39;00m \u001b[39mnot\u001b[39;00m os\u001b[39m.\u001b[39mpath\u001b[39m.\u001b[39misdir(loDir_s):\n",
      "\u001b[1;31mFileNotFoundError\u001b[0m: [Errno 2] Dir:(D:\\Doc\\Dvl\\Prj\\Py\\Stu\\PyDev\\05\\HW\\ts.txt) not exist."
     ]
    }
   ],
   "source": [
    "tTsDir_s, tTsFi_s = r'ts', r'ts.txt'\n",
    "# tTsDir_s, tTsFi_s = r'ts', r'ts'\n",
    "mOuP_Stt_fmp(None)\n",
    "print('', *(mStt_d.items()), os.path.realpath(os.curdir), f'{os.path.realpath(os.curdir)!r}', '', sep='\\n')\n",
    "mFll_Stt_fe()\n",
    "mOuP_Stt_fmp(None)\n",
    "print('', *(mStt_d.items()), os.path.realpath(os.curdir), f'{os.path.realpath(os.curdir)!r}', '', sep='\\n')\n",
    "mFll_Stt_fe(tTsDir_s)\n",
    "mOuP_Stt_fmp(None)\n",
    "print('', *(mStt_d.items()), os.path.realpath(os.curdir), f'{os.path.realpath(os.curdir)!r}', '', sep='\\n')\n",
    "mFll_Stt_fe(tTsDir_s, laScan_b=[])\n",
    "mOuP_Stt_fmp(None)\n",
    "print('', *(mStt_d.items()), os.path.realpath(os.curdir), f'{os.path.realpath(os.curdir)!r}', '', sep='\\n')\n",
    "mFll_Stt_fe(os.path.join(tTsDir_s, tTsFi_s))\n",
    "mOuP_Stt_fmp(None)\n",
    "print('', *(mStt_d.items()), os.path.realpath(os.curdir), f'{os.path.realpath(os.curdir)!r}', '', sep='\\n')\n"
   ]
  },
  {
   "cell_type": "code",
   "execution_count": 48,
   "metadata": {},
   "outputs": [
    {
     "data": {
      "text/plain": [
       "' 2. (~L) <ts.txt>'"
      ]
     },
     "execution_count": 48,
     "metadata": {},
     "output_type": "execute_result"
    }
   ],
   "source": [
    "'{2!s:>2}. ({1}) <{0}>'.format(*mStt_d['kPreSrtByTyT_t'][-1], 2)\n"
   ]
  },
  {
   "cell_type": "code",
   "execution_count": 42,
   "metadata": {},
   "outputs": [
    {
     "name": "stdout",
     "output_type": "stream",
     "text": [
      " 2. (F ) <LICENSE>\n",
      " 3. (F ) <README.md>\n",
      " 4. (F ) <ts1.py>\n",
      " 5. (~L) <ts.txt>\n",
      "--------------------------------\n",
      " 0. (F ) <LICENSE>\n",
      " 1. (F ) <README.md>\n",
      " 2. (F ) <ts1.py>\n",
      "ТекДиректория:(D:\\Doc\\Dvl\\Prj\\Py\\Stu\\PyDev\\05\\HW\\ts), (All,File,Dir,SLink):(6,3,2,1,2)\n"
     ]
    }
   ],
   "source": [
    "print(*(f'{_ix!s:>2}. ({_el[1]}) <{_el[0]}>' for _ix, _el\n",
    "     in enumerate(mStt_d['kPreSrtByTyT_t'], 0) if _el[1][0] in 'F~'), '-' *32,\n",
    "     *(f'{_ix!s:>2}. {_s}' for _ix, _s in enumerate(f'({_el[1]}) <{_el[0]}>' for _el\n",
    "     in mStt_d['kPreSrtByTyT_t'] if _el[1][0] == 'F')), sep='\\n')\n",
    "mOuP_Stt_fmp(None)\n",
    "'({1}) <{0}>'.format(*mStt_d['kPreSrtByTyT_t'][0])"
   ]
  },
  {
   "cell_type": "code",
   "execution_count": 17,
   "metadata": {},
   "outputs": [
    {
     "name": "stdout",
     "output_type": "stream",
     "text": [
      "3\n",
      "LICENSE\n",
      "README.md\n",
      "ts1.py\n"
     ]
    }
   ],
   "source": [
    "sum(mStt_d['kTSum_t'])\n",
    "if (loCo_i:=mStt_d['kTSum_t'][0]) != 0:\n",
    "  print(loCo_i, *(_el.name for _el in mStt_d['kDirEntry_t']\n",
    "   if _el.is_file(follow_symlinks=False)), sep='\\n')"
   ]
  },
  {
   "cell_type": "code",
   "execution_count": 55,
   "metadata": {},
   "outputs": [
    {
     "data": {
      "text/plain": [
       "((' 0. <mod>', ' 1. <ts.txt>'), 2)"
      ]
     },
     "execution_count": 55,
     "metadata": {},
     "output_type": "execute_result"
    }
   ],
   "source": [
    "# mFll_Stt_fe(mStt_d['kStkDir_l'][-2])\n",
    "tCurEdge_ix = 0\n",
    "t_t = tuple(f'{_ix!s:>2}. <{_el.name}>' for _ix, _el in enumerate((_el for _el in mStt_d['kDirEntry_t'] if _el.is_symlink()), tCurEdge_ix))\n",
    "t_t, tCur_ix + len(t_t)"
   ]
  },
  {
   "cell_type": "code",
   "execution_count": 44,
   "metadata": {},
   "outputs": [
    {
     "name": "stdout",
     "output_type": "stream",
     "text": [
      "(('LICENSE', 'Ф', ''), ('mod', 'Д', 'Л'), ('README.md', 'Ф', ''), ('ts.txt', '', 'Л'), ('Ts1', 'Д', ''), ('ts1.py', 'Ф', ''))\n",
      "('mod', False, False, False, True)\n",
      "('ts.txt', False, False, False, False)\n",
      "('mod', 'Д', 'Л')\n",
      "('Ts1', 'Д', '')\n",
      "('LICENSE', 'Ф', '')\n",
      "('README.md', 'Ф', '')\n",
      "('ts1.py', 'Ф', '')\n",
      "('ts.txt', 'я', 'Л')\n"
     ]
    },
    {
     "data": {
      "text/plain": [
       "((3, 1, 2), 1, None)"
      ]
     },
     "execution_count": 44,
     "metadata": {},
     "output_type": "execute_result"
    }
   ],
   "source": [
    "t_t = tuple((_el.name, (('Ф' if _el.is_file(follow_symlinks=True) else '') +\n",
    "        ('Д' if _el.is_dir(follow_symlinks=True) else '')),\n",
    "        ('Л' if _el.is_symlink() else '')) for _el in mStt_d['kDirEntry_t'])\n",
    "t_t = tuple((_el.name, (('Ф' if _el.is_file(follow_symlinks=True) else '') +\n",
    "        ('Д' if _el.is_dir(follow_symlinks=True) else '')),\n",
    "        ('Л' if _el.is_symlink() else '')) for _el in mStt_d['kDirEntry_t'])\n",
    "print(t_t)\n",
    "# t_it = ((_el[0], (_el[1] if _el[1] else \"-\"), _el[2]) for _el in t_t)\n",
    "t_it = ((_el[0], (_el[1] if _el[1] else \"я\"), _el[2]) for _el in t_t)\n",
    "mStt_d['kTSum_t'], mStt_d['kTSum_t'][1],\\\n",
    "   print(*((_el.name, _el.is_file(follow_symlinks=False), _el.is_file(follow_symlinks=True), _el.is_dir(follow_symlinks=False),\n",
    "    _el.is_dir(follow_symlinks=True)) for _el in (_el for _el in mStt_d['kDirEntry_t'] if _el.is_symlink())), \n",
    "    *sorted(t_it, key=lambda _el: _el[1]), sep='\\n')"
   ]
  },
  {
   "cell_type": "code",
   "execution_count": 53,
   "metadata": {},
   "outputs": [
    {
     "name": "stdout",
     "output_type": "stream",
     "text": [
      "(('LICENSE', 'F', ' '), ('mod', 'D', 'L'), ('README.md', 'F', ' '), ('ts.txt', '', 'L'), ('Ts1', 'D', ' '), ('ts1.py', 'F', ' '))\n",
      "('mod', False, False, False, True)\n",
      "('ts.txt', False, False, False, False)\n",
      " 0. (DL) <mod>\n",
      " 1. (D ) <Ts1>\n",
      " 2. (F ) <LICENSE>\n",
      " 3. (F ) <README.md>\n",
      " 4. (F ) <ts1.py>\n",
      " 5. (-L) <ts.txt>\n"
     ]
    },
    {
     "data": {
      "text/plain": [
       "((3, 1, 2), 1, None)"
      ]
     },
     "execution_count": 53,
     "metadata": {},
     "output_type": "execute_result"
    }
   ],
   "source": [
    "t_t = tuple((_el.name, (('F' if _el.is_file(follow_symlinks=True) else '') +\n",
    "        ('D' if _el.is_dir(follow_symlinks=True) else '')),\n",
    "        ('L' if _el.is_symlink() else ' ')) for _el in mStt_d['kDirEntry_t'])\n",
    "# t_t = tuple((_el.name, (('Ф' if _el.is_file(follow_symlinks=True) else '') +\n",
    "#         ('Д' if _el.is_dir(follow_symlinks=True) else '')),\n",
    "#         ('Л' if _el.is_symlink() else '')) for _el in mStt_d['kDirEntry_t'])\n",
    "print(t_t)\n",
    "t_it = ((_el.name, (('F' if _el.is_file(follow_symlinks=True) else '') or\n",
    "        ('D' if _el.is_dir(follow_symlinks=True) else '') or \"z\"),\n",
    "        ('L' if _el.is_symlink() else ' ')) for _el in mStt_d['kDirEntry_t'])\n",
    "# t_it = ((_el[0], (_el[1] if _el[1] else \"-\"), _el[2]) for _el in t_t)\n",
    "# t_it = ((_el[0], (_el[1] if _el[1] else \"z\"), _el[2]) for _el in t_t)\n",
    "# t_it = ((_el[0], (_el[1] if _el[1] else \"ЯЯ\"), _el[2]) for _el in t_t)\n",
    "mStt_d['kTSum_t'], mStt_d['kTSum_t'][1],\\\n",
    "   print(*((_el.name, _el.is_file(follow_symlinks=False), _el.is_file(follow_symlinks=True), _el.is_dir(follow_symlinks=False),\n",
    "    _el.is_dir(follow_symlinks=True)) for _el in (_el for _el in mStt_d['kDirEntry_t'] if _el.is_symlink())), \n",
    "    *(f'{_ix!s:>2}. ({(_el[1] if _el[1] != \"z\" else \"-\") + _el[2]}) <{_el[0]}>' for _ix, _el\n",
    "     in enumerate(sorted(t_it, key=lambda _el: _el[1]), 0)), sep='\\n')"
   ]
  },
  {
   "cell_type": "code",
   "execution_count": 25,
   "metadata": {},
   "outputs": [
    {
     "data": {
      "text/plain": [
       "[('A', ('A', 'A', 'A', 'A')),\n",
       " ('B', ('B', 'B', 'B')),\n",
       " ('C', ('C', 'C')),\n",
       " ('D', ('D',)),\n",
       " ('A', ('A', 'A')),\n",
       " ('B', ('B', 'B', 'B'))]"
      ]
     },
     "execution_count": 25,
     "metadata": {},
     "output_type": "execute_result"
    }
   ],
   "source": [
    "[(k, tuple(g)) for k, g in itts.groupby('AAAABBBCCDAABBB')]"
   ]
  },
  {
   "cell_type": "code",
   "execution_count": 45,
   "metadata": {},
   "outputs": [
    {
     "name": "stdout",
     "output_type": "stream",
     "text": [
      "In Dir:(D:\\Doc\\Dvl\\Prj\\Py\\Stu\\PyDev\\05\\HW\\ts):\n",
      "================================\n",
      "Fmt(<name>)\n",
      "\tFiles:\n",
      " 0. <LICENSE>\n",
      " 1. <README.md>\n",
      " 2. <ts1.py>\n",
      "--------------------------------\n",
      "\tDirectories:\n",
      " 3. <mod>\n",
      " 4. <Ts1>\n",
      "--------------------------------\n",
      "\tSoftlink:\n",
      " 0. (F) <LICENSE>\n",
      " 1. (DL) <mod>\n",
      " 2. (F) <README.md>\n",
      " 3. (-L) <ts.txt>\n",
      " 4. (D) <Ts1>\n",
      " 5. (F) <ts1.py>\n",
      "================================\n"
     ]
    }
   ],
   "source": [
    "# def mA_Dvl_fm(laSf_o:mMenu_c, file:mSupportsWrite_ca=sys.stdout):\n",
    "#   raise OSError('ts')\n",
    "\n",
    "def mOuP_Vie_fmpt(laCo_i, laTDesc1OrM_t, laEl_it, laHea_s=None,\n",
    "    file:mSupportsWrite_ca=sys.stdout):\n",
    "  if laCo_i != 0:\n",
    "    if laHea_s is not None: print(laHea_s)\n",
    "    print('\\t' + (laTDesc1OrM_t[0] if laCo_i == 1 else laTDesc1OrM_t[1]) + \":\", file=file)\n",
    "    print(*laEl_it, sep='\\n', file=file)\n",
    "    return True\n",
    "  else: return False\n",
    "\n",
    "def mA_VieAll_fm(laSf_o:mMenu_c, file:mSupportsWrite_ca=sys.stdout):\n",
    "  loSepOuPSwi_b, loAll_i = None, sum(mStt_d['kTSum_t'])\n",
    "  lo_s = f\" in Dir:({mStt_d['kStkDir_l'][-1]})\"\n",
    "  if loAll_i == 0:\n",
    "    print(\"No files, directories or softlinks\" + lo_s + '.', file=file)\n",
    "  else:\n",
    "    print(\"I\" + lo_s[2:] + ':', '=' *32, sep='\\n', file=file)\n",
    "    # lo_it = (_el for _el in mStt_d['kDirEntry_t'] if _el.is_file(follow_symlinks=False))\n",
    "    # lo_it = (f'<{_el.name}>' for _el in lo_it)\n",
    "    loCur_ix, loHea_s, loCo_i = 0, \"Fmt(<name>)\", mStt_d['kTSum_t'][0]\n",
    "    lo_it = (_el for _el in mStt_d['kDirEntry_t'] if _el.is_file(follow_symlinks=True))\n",
    "    lo_b = mOuP_Vie_fmpt(loCo_i, ('File', 'Files'),\n",
    "        (f'{_ix!s:>2}. <{_el.name}>' for _ix, _el in enumerate(lo_it, loCur_ix)), loHea_s, file=file)\n",
    "\n",
    "    loSepOuPSwi_b = bool(loSepOuPSwi_b) or lo_b\n",
    "    loCur_ix += loCo_i\n",
    "    loHea_s, loCo_i = ('-' *32 if loSepOuPSwi_b else None), mStt_d['kTSum_t'][1]\n",
    "\n",
    "    lo_it = (_el for _el in mStt_d['kDirEntry_t'] if _el.is_dir(follow_symlinks=True))\n",
    "    # loSepOuPSwi_b = loSepOuPSwi_b or \n",
    "    lo_b = mOuP_Vie_fmpt(loCo_i, ('Directory', 'Directories'),\n",
    "        (f'{_ix!s:>2}. <{_el.name}>' for _ix, _el in enumerate(lo_it, loCur_ix)), loHea_s, file=file)\n",
    "\n",
    "    loSepOuPSwi_b = bool(loSepOuPSwi_b) or lo_b\n",
    "    loCur_ix += loCo_i\n",
    "    loCur_ix = 0\n",
    "    loHea_s, loCo_i = ('-' *32 if loSepOuPSwi_b else None), mStt_d['kTSum_t'][2]\n",
    "    lo_it = ((_el.name, (('F' if _el.is_file(follow_symlinks=True) else '') +\n",
    "        ('D' if _el.is_dir(follow_symlinks=True) else '')),\n",
    "        ('L' if _el.is_symlink() else '')) for _el in mStt_d['kDirEntry_t'])\n",
    "    lo_b = mOuP_Vie_fmpt(loCo_i, ('Softlink', 'Softlinks'),\n",
    "        (f'{_ix!s:>2}. ({(_el[1] if _el[1] else \"-\") + _el[2]}) <{_el[0]}>' for _ix, _el in enumerate(lo_it, loCur_ix)), loHea_s, file=file)\n",
    "    \n",
    "    loSepOuPSwi_b = bool(loSepOuPSwi_b) or lo_b\n",
    "    loCur_ix += loCo_i\n",
    "    print('=' *32, file=file)\n",
    "  return\n",
    "\n",
    "mA_VieAll_fm(None)"
   ]
  },
  {
   "cell_type": "code",
   "execution_count": 54,
   "metadata": {},
   "outputs": [
    {
     "name": "stdout",
     "output_type": "stream",
     "text": [
      "In Dir:(D:\\Doc\\Dvl\\Prj\\Py\\Stu\\PyDev\\05\\HW\\ts):\n",
      "================================\n",
      "All(Fmt:([DF~][L ]) <name>):\n",
      "(DL) <mod>\n",
      "(D ) <Ts1>\n",
      "(F ) <LICENSE>\n",
      "(F ) <README.md>\n",
      "(F ) <ts1.py>\n",
      "(~L) <ts.txt>\n",
      "================================\n"
     ]
    },
    {
     "data": {
      "text/plain": [
       "('(DL) <mod>',\n",
       " '(D ) <Ts1>',\n",
       " '(F ) <LICENSE>',\n",
       " '(F ) <README.md>',\n",
       " '(F ) <ts1.py>',\n",
       " '(~L) <ts.txt>')"
      ]
     },
     "execution_count": 54,
     "metadata": {},
     "output_type": "execute_result"
    }
   ],
   "source": [
    "mOuPSep_s = '=' *32\n",
    "\n",
    "def mOuP_Vie_fpt(laVie_t, laTDesc1OrMOrNo_t, laHea_s='Fmt:([DF~][L ]) <name>',\n",
    "    file:mSupportsWrite_ca=sys.stdout):\n",
    "  print(f\"In Dir:({mStt_d['kStkDir_l'][-1]}):\\n\" + mOuPSep_s)\n",
    "  loCo_i = len(laVie_t)\n",
    "  if loCo_i == 0:\n",
    "    print(laTDesc1OrMOrNo_t[-1] + '.' + mOuPSep_s, file=file)\n",
    "  else:\n",
    "    lo_s = (laTDesc1OrMOrNo_t[0] if loCo_i == 1 else laTDesc1OrMOrNo_t[1])\n",
    "    if laHea_s is not None: lo_s += f'({laHea_s})'\n",
    "    print(lo_s + \":\", file=file)\n",
    "    print(*laVie_t, mOuPSep_s, sep='\\n', file=file)\n",
    "    return True\n",
    "\n",
    "\n",
    "def mA_VieAll_fmf(laSf_o:mMenu_c, file:mSupportsWrite_ca=sys.stdout):\n",
    "  lo_t = tuple(f'({_el[1]}) <{_el[0]}>' for _el in mStt_d['kPreSrtByTyT_t'])\n",
    "  mOuP_Vie_fpt(lo_t, ('One', 'All', 'No files, directories or others'), file=file) \n",
    "  return lo_t\n",
    "mA_VieAll_fmf(None)"
   ]
  },
  {
   "cell_type": "code",
   "execution_count": 77,
   "metadata": {},
   "outputs": [
    {
     "name": "stdout",
     "output_type": "stream",
     "text": [
      ".name------------------------------\n",
      "LICENSE\n",
      "mod\n",
      "README.md\n",
      "ts.txt\n",
      "Ts1\n",
      "ts1.py\n",
      "\n",
      ".is_file(follow_symlinks=False)------------------------------\n",
      "LICENSE\n",
      "README.md\n",
      "ts1.py\n",
      "\n",
      ".is_dir(follow_symlinks=False)------------------------------\n",
      "Ts1\n",
      "\n",
      "is_symlink()------------------------------\n",
      "mod\n",
      "ts.txt\n",
      "\n",
      ".is_file(follow_symlinks=True)------------------------------\n",
      "LICENSE\n",
      "README.md\n",
      "ts.txt\n",
      "ts1.py\n",
      "\n",
      ".is_dir(follow_symlinks=True)------------------------------\n",
      "mod\n",
      "Ts1\n",
      "\n"
     ]
    }
   ],
   "source": [
    "'''\n",
    ".name------------------------------\n",
    "LICENSE\n",
    "mod\n",
    "README.md\n",
    "tmp\n",
    "ts.txt\n",
    "Ts1\n",
    "ts1.py\n",
    "ts_SL\n",
    "\n",
    ".is_file(follow_symlinks=False)------------------------------\n",
    "LICENSE\n",
    "README.md\n",
    "ts1.py\n",
    "\n",
    ".is_dir(follow_symlinks=False)------------------------------\n",
    "tmp\n",
    "Ts1\n",
    "\n",
    "is_symlink()------------------------------\n",
    "mod\n",
    "ts.txt\n",
    "ts_SL\n",
    "\n",
    ".is_file(follow_symlinks=True)------------------------------\n",
    "LICENSE\n",
    "README.md\n",
    "ts.txt\n",
    "ts1.py\n",
    "\n",
    ".is_dir(follow_symlinks=True)------------------------------\n",
    "mod\n",
    "tmp\n",
    "Ts1\n",
    "'''\n",
    "# ts_SL:RelSL(->'.'), mod:DL, ts.txt:AbsSL, tmp:AbsSL, ts1.py:HL\n",
    "tNL_s = '\\n'\n",
    "print('.name'+'-' *30,\n",
    "    *(_el.name for _el in mStt_d['kDirEntry_t']), '', sep='\\n')\n",
    "print('.is_file(follow_symlinks=False)'+'-' *30,\n",
    "    *(_el.name for _el in mStt_d['kDirEntry_t'] if _el.is_file(follow_symlinks=False)), '', sep='\\n')\n",
    "print('.is_dir(follow_symlinks=False)'+'-' *30,\n",
    "    *(_el.name for _el in mStt_d['kDirEntry_t'] if _el.is_dir(follow_symlinks=False)), '', sep='\\n')\n",
    "print('is_symlink()'+'-' *30, *(_el.name for _el in mStt_d['kDirEntry_t'] if _el.is_symlink()), '', sep='\\n')\n",
    "print('.is_file(follow_symlinks=True)'+'-' *30, *(_el.name for _el in mStt_d['kDirEntry_t'] if _el.is_file(follow_symlinks=True)), '', sep='\\n')\n",
    "print('.is_dir(follow_symlinks=True)'+'-' *30, *(_el.name for _el in mStt_d['kDirEntry_t'] if _el.is_dir(follow_symlinks=True)), '', sep='\\n')"
   ]
  },
  {
   "cell_type": "code",
   "execution_count": 95,
   "metadata": {},
   "outputs": [
    {
     "name": "stdout",
     "output_type": "stream",
     "text": [
      "(All,File,Dir,SLink):(6,3,1,2)\n"
     ]
    }
   ],
   "source": [
    "print(f\"(All,File,Dir,SLink):({len(mStt_d['kDirEntry_t'])},\", ','.join(str(_el) for _el in mStt_d['kTSum_t']), ')',sep='')"
   ]
  },
  {
   "cell_type": "code",
   "execution_count": 89,
   "metadata": {},
   "outputs": [
    {
     "ename": "ValueError",
     "evalue": "could not convert string to float: '1_00 0.33'",
     "output_type": "error",
     "traceback": [
      "\u001b[1;31m---------------------------------------------------------------------------\u001b[0m",
      "\u001b[1;31mValueError\u001b[0m                                Traceback (most recent call last)",
      "\u001b[1;32md:\\Doc\\Dvl\\Prj\\Py\\Stu\\PyDev\\05\\HW\\ts.ipynb Cell 7'\u001b[0m in \u001b[0;36m<cell line: 1>\u001b[1;34m()\u001b[0m\n\u001b[1;32m----> <a href='vscode-notebook-cell:/d%3A/Doc/Dvl/Prj/Py/Stu/PyDev/05/HW/ts.ipynb#ch0000026?line=0'>1</a>\u001b[0m \u001b[39mfloat\u001b[39;49m(\u001b[39m'\u001b[39;49m\u001b[39m1_00 0.33\u001b[39;49m\u001b[39m'\u001b[39;49m)\n",
      "\u001b[1;31mValueError\u001b[0m: could not convert string to float: '1_00 0.33'"
     ]
    }
   ],
   "source": [
    "float('1_000.33')"
   ]
  },
  {
   "cell_type": "code",
   "execution_count": 80,
   "metadata": {},
   "outputs": [
    {
     "name": "stdout",
     "output_type": "stream",
     "text": [
      "(('LICENSE', True, False, False), ('mod', False, False, True), ('README.md', True, False, False), ('ts.txt', False, False, True), ('Ts1', False, True, False), ('ts1.py', True, False, False)) 3 1 2\n"
     ]
    }
   ],
   "source": [
    "t_t = tuple((_el.name, _el.is_file(follow_symlinks=False), _el.is_dir(follow_symlinks=False), _el.is_symlink())\n",
    " for _el in mStt_d['kDirEntry_t'])\n",
    "print(t_t, sum(_el[1] for _el in t_t), sum(_el[2] for _el in t_t), sum(_el[3] for _el in t_t))"
   ]
  },
  {
   "cell_type": "code",
   "execution_count": 74,
   "metadata": {},
   "outputs": [
    {
     "data": {
      "text/plain": [
       "os.stat_result(st_mode=41471, st_ino=0, st_dev=0, st_nlink=0, st_uid=0, st_gid=0, st_size=0, st_atime=1656140794, st_mtime=1656140794, st_ctime=1656140794)"
      ]
     },
     "execution_count": 74,
     "metadata": {},
     "output_type": "execute_result"
    }
   ],
   "source": [
    "mStt_d['kDirEntry_t'][-1].stat(follow_symlinks=False)"
   ]
  },
  {
   "cell_type": "code",
   "execution_count": 22,
   "metadata": {},
   "outputs": [
    {
     "name": "stdout",
     "output_type": "stream",
     "text": [
      "('kCurDir_l', ['D:\\\\Doc\\\\Dvl\\\\Prj\\\\Py\\\\Stu\\\\PyDev\\\\05\\\\HW', 'D:\\\\Doc\\\\Dvl\\\\Prj\\\\Py\\\\Stu\\\\PyDev\\\\05\\\\HW\\\\ts'])\n",
      "('kDirEntry_t', (<DirEntry 'ts.txt'>,))\n",
      "D:\\Doc\\Dvl\\Prj\\Py\\Stu\\PyDev\\05\\HW\n",
      "'D:\\\\Doc\\\\Dvl\\\\Prj\\\\Py\\\\Stu\\\\PyDev\\\\05\\\\HW'\n",
      "\n"
     ]
    }
   ],
   "source": [
    "print(*(mStt_d.items()), os.path.realpath(os.curdir), f'{os.path.realpath(os.curdir)!r}', '', sep='\\n')\n"
   ]
  },
  {
   "cell_type": "code",
   "execution_count": 15,
   "metadata": {},
   "outputs": [
    {
     "data": {
      "text/plain": [
       "{'D:\\\\Doc\\\\Dvl\\\\Prj\\\\Py\\\\Stu\\\\PyDev\\\\05\\\\HW',\n",
       " 'D:\\\\Doc\\\\Dvl\\\\Prj\\\\Py\\\\Stu\\\\PyDev\\\\05\\\\HW\\\\ts'}"
      ]
     },
     "execution_count": 15,
     "metadata": {},
     "output_type": "execute_result"
    }
   ],
   "source": [
    "set(mStt_d['kStkDir_l'])"
   ]
  },
  {
   "cell_type": "code",
   "execution_count": 9,
   "metadata": {},
   "outputs": [
    {
     "name": "stdout",
     "output_type": "stream",
     "text": [
      "D:\\Doc\\Dvl\\Prj\\Py\\Stu\\PyDev\\05\\HW 'D:\\\\Doc\\\\Dvl\\\\Prj\\\\Py\\\\Stu\\\\PyDev\\\\05\\\\HW'\n"
     ]
    }
   ],
   "source": [
    "print(teCurDir_s, f'{teCurDir_s!r}')\n"
   ]
  },
  {
   "cell_type": "code",
   "execution_count": 59,
   "metadata": {},
   "outputs": [
    {
     "name": "stdout",
     "output_type": "stream",
     "text": [
      "D:\\Doc\\Dvl\\Prj\\Py\\Stu\\PyDev\\05\\HW 'D:\\\\Doc\\\\Dvl\\\\Prj\\\\Py\\\\Stu\\\\PyDev\\\\05\\\\HW'\n"
     ]
    }
   ],
   "source": [
    "teCurDir_s = os.path.realpath(os.curdir)\n",
    "print(teCurDir_s, f'{teCurDir_s!r}')\n"
   ]
  },
  {
   "cell_type": "code",
   "execution_count": 94,
   "metadata": {},
   "outputs": [
    {
     "data": {
      "text/plain": [
       "'файл (каталог\\n или любой другой объект файл.системы) с введеным именем\\n не должен существовать)'"
      ]
     },
     "execution_count": 94,
     "metadata": {},
     "output_type": "execute_result"
    }
   ],
   "source": [
    "('файл (каталог\\n или любой другой объект файл.системы) '\n",
    "    'с введеным именем\\n не должен существовать)')"
   ]
  },
  {
   "cell_type": "code",
   "execution_count": 81,
   "metadata": {},
   "outputs": [
    {
     "data": {
      "text/plain": [
       "('d:\\\\Doc\\\\Dvl\\\\Prj\\\\Py\\\\Stu\\\\PyDev\\\\05\\\\HW\\\\ts\\\\mod<',\n",
       " 'D:\\\\Doc\\\\Dvl\\\\Prj\\\\Py\\\\Stu\\\\PyDev\\\\05\\\\HW\\\\mod')"
      ]
     },
     "execution_count": 81,
     "metadata": {},
     "output_type": "execute_result"
    }
   ],
   "source": [
    "os.path.abspath(os.path.normpath(r'ts\\mod<')),\\\n",
    "  os.path.normpath(os.path.join(teCurDir_s, r'ts\\..\\mod'))"
   ]
  },
  {
   "cell_type": "markdown",
   "metadata": {},
   "source": [
    "##### CuW"
   ]
  },
  {
   "cell_type": "code",
   "execution_count": 10,
   "metadata": {},
   "outputs": [
    {
     "data": {
      "text/plain": [
       "<DirEntry 'ts1.py'>"
      ]
     },
     "execution_count": 10,
     "metadata": {},
     "output_type": "execute_result"
    }
   ],
   "source": [
    "mStt_d['kDirEntry_t'][-1]"
   ]
  },
  {
   "cell_type": "code",
   "execution_count": 24,
   "metadata": {},
   "outputs": [
    {
     "name": "stdout",
     "output_type": "stream",
     "text": [
      "In Dir:(D:\\Doc\\Dvl\\Prj\\Py\\Stu\\PyDev\\05\\HW\\ts):\n",
      "================================\n",
      "All(Fmt:([DF~][L ]) <name>):\n",
      "(DL) <mod>\n",
      "(D ) <Ts1>\n",
      "(F ) <LICENSE>\n",
      "(F ) <lll>\n",
      "(F ) <README.md>\n",
      "(F ) <ts1.py>\n",
      "(F ) <ttt.txt>\n",
      "(F ) <x>\n",
      "(~L) <ts.txt>\n",
      "================================\n",
      "ouhouh<<\n",
      "\tERR: You input:'ouhouh<<' INVALID with exception:([Errno 22] Invalid argument: 'D:\\\\Doc\\\\Dvl\\\\Prj\\\\Py\\\\Stu\\\\PyDev\\\\05\\\\HW\\\\ts\\\\ouhouh<<'), try again next time.\n"
     ]
    },
    {
     "data": {
      "text/plain": [
       "\"[Errno 22] Invalid argument: 'D:\\\\\\\\Doc\\\\\\\\Dvl\\\\\\\\Prj\\\\\\\\Py\\\\\\\\Stu\\\\\\\\PyDev\\\\\\\\05\\\\\\\\HW\\\\\\\\ts\\\\\\\\ouhouh<<'\""
      ]
     },
     "execution_count": 24,
     "metadata": {},
     "output_type": "execute_result"
    }
   ],
   "source": [
    "mOuPSep_s = '=' *32\n",
    "\n",
    "def mOuP_Vie_fpt(laVie_t, laTDesc1OrMOrNo_t, laHea_s='Fmt:([DF~][L ]) <name>',\n",
    "    file:mSupportsWrite_ca=sys.stdout):\n",
    "  print(f\"In Dir:({mStt_d['kStkDir_l'][-1]}):\\n\" + mOuPSep_s)\n",
    "  loCo_i = len(laVie_t)\n",
    "  if loCo_i == 0:\n",
    "    print(laTDesc1OrMOrNo_t[-1] + '.\\n' + mOuPSep_s, file=file)\n",
    "  else:\n",
    "    lo_s = (laTDesc1OrMOrNo_t[0] if loCo_i == 1 else laTDesc1OrMOrNo_t[1])\n",
    "    if laHea_s is not None: lo_s += f'({laHea_s})'\n",
    "    print(lo_s + \":\", file=file)\n",
    "    print(*laVie_t, mOuPSep_s, sep='\\n', file=file)\n",
    "\n",
    "\n",
    "def mA_VieAll_fmf(laSf_o:mMenu_c, file:mSupportsWrite_ca=sys.stdout):\n",
    "  lo_t = tuple(f'({_el[1]}) <{_el[0]}>' for _el in mStt_d['kPreSrtByTyT_t'])\n",
    "  mOuP_Vie_fpt(lo_t, ('One', 'All', 'No files, directories or others'), file=file) \n",
    "  if laSf_o is not None:\n",
    "    input('Пожалуйста, нажмите Enter для возврата в меню.')\n",
    "  return lo_t\n",
    "\n",
    "def mA_CreFi_fm(laSf_o:mMenu_c, file:mSupportsWrite_ca=sys.stdout):\n",
    "  mA_VieAll_fmf(laSf_o, file)\n",
    "  lo_cll = lambda _s: str(_s).strip() != '' and not mChe_ExsPath_ff(_s, laCurDir_s=mStt_d['kStkDir_l'][-1])\n",
    "  # lo_cll = futs.partial(mChe_ExsPath_ff, laCurDir_s=mStt_d['kDirEntry_t'][-1])\n",
    "  lo_s = ('файл (каталог\\n или любой другой объект файл.системы) '\n",
    "    + 'с введеным (не пустым) именем\\n не должен существовать')\n",
    "  loRes_s = mInP_FltAVali_fefi(' имя нового файла (абсол. или относит.)\\n',\n",
    "      laInPTypeFlt_cll=None, laValiInPMsg_s=lo_s, laVali_cll=lo_cll,\n",
    "      file=file)[0]\n",
    "  print(loRes_s)\n",
    "  loAbsPth_s = mCre_AbsPath_ff(loRes_s, mStt_d['kStkDir_l'][-1])\n",
    "  # with open(os.path.join(loAbsPth_s), mode='x') as lw_o:\n",
    "  #   ...\n",
    "  try:\n",
    "    loFi_o = open(loAbsPth_s, mode='x')\n",
    "  except OSError as loExc_o:\n",
    "    print(f\"\\tERR: You input:'{loRes_s}' INVALID with exception:({loExc_o}), try again next time.\", file=file)\n",
    "    if laSf_o is not None:\n",
    "      input('Пожалуйста, нажмите Enter для возврата в меню.')\n",
    "    return str(loExc_o)\n",
    "  else:\n",
    "    mOuP_Stt_fmp(None)\n",
    "    return loAbsPth_s\n",
    "  # finally:\n",
    "  #   loFi_o.close()\n",
    "mA_CreFi_fm(None)\n"
   ]
  },
  {
   "cell_type": "code",
   "execution_count": 38,
   "metadata": {},
   "outputs": [
    {
     "data": {
      "text/plain": [
       "['D:\\\\Doc\\\\Dvl\\\\Prj\\\\Py\\\\Stu\\\\PyDev\\\\05\\\\HW',\n",
       " 'D:\\\\Doc\\\\Dvl\\\\Prj\\\\Py\\\\Stu\\\\PyDev\\\\05\\\\HW\\\\ts',\n",
       " 'D:\\\\Doc\\\\Dvl\\\\Prj\\\\Py\\\\Stu\\\\PyDev\\\\05\\\\HW',\n",
       " 'D:\\\\Doc\\\\Dvl\\\\Prj\\\\Py\\\\Stu\\\\PyDev\\\\05\\\\HW\\\\ts',\n",
       " 'D:\\\\Doc\\\\Dvl\\\\Prj\\\\Py\\\\Stu\\\\PyDev\\\\05\\\\HW']"
      ]
     },
     "execution_count": 38,
     "metadata": {},
     "output_type": "execute_result"
    }
   ],
   "source": [
    "mStt_d['kStkDir_l'][-5:]"
   ]
  },
  {
   "cell_type": "code",
   "execution_count": 41,
   "metadata": {},
   "outputs": [
    {
     "name": "stdout",
     "output_type": "stream",
     "text": [
      "In Dir:(D:\\Doc\\Dvl\\Prj\\Py\\Stu\\PyDev\\05\\HW\\ts):\n",
      "================================\n",
      "All(Fmt:([DF~][L ]) <name>):\n",
      "(D ) <ju>\n",
      "(DL) <mod>\n",
      "(D ) <trd>\n",
      "(D ) <Ts1>\n",
      "(D ) <tstt>\n",
      "(D ) <y>\n",
      "(F ) <LICENSE>\n",
      "(F ) <ll>\n",
      "(F ) <lll>\n",
      "(F ) <README.md>\n",
      "(F ) <ts1.py>\n",
      "(F ) <ttt.txt>\n",
      "(F ) <x>\n",
      "(~L) <ts.txt>\n",
      "================================\n"
     ]
    },
    {
     "data": {
      "text/plain": [
       "('(D ) <ju>',\n",
       " '(DL) <mod>',\n",
       " '(D ) <trd>',\n",
       " '(D ) <Ts1>',\n",
       " '(D ) <tstt>',\n",
       " '(D ) <y>',\n",
       " '(F ) <LICENSE>',\n",
       " '(F ) <ll>',\n",
       " '(F ) <lll>',\n",
       " '(F ) <README.md>',\n",
       " '(F ) <ts1.py>',\n",
       " '(F ) <ttt.txt>',\n",
       " '(F ) <x>',\n",
       " '(~L) <ts.txt>')"
      ]
     },
     "execution_count": 41,
     "metadata": {},
     "output_type": "execute_result"
    }
   ],
   "source": [
    "# mFll_Stt_fe(mStt_d['kStkDir_l'][-2])\n",
    "mA_VieAll_fmf(None)\n"
   ]
  },
  {
   "cell_type": "code",
   "execution_count": 65,
   "metadata": {},
   "outputs": [
    {
     "name": "stdout",
     "output_type": "stream",
     "text": [
      "Пожалуйста, подтвердите Ваше решение DelFile\n",
      " - введите Да (в любом регистре) и нажмите Enter:\n",
      "Пожалуйста, подтвердите Ваше решение{}\n",
      " - введите{} и нажмите Enter:\n",
      "Пожалуйста, подтвердите Ваше решение DelFile\n",
      " - введите ДА и нажмите Enter:\n",
      "2\n",
      "2\n",
      "1\n",
      "1\n",
      "0\n",
      "0\n"
     ]
    }
   ],
   "source": [
    "mCfmMsg_sf = 'Пожалуйста, подтвердите Ваше решение{}\\n - введите{} и нажмите Enter:'\n",
    "print(mCfmMsg_sf.format(' DelFile', ' Да (в любом регистре)'))\n",
    "print(str(mCfmMsg_sf))\n",
    "print(mCfmMsg_sf.format(' DelFile', ' ДА'))\n",
    "'yes' in 'YES'.lower(), str(None)\n",
    "for loTry_i in range(2, -1,-1):\n",
    "  match loTry_i:\n",
    "    case [1]:\n",
    "      print(loTry_i)\n",
    "    case [0]:\n",
    "      print(loTry_i)\n",
    "    case _:\n",
    "      print(loTry_i)\n",
    "  print(loTry_i)\n"
   ]
  },
  {
   "cell_type": "code",
   "execution_count": 3,
   "metadata": {},
   "outputs": [
    {
     "name": "stdout",
     "output_type": "stream",
     "text": [
      "loPHCo_i 1  ДА  tst{} None  ДА '' tst{}\n"
     ]
    },
    {
     "data": {
      "text/plain": [
       "True"
      ]
     },
     "execution_count": 3,
     "metadata": {},
     "output_type": "execute_result"
    }
   ],
   "source": [
    "mCfmMsg_sf = 'Пожалуйста, подтвердите Ваше решение{}\\n - введите{} и нажмите Enter:'\n",
    "mCfmDfPtt_s = ' ДА'\n",
    "def mInP_Cfm_ffp(laPtt_s=mCfmDfPtt_s, laDecision_s='', laMsg_sf=None,\n",
    "    laCaseSens_b=True, file:mSupportsWrite_ca=sys.stdout):\n",
    "  laPtt_s = mCfmDfPtt_s if laPtt_s is None else str(laPtt_s)\n",
    "  laDecision_s = '' if laDecision_s is None else str(laDecision_s)\n",
    "  laMsg_sf = mCfmMsg_sf if laMsg_sf is None else str(laMsg_sf)\n",
    "  lo_s, loPtt_s, loDecision_s, loMsg_sf = None, laPtt_s, laDecision_s, laMsg_sf\n",
    "  \n",
    "  loPHCo_i = loMsg_sf.count('{}') # 2Do:SeaRx(\\{(.*?)\\})\n",
    "  print('loPHCo_i', loPHCo_i, laPtt_s, laDecision_s, laMsg_sf, lo_s, loPtt_s, f'{loDecision_s!r}', loMsg_sf, )\n",
    "  # loPHCo_i 1  ДА  tst{} None  ДА  tst{}\n",
    "  if loPHCo_i < 1 and loMsg_sf.strip() != '':\n",
    "    lo_s = loMsg_sf\n",
    "  else:\n",
    "    for loTry_i in range(3, -1,-1):\n",
    "      try:\n",
    "        if loPHCo_i == 1:\n",
    "          lo_s = loMsg_sf.format(loPtt_s)\n",
    "        else:\n",
    "          lo_s = loMsg_sf.format(loDecision_s, loPtt_s)\n",
    "      except SyntaxError as loExc_o: # loPHCo_i >2\n",
    "        print(loExc_o)\n",
    "        match loTry_i:\n",
    "          case [3]:\n",
    "            loMsg_sf = mCfmMsg_sf\n",
    "            print(loTry_i, \"mCfmMsg_sf.format(loDecision_s, loPtt_s)\")\n",
    "          case [2]:\n",
    "            loDecision_s = ''\n",
    "            print(loTry_i, \"mCfmMsg_sf.format('', loPtt_s)\")\n",
    "          case [1]:\n",
    "            loPtt_s = mCfmDfPtt_s\n",
    "            print(loTry_i, \"mCfmMsg_sf.format('', mCfmDfPtt_s)\")\n",
    "          case [0]:\n",
    "            loPtt_s = 'ДА'\n",
    "            lo_s = 'Пожалуйста, подтвердите Ваше решение\\n - введите ДА и нажмите Enter:'\n",
    "            print(loTry_i, f'{lo_s!r}')\n",
    "\n",
    "  loRes_s = input(lo_s)\n",
    "  if not laCaseSens_b:\n",
    "    loRes_s, loPtt_s = loRes_s.lower(), loPtt_s.lower()\n",
    "  return loRes_s == loPtt_s or loRes_s.strip() == loPtt_s.strip()\n",
    "  # 2Do: MaB: loPtt_s CaB:tuple\n",
    "mInP_Cfm_ffp(laMsg_sf='tst{}')"
   ]
  },
  {
   "cell_type": "code",
   "execution_count": 2,
   "metadata": {},
   "outputs": [],
   "source": [
    "from distutils.command.build import build\n",
    "import io, os, sys, time\n",
    "from dataclasses import dataclass, field\n",
    "from collections.abc import Callable\n",
    "from typing import Any, Optional, Protocol, TypeAlias, TypeVar\n",
    "\n",
    "mT_ca = TypeVar(\"mT_ca\")\n",
    "mT_contra_ca = TypeVar(\"mT_contra_ca\", contravariant=True)\n",
    "mSelf_ca = TypeVar(\"mSelf_ca\")\n",
    "# mIntOStr_ca = TypeVar(\"mIntOStr_ca\", int, str)\n",
    "\n",
    "class mSupportsWrite_ca(Protocol[mT_contra_ca]):\n",
    "    def write(self, __s: mT_contra_ca) -> object: ...\n",
    "\n",
    "class mSupportsDunderLT_ca(Protocol):\n",
    "    def __lt__(self, __other: Any) -> bool: ...\n",
    "class mSupportsDunderGT_ca(Protocol):\n",
    "    def __gt__(self, __other: Any) -> bool: ...\n",
    "mSupportsRichComparison_ca: TypeAlias = mSupportsDunderLT_ca | mSupportsDunderGT_ca\n",
    "\n",
    "mMenu_ca = TypeVar(\"mMenu_ca\", bound=\"mMenu_c\")\n",
    "# mItmV_ca = TypeVar(\"mItmV_ca\", list[str, Callable[[mMenu_ca, mSupportsWrite_ca | None], list],\n",
    "#     Optional(Any)])\n",
    "\n",
    "glScrWid_i = 80\n",
    "glSep_s = '_' *glScrWid_i\n",
    "\n"
   ]
  },
  {
   "cell_type": "code",
   "execution_count": 70,
   "metadata": {},
   "outputs": [
    {
     "name": "stdout",
     "output_type": "stream",
     "text": [
      "C:\\Temp tmp C:\\Temp <TemporaryDirectory 'C:\\\\Temp\\\\tmp4xqo91ls'> C:\\Temp\\tmp4xqo91ls\\tmphmcb2x0c\n",
      "('33', '555')\n",
      "Ok:C:\\Temp\\tmp4xqo91ls\\555\n",
      "INVALID with exception:([Errno 2] No such file or directory: 'C:\\\\Temp\\\\tmp4xqo91ls\\\\33') & True\n"
     ]
    },
    {
     "data": {
      "text/plain": [
       "False"
      ]
     },
     "execution_count": 70,
     "metadata": {},
     "output_type": "execute_result"
    }
   ],
   "source": [
    "import tempfile as tmpf\n",
    "t_o = tmpf.TemporaryDirectory()\n",
    "tFi_o = tmpf.NamedTemporaryFile(mode='x', dir=t_o.name)\n",
    "print(tmpf.gettempdir(), tmpf.gettempprefix(), tmpf.tempdir, t_o, tFi_o.name)\n",
    "tFi_o.close()\n",
    "tCheNa_s = '33\\\\555'\n",
    "tDriveAPth_t = os.path.splitdrive(tCheNa_s)\n",
    "tRes_b, tFiPthANa_t = None, os.path.split(tDriveAPth_t[1])\n",
    "print(tFiPthANa_t)\n",
    "while (len(tFiPthANa_t[0]) + len(tFiPthANa_t[1])):\n",
    "  if tFiPthANa_t[1] in ('', os.curdir, os.pardir):\n",
    "    if tFiPthANa_t[1] == ('') and tFiPthANa_t[0].strip(''.join((os.sep, os.altsep))):\n",
    "      break\n",
    "  else:\n",
    "    try:\n",
    "      tFi_o = open(os.path.join(t_o.name, tFiPthANa_t[1]), mode='x')\n",
    "    except OSError as tExc_o:\n",
    "      tRes_b = False\n",
    "      print(\"INVALID \" + f\"with exception:({tExc_o}) & {repr(os.path.join(t_o.name, tFiPthANa_t[1])) in (str(tExc_o))}\")\n",
    "      break # 2Do:Bre|Rai\n",
    "    else:\n",
    "      tRes_b = True\n",
    "      print(f\"Ok:{os.path.join(t_o.name, tFiPthANa_t[1])}\")\n",
    "      tFi_o.close()\n",
    "    finally:\n",
    "      t_o.cleanup()\n",
    "      # del t_o\n",
    "  if tRes_b == False: break # 2Do:Bre|Rai\n",
    "  tFiPthANa_t = os.path.split(tFiPthANa_t[0])\n",
    "    \n",
    "tRes_b"
   ]
  },
  {
   "cell_type": "code",
   "execution_count": 5,
   "metadata": {},
   "outputs": [
    {
     "name": "stdout",
     "output_type": "stream",
     "text": [
      "C:\\Temp tmp C:\\Temp <TemporaryDirectory 'C:\\\\Temp\\\\tmpm3v75bx5'> C:\\Temp\\tmpm3v75bx5\\tmp2t3tmxnp\n",
      "('>3\\\\555', '444444444444444444444444444444444444444444444444444444444444444444444444444444444444444444444444444444444444444444444444444444444444444444444444444444444444444444444444444444444444444444444444444444444444444444444444444444444444444444444444444444444444444')\n",
      "Ok:C:\\Temp\\tmpm3v75bx5\\444444444444444444444444444444444444444444444444444444444444444444444444444444444444444444444444444444444444444444444444444444444444444444444444444444444444444444444444444444444444444444444444444444444444444444444444444444444444444444444444444444444444444\n",
      "('>3', '555')\n",
      "Ok:C:\\Temp\\tmpm3v75bx5\\555\n",
      "('', '>3')\n",
      "INVALID with exception:([Errno 22] Invalid argument: 'C:\\\\Temp\\\\tmpm3v75bx5\\\\>3') & True\n"
     ]
    },
    {
     "data": {
      "text/plain": [
       "False"
      ]
     },
     "execution_count": 5,
     "metadata": {},
     "output_type": "execute_result"
    }
   ],
   "source": [
    "import tempfile as tmpf\n",
    "t_o = tmpf.TemporaryDirectory()\n",
    "tFi_o = tmpf.NamedTemporaryFile(mode='x', dir=t_o.name) # Che(Wri):dir\n",
    "print(tmpf.gettempdir(), tmpf.gettempprefix(), tmpf.tempdir, t_o, tFi_o.name)\n",
    "tFi_o.close()\n",
    "\n",
    "tCheNa_s = '>3\\\\555\\\\' + 256 * '4'\n",
    "tCheNa_s = '>3\\\\555\\\\' + 255 * '4'\n",
    "tDriveAPth_t = os.path.splitdrive(tCheNa_s) # 2Do: (Che(tDriveAPth_t[0])), Unix\n",
    "tRes_b, tFiPthANa_t = None, os.path.split(tDriveAPth_t[1])\n",
    "print(tFiPthANa_t)\n",
    "# 2Do:IF tFiPthANa_t[0] != '' -> MaB:Che(End):Rr(mkdir(tFiPthANa_t??[0] OR (tCheNa_s))), ??nornalPth\n",
    "while (len(tFiPthANa_t[0]) + len(tFiPthANa_t[1])):\n",
    "  if tFiPthANa_t[1] in ('', os.curdir, os.pardir):\n",
    "    if tFiPthANa_t[1] == ('') and tFiPthANa_t[0].strip(''.join((os.sep, os.altsep))):\n",
    "      break\n",
    "  else:\n",
    "    try:\n",
    "      tFi_o = open(os.path.join(t_o.name, tFiPthANa_t[1]), mode='x')\n",
    "    except OSError as tExc_o:\n",
    "      tRes_b = False\n",
    "      print(\"INVALID \" + f\"with exception:({tExc_o}) & {repr(os.path.join(t_o.name, tFiPthANa_t[1])) in (str(tExc_o))}\")\n",
    "      break # 2Do:Bre|Rai\n",
    "    else:\n",
    "      tRes_b = True\n",
    "      print(f\"Ok:{os.path.join(t_o.name, tFiPthANa_t[1])}\")\n",
    "      tFi_o.close()\n",
    "    # finally:\n",
    "    #   t_o.cleanup()\n",
    "      # del t_o\n",
    "  if tRes_b == False: break # 2Do:Bre|Rai\n",
    "  tFiPthANa_t = os.path.split(tFiPthANa_t[0])\n",
    "  print(tFiPthANa_t)\n",
    "del t_o\n",
    "# t_o.cleanup()\n",
    "    \n",
    "tRes_b"
   ]
  },
  {
   "cell_type": "markdown",
   "metadata": {},
   "source": [
    "##### Beg:Stepik"
   ]
  },
  {
   "cell_type": "code",
   "execution_count": 6,
   "metadata": {},
   "outputs": [],
   "source": [
    "type = 7"
   ]
  },
  {
   "cell_type": "code",
   "execution_count": 10,
   "metadata": {},
   "outputs": [
    {
     "data": {
      "text/plain": [
       "5"
      ]
     },
     "execution_count": 10,
     "metadata": {},
     "output_type": "execute_result"
    }
   ],
   "source": [
    "#print(f'{math.hypot(a, b):.2f}')\n",
    "#print(f'{round(math.sqrt((a ** 2) + (b ** 2)), 2):.2f}')\n",
    "# print(f'{round(math.sqrt((a ** 2) + (b ** 2)), 2):.2f}')\n",
    "math.ceil(4.2)"
   ]
  },
  {
   "cell_type": "code",
   "execution_count": 11,
   "metadata": {},
   "outputs": [
    {
     "data": {
      "text/plain": [
       "(5.0, '787878')"
      ]
     },
     "execution_count": 11,
     "metadata": {},
     "output_type": "execute_result"
    }
   ],
   "source": [
    "import math\n",
    "math.hypot(3, 4), (1+2)*('7'+'8')"
   ]
  },
  {
   "cell_type": "code",
   "execution_count": 21,
   "metadata": {},
   "outputs": [
    {
     "data": {
      "text/plain": [
       "'dobavlyaem-slagi-slug-k-url-adresam'"
      ]
     },
     "execution_count": 21,
     "metadata": {},
     "output_type": "execute_result"
    }
   ],
   "source": [
    "s = 'dobavlyaem---slagi--slug-k--url---adresam'\n",
    "s.replace('---', '-').replace('--', '-',)"
   ]
  },
  {
   "cell_type": "code",
   "execution_count": 22,
   "metadata": {},
   "outputs": [
    {
     "data": {
      "text/plain": [
       "['Волга', 'Дон', 'Енисей', 'Лена', 'Обь']"
      ]
     },
     "execution_count": 22,
     "metadata": {},
     "output_type": "execute_result"
    }
   ],
   "source": [
    "t_l = ['Лена' ,'Обь', 'Волга', 'Дон', 'Енисей']\n",
    "t_l.index()\n",
    "t_l"
   ]
  },
  {
   "cell_type": "code",
   "execution_count": 25,
   "metadata": {},
   "outputs": [
    {
     "data": {
      "text/plain": [
       "['1. Введение в Python',\n",
       " '2. Строки и списки',\n",
       " '3. Условные операторы',\n",
       " '4. Циклы',\n",
       " '5. Словари, кортежи и множества',\n",
       " '6. Выход']"
      ]
     },
     "execution_count": 25,
     "metadata": {},
     "output_type": "execute_result"
    }
   ],
   "source": [
    "tInP_t = tuple(map(int, input().split()))\n",
    "tMin_i = tInP_t[0]\n",
    "if len(tInP_t) > 1 and tMin_i >= tInP_t[1]:\n",
    "    tMin_i = tInP_t[1]\n",
    "elif len(tInP_t) > 2 and tMin_i >= tInP_t[2]:\n",
    "    tMin_i = tInP_t[2]\n",
    "print(tMin_i)\n",
    "('понедельник', 'вторник', 'среда', 'четверг', 'пятница', 'суббота', 'воскресенье')"
   ]
  },
  {
   "cell_type": "code",
   "execution_count": 1,
   "metadata": {},
   "outputs": [
    {
     "name": "stdout",
     "output_type": "stream",
     "text": [
      "28\n",
      "28\n"
     ]
    }
   ],
   "source": [
    "tDInMon_l = (31, 28, 31, 30, 31, 30, 31, 31, 30, 31, 30, 31)\n",
    "tInP_i = int(input())\n",
    "print(tDInMon_l[tInP_i -1])\n",
    "\n",
    "if tInP_i == 2: print(28)\n",
    "elif tInP_i in [4, 6, 9, 11]: print(30)\n",
    "else: print(31)\n"
   ]
  },
  {
   "cell_type": "code",
   "execution_count": 3,
   "metadata": {},
   "outputs": [
    {
     "data": {
      "text/plain": [
       "(29, 9)"
      ]
     },
     "execution_count": 3,
     "metadata": {},
     "output_type": "execute_result"
    }
   ],
   "source": [
    "len(tSrc_s), tCyc_i"
   ]
  },
  {
   "cell_type": "code",
   "execution_count": 6,
   "metadata": {},
   "outputs": [
    {
     "name": "stdout",
     "output_type": "stream",
     "text": [
      "osnovnye-metody-slovarey\n"
     ]
    }
   ],
   "source": [
    "# put your python code here\n",
    "# tSrc_s, tRes_l = str(int(input())), []\n",
    "tSrc_s, tRes_l = 'osnovnye--metody-----slovarey', []\n",
    "tCyc_i, tPrx_s1 = 0, None\n",
    "while tCyc_i < len(tSrc_s):\n",
    "    # print(tCyc_i, tPrx_s1, tRes_l)\n",
    "    if tSrc_s[tCyc_i] != '-' or tPrx_s1 != '-':\n",
    "        tRes_l.append(tSrc_s[tCyc_i])\n",
    "    tPrx_s1 = tSrc_s[tCyc_i]\n",
    "    tCyc_i += 1\n",
    "    # print(tCyc_i, tPrx_s1, tRes_l)\n",
    "else:\n",
    "    print(''.join(tRes_l))\n"
   ]
  },
  {
   "cell_type": "code",
   "execution_count": 10,
   "metadata": {},
   "outputs": [
    {
     "name": "stdout",
     "output_type": "stream",
     "text": [
      "3 5 7 9\n"
     ]
    }
   ],
   "source": [
    "# n, m = map(int, input().split())\n",
    "n, m, tRes_l = 2, 10, []\n",
    "while n < m:\n",
    "    tRes_l.append(n +1)\n",
    "    n += 2\n",
    "print(*tRes_l)\n"
   ]
  },
  {
   "cell_type": "code",
   "execution_count": null,
   "metadata": {},
   "outputs": [],
   "source": [
    "tBeg_i, tEnd_i, tRes_l = 100, 999, []\n",
    "while tBeg_i < tEnd_i +1:\n",
    "    if tBeg_i % 47 == 43 and tBeg_i % 3 == 0:\n",
    "        tRes_l.append(tBeg_i)\n",
    "        tBeg_i += 47\n",
    "    else:\n",
    "        tBeg_i += 1\n",
    "print(*tRes_l)\n"
   ]
  },
  {
   "cell_type": "code",
   "execution_count": 28,
   "metadata": {},
   "outputs": [
    {
     "data": {
      "text/plain": [
       "(['+',\n",
       "  '7',\n",
       "  '(',\n",
       "  '0123456789',\n",
       "  '0123456789',\n",
       "  '0123456789',\n",
       "  ')',\n",
       "  '0123456789',\n",
       "  '0123456789',\n",
       "  '0123456789',\n",
       "  '-',\n",
       "  '0123456789',\n",
       "  '0123456789',\n",
       "  '-',\n",
       "  '0123456789',\n",
       "  '0123456789'],\n",
       " True,\n",
       " True)"
      ]
     },
     "execution_count": 28,
     "metadata": {},
     "output_type": "execute_result"
    }
   ],
   "source": [
    "tPtt_l = ['0123456789'] * 10\n",
    "tPtt_l.insert(0,'+'); tPtt_l.insert(1,'7')\n",
    "tPtt_l.insert(2,'('); tPtt_l.insert(6,')')\n",
    "tPtt_l.insert(10,'-'); tPtt_l.insert(13,'-')\n",
    "tPtt_l, '+' in tPtt_l[0], '7' in tPtt_l[1]"
   ]
  },
  {
   "cell_type": "code",
   "execution_count": 32,
   "metadata": {},
   "outputs": [
    {
     "data": {
      "text/plain": [
       "(['10', '+', '25', '-', '12', '+', '20', '-', '1', '+', '3'], 45)"
      ]
     },
     "execution_count": 32,
     "metadata": {},
     "output_type": "execute_result"
    }
   ],
   "source": [
    "'10+25 - 12 + 20-1 + 3'.replace('+', ' + ').replace('-', ' - ').split(),\\\n",
    "  10+25 - 12 + 20-1 + 3"
   ]
  },
  {
   "cell_type": "code",
   "execution_count": 37,
   "metadata": {},
   "outputs": [],
   "source": [
    "tInP_it = iter(map(float, input().split()))"
   ]
  },
  {
   "cell_type": "code",
   "execution_count": 50,
   "metadata": {},
   "outputs": [
    {
     "name": "stdout",
     "output_type": "stream",
     "text": [
      "[1, 1, 1]\n",
      "[1, 1, 1]\n",
      "[1, 1, 1]\n",
      "[1, 1, 5]\n",
      "[1, 1, 5]\n",
      "[1, 1, 5]\n"
     ]
    }
   ],
   "source": [
    "# tInP_i = int(input())\n",
    "tInP_i = 3\n",
    "tResL_l = [[1] *tInP_i] *tInP_i\n",
    "print(*tResL_l, sep='\\n')\n",
    "tResL_l[0][tInP_i-1] = 5\n",
    "# for _ix in range(tInP_i):\n",
    "#   tResL_l[_ix][-1] = 5\n",
    "print(*tResL_l, sep='\\n')"
   ]
  },
  {
   "cell_type": "markdown",
   "metadata": {},
   "source": [
    "###### Selection sort\n",
    "Сортировка выбором"
   ]
  },
  {
   "cell_type": "code",
   "execution_count": 48,
   "metadata": {},
   "outputs": [
    {
     "data": {
      "text/plain": [
       "([[0, 0, 0, 0, 0, 0, 0],\n",
       "  [0, 1, 0, 0, 0, 0, 0],\n",
       "  [0, 0, 0, 1, 0, 1, 0],\n",
       "  [0, 0, 0, 0, 0, 0, 0],\n",
       "  [0, 0, 1, 0, 1, 0, 0],\n",
       "  [0, 0, 0, 0, 0, 0, 0],\n",
       "  [0, 0, 0, 0, 0, 0, 0]],\n",
       " (5, 5),\n",
       " 0)"
      ]
     },
     "execution_count": 48,
     "metadata": {},
     "output_type": "execute_result"
    }
   ],
   "source": [
    "s = '''1 0 1 0 0\n",
    "0 0 1 0 1\n",
    "0 0 0 0 0\n",
    "0 1 0 1 0\n",
    "0 0 0 0 1'''\n",
    "s = '''1 0 0 0 0\n",
    "0 0 1 0 1\n",
    "0 0 0 0 0\n",
    "0 1 0 1 0\n",
    "0 0 0 0 0'''\n",
    "lst_in = [list(map(int, x.strip().split())) for x in s.splitlines()]\n",
    "tDim_t = (len(lst_in), len(lst_in[0]))\n",
    "# s.splitlines()\n",
    "tWrkL_l = [[0]  + _el +[0] for _el in lst_in]\n",
    "tWrkL_l.insert(0, [0] *(tDim_t[0] +2))\n",
    "tWrkL_l += [[0] *(tDim_t[0] +2)]\n",
    "tWrkL_l,tDim_t, tWrkL_l[5][4]"
   ]
  },
  {
   "cell_type": "code",
   "execution_count": 51,
   "metadata": {},
   "outputs": [
    {
     "name": "stdout",
     "output_type": "stream",
     "text": [
      "0 0 (0, 1, 0) 0\n",
      "1 2 (0, 1, 0) 0\n",
      "1 4 (0, 1, 0) 0\n",
      "3 1 (0, 1, 0) 0\n",
      "3 3 (0, 1, 0) 0\n",
      "ДА\n",
      "(0, 0, (0, 1, 0), 0)\n",
      "(1, 2, (0, 1, 0), 0)\n",
      "(1, 4, (0, 1, 0), 0)\n",
      "(3, 1, (0, 1, 0), 0)\n",
      "(3, 3, (0, 1, 0), 0)\n",
      "0\n"
     ]
    }
   ],
   "source": [
    "tAllIxWSumT_l, tGetAllIx_b = [], False\n",
    "tAllIxWSumT_l, tGetAllIx_b = [], True\n",
    "tCheOk_b = True\n",
    "for tR_ix in range(1, tDim_t[0] +1):\n",
    "  for tC_ix in range(1, tDim_t[1] +1):\n",
    "    if tWrkL_l[tR_ix][tC_ix] == 1:\n",
    "      tSumByR_t = tuple(sum(tWrkL_l[_R_ix][tC_ix -1:tC_ix +2])\n",
    "          for _R_ix in (tR_ix -1, tR_ix, tR_ix +1))\n",
    "      tSumAro_i = sum(tSumByR_t) -1\n",
    "      if tSumAro_i:\n",
    "        tCheOk_b = False\n",
    "      if tGetAllIx_b:\n",
    "        tAllIxWSumT_l.append((tR_ix -1, tC_ix -1, tSumByR_t, tSumAro_i))\n",
    "      elif not tCheOk_b:\n",
    "          break\n",
    "      # print(tR_ix -1, tC_ix -1, tSumByR_t, tSumAro_i)\n",
    "  if not tGetAllIx_b and not tCheOk_b:\n",
    "    break\n",
    "\n",
    "print('ДА' if tCheOk_b else 'НЕТ')\n",
    "if tAllIxWSumT_l:\n",
    "  print(*tAllIxWSumT_l, sum(_el[-1] for _el in tAllIxWSumT_l), sep='\\n')"
   ]
  },
  {
   "cell_type": "markdown",
   "metadata": {},
   "source": [
    "######   For/if/break/else/continue/break\n",
    "\n",
    "\n",
    "for j in range(n):        \n",
    "        if lst_in[i][j] + lst_in[i + 1][j] + lst_in[i + 1][j + 1] + lst_in[i][j + 1] > 1:\n",
    "            print('НЕТ')\n",
    "            break\n",
    "    else:\n",
    "        continue\n",
    "    break # выход из внешнего цикца\n"
   ]
  },
  {
   "cell_type": "code",
   "execution_count": null,
   "metadata": {},
   "outputs": [],
   "source": [
    "import sys\n",
    "\n",
    "# считывание списка из входного потока\n",
    "s = sys.stdin.readlines()\n",
    "lst_in = [list(map(int, x.strip().split())) for x in s]\n",
    "\n",
    "# здесь продолжайте программу (используйте список lst_in)\n",
    "n = len(lst_in) - 1\n",
    "\n",
    "for i in range(n):\n",
    "    for j in range(n):        \n",
    "        if lst_in[i][j] + lst_in[i + 1][j] + lst_in[i + 1][j + 1] + lst_in[i][j + 1] > 1:\n",
    "            print('НЕТ')\n",
    "            break\n",
    "    else:\n",
    "        continue\n",
    "    break # выход из внешнего цикца\n",
    "else:\n",
    "    print('ДА')"
   ]
  },
  {
   "cell_type": "markdown",
   "metadata": {},
   "source": [
    "###### Bubble sort\n",
    "Сортировка простыми обменами, сортировка пузырьком"
   ]
  },
  {
   "cell_type": "code",
   "execution_count": 61,
   "metadata": {},
   "outputs": [
    {
     "name": "stdout",
     "output_type": "stream",
     "text": [
      "ДА\n"
     ]
    },
    {
     "data": {
      "text/plain": [
       "[(0, 1),\n",
       " (0, 2),\n",
       " (0, 3),\n",
       " (0, 4),\n",
       " (1, 2),\n",
       " (1, 3),\n",
       " (1, 4),\n",
       " (2, 3),\n",
       " (2, 4),\n",
       " (3, 4)]"
      ]
     },
     "execution_count": 61,
     "metadata": {},
     "output_type": "execute_result"
    }
   ],
   "source": [
    "s = '''2 3 4 5 6\n",
    "3 2 7 8 9\n",
    "4 7 2 0 4\n",
    "5 8 0 2 1\n",
    "6 9 4 1 2'''\n",
    "# s = '''2 3 4 7 6\n",
    "# 3 2 7 8 9\n",
    "# 4 7 2 0 4\n",
    "# 5 8 0 2 1\n",
    "# 6 9 4 1 2'''\n",
    "# s = '''1 0 0 0 0\n",
    "# 0 0 1 0 1\n",
    "# 0 0 0 0 0\n",
    "# 0 1 0 1 0\n",
    "# 0 0 0 0 0'''\n",
    "lst_in = [list(map(int, x.strip().split())) for x in s.splitlines()]\n",
    "tDim_t = (len(lst_in), len(lst_in[0]))\n",
    "\n",
    "\n",
    "print('ДА' if all(lst_in[_R_ix][_C_ix] == lst_in[_C_ix][_R_ix] for _R_ix in range(tDim_t[0])\n",
    "  for _C_ix in range(_R_ix +1, tDim_t[1])) else 'НЕТ')\n",
    "\n",
    "[(_R_ix, _C_ix) for _R_ix in range(tDim_t[0])\n",
    "  for _C_ix in range(_R_ix +1, tDim_t[1])]"
   ]
  },
  {
   "cell_type": "code",
   "execution_count": 66,
   "metadata": {},
   "outputs": [
    {
     "name": "stdout",
     "output_type": "stream",
     "text": [
      "[]\n",
      "\n"
     ]
    }
   ],
   "source": [
    "tSrc_l =[8, 11, -53, 2, 10, 11]\n",
    "# tSrc_l = list(map(int, input().split()))\n",
    "print(tSrc_l)\n",
    "for tCur_ix in range(len(tSrc_l)):\n",
    "  iMin_ix = tCur_ix\n",
    "  print(tCur_ix, iMin_ix, tSrc_l[iMin_ix])\n",
    "  for tTsMin_ix in range(tCur_ix +1, len(tSrc_l)):\n",
    "    if tSrc_l[iMin_ix] > tSrc_l[tTsMin_ix]:\n",
    "      iMin_ix = tTsMin_ix\n",
    "      print('\\tMin:', tTsMin_ix, tCur_ix, iMin_ix, tSrc_l[iMin_ix])\n",
    "  if iMin_ix != tCur_ix:\n",
    "    tSrc_l[tCur_ix], tSrc_l[iMin_ix] = tSrc_l[iMin_ix], tSrc_l[tCur_ix]\n",
    "    print('Cha:', tCur_ix, iMin_ix, tSrc_l[iMin_ix], '\\n', tSrc_l)\n",
    "print(*tSrc_l)"
   ]
  },
  {
   "cell_type": "code",
   "execution_count": 76,
   "metadata": {},
   "outputs": [
    {
     "name": "stdout",
     "output_type": "stream",
     "text": [
      "[4, 5, 10]\n",
      "0 3 TailSorted:[]\n",
      "Res: [4, 5, 10]\n",
      "1 3 TailSorted:[]\n",
      "Res: [4, 5, 10]\n",
      "0 2 TailSorted:[10]\n",
      "Res: [4, 5, 10]\n",
      "4 5 10\n"
     ]
    }
   ],
   "source": [
    "tSrc_l = [8, 11, -53, 2, 10, 11]\n",
    "tSrc_l = [4, 5, 2, 0, 6, 3, -56, 3, -1]\n",
    "tSrc_l = [4, 5, 10]\n",
    "# tSrc_l = []\n",
    "# tSrc_l = list(map(int, input().split()))\n",
    "print(tSrc_l)\n",
    "\n",
    "for tCurEdge_ix in range(len(tSrc_l), 0, -1):\n",
    "  for tCur_ix in range(tCurEdge_ix -1):\n",
    "    print(tCur_ix, tCurEdge_ix, f'TailSorted:{tSrc_l[tCurEdge_ix:]}')\n",
    "    if tSrc_l[tCur_ix] > tSrc_l[tCur_ix +1]:\n",
    "      tSrc_l[tCur_ix], tSrc_l[tCur_ix +1] =  tSrc_l[tCur_ix +1], tSrc_l[tCur_ix]\n",
    "      print('\\tCha:', tCur_ix, tSrc_l[tCur_ix], tSrc_l[tCur_ix +1])\n",
    "    print('Res:', tSrc_l)\n",
    "print(*tSrc_l)"
   ]
  },
  {
   "cell_type": "code",
   "execution_count": null,
   "metadata": {},
   "outputs": [],
   "source": [
    "lst = list(map(int, input().split()))\n",
    "for i in range(len(lst), 0, -1):\n",
    "    ordered = True\n",
    "    for j in range(1, i):\n",
    "        if lst[j - 1] > lst[j]:\n",
    "            lst[j - 1], lst[j], ordered = lst[j], lst[j - 1], False\n",
    "    if ordered: break\n",
    "print(*lst)  "
   ]
  },
  {
   "cell_type": "code",
   "execution_count": 79,
   "metadata": {},
   "outputs": [
    {
     "data": {
      "text/plain": [
       "(5, 25)"
      ]
     },
     "execution_count": 79,
     "metadata": {},
     "output_type": "execute_result"
    }
   ],
   "source": [
    "divmod(345, 64)"
   ]
  },
  {
   "cell_type": "code",
   "execution_count": 87,
   "metadata": {},
   "outputs": [
    {
     "name": "stdout",
     "output_type": "stream",
     "text": [
      "345 [0, 0, 0, 0, 0, 0, 0]\n",
      "0 25 [5, 0, 0, 0, 0, 0, 0]\n",
      "1 25 [5, 0, 0, 0, 0, 0, 0]\n",
      "2 9 [5, 0, 1, 0, 0, 0, 0]\n",
      "3 1 [5, 0, 1, 1, 0, 0, 0]\n",
      "4 1 [5, 0, 1, 1, 0, 0, 0]\n",
      "5 1 [5, 0, 1, 1, 0, 0, 0]\n",
      "6 0 [5, 0, 1, 1, 0, 0, 1]\n",
      "5 0 1 1 0 0 1\n",
      "64 64 64 64 64 16 8 1\n"
     ]
    }
   ],
   "source": [
    "tVal_l = [1, 2, 4, 8, 16, 32, 64][::-1]\n",
    "tRes_l, tCurVal_ix = [0] *len(tVal_l), 0\n",
    "tSum_i = 345\n",
    "print(tSum_i, tRes_l)\n",
    "\n",
    "for tCurVal_ix in range(len(tVal_l)):\n",
    "  tRes_l[tCurVal_ix], tSum_i = divmod(tSum_i, tVal_l[tCurVal_ix])\n",
    "  print(tCurVal_ix, tSum_i, tRes_l)\n",
    "  if tSum_i == 0: break\n",
    "print(*tRes_l)\n",
    "t_it = (f'{\" \".join([str(tVal_l[_ix])] *tRes_l[_ix])}' for _ix in range(len(tVal_l)) if tRes_l[_ix] > 0)\n",
    "print(*t_it)\n",
    "# \" \".join(f'{\" \".join([str(tVal_l[_ix])] *tRes_l[_ix])}' for _ix in range(len(tVal_l)) if tRes_l[_ix] > 0)\n",
    "\n"
   ]
  },
  {
   "cell_type": "code",
   "execution_count": 94,
   "metadata": {},
   "outputs": [
    {
     "name": "stdout",
     "output_type": "stream",
     "text": [
      "1 0 0 0 0\n",
      "0 1 0 0 0\n",
      "0 0 1 0 0\n",
      "0 0 0 1 0\n",
      "0 0 0 0 1\n"
     ]
    }
   ],
   "source": [
    "tInP_i = 5\n",
    "tResL_l = [[1 if tR_ix == tC_ix else 0 for tR_ix in range(tInP_i)]\n",
    "           for tC_ix in range(tInP_i)]\n",
    "print(*(' '.join(map(str, _el)) for _el in tResL_l), sep='\\n')"
   ]
  },
  {
   "cell_type": "code",
   "execution_count": 97,
   "metadata": {},
   "outputs": [
    {
     "data": {
      "text/plain": [
       "[1, 2, 5, 10]"
      ]
     },
     "execution_count": 97,
     "metadata": {},
     "output_type": "execute_result"
    }
   ],
   "source": [
    "tInP_i = 10\n",
    "tRes_l = [_i for _i in range(1, tInP_i +1) if tInP_i % _i == 0]\n",
    "tRes_l\n",
    "# print(*(' '.join(map(str, _el)) for _el in tResL_l), sep='\\n')"
   ]
  },
  {
   "cell_type": "code",
   "execution_count": 99,
   "metadata": {},
   "outputs": [
    {
     "name": "stdout",
     "output_type": "stream",
     "text": [
      "0 0 0 0 0\n",
      "1 1 1 1 1\n",
      "2 2 2 2 2\n",
      "3 3 3 3 3\n",
      "4 4 4 4 4\n"
     ]
    }
   ],
   "source": [
    "tInP_i = 5\n",
    "tResL_l = [[ tC_ix for tR_ix in range(tInP_i)]\n",
    "           for tC_ix in range(tInP_i)]\n",
    "print(*(' '.join(map(str, _el)) for _el in tResL_l), sep='\\n')"
   ]
  },
  {
   "cell_type": "code",
   "execution_count": 103,
   "metadata": {},
   "outputs": [
    {
     "data": {
      "text/plain": [
       "[2, 3, 4, 5, 6, 7, 8, 9, 8, 7, 6, 5, 4, 3, 2, 1]"
      ]
     },
     "execution_count": 103,
     "metadata": {},
     "output_type": "execute_result"
    }
   ],
   "source": [
    "s = '''2 3 4 5 6\n",
    "3 2 7 8 9\n",
    "4 7 2 0 4\n",
    "5 8 0 2 1\n",
    "6 9 4 1 2'''\n",
    "# s = '''2 3 4 7 6\n",
    "# 3 2 7 8 9\n",
    "# 4 7 2 0 4\n",
    "# 5 8 0 2 1\n",
    "# 6 9 4 1 2'''\n",
    "s = '''1 2 3 4\n",
    "5 6 7 8\n",
    "9 8 7 6\n",
    "5 4 3 2'''\n",
    "lst_in = [list(map(int, x.strip().split())) for x in s.splitlines()]\n",
    "tDim_t = (len(lst_in), len(lst_in[0]))\n",
    "\n",
    "\n",
    "[lst_in[_R_ix][_C_ix] for _R_ix in range(tDim_t[0] -1, -1, -1)\n",
    "  for _C_ix in range(tDim_t[1] -1, -1, -1)]"
   ]
  },
  {
   "cell_type": "code",
   "execution_count": 115,
   "metadata": {},
   "outputs": [
    {
     "data": {
      "text/plain": [
       "(3, [[1, 2, 3], [4, 5, 6], [7, 8, 9]])"
      ]
     },
     "execution_count": 115,
     "metadata": {},
     "output_type": "execute_result"
    }
   ],
   "source": [
    "# tInP_l = [int(_el) for _el in input().strip()]\n",
    "tInP_l = [int(_el) for _el in '1 2 3 4 5 6 7 8 9'.split()]\n",
    "tDim_i = int(len(tInP_l) **.5)\n",
    "tDim_i, [tInP_l[_ix *tDim_i:(_ix +1) *tDim_i] for _ix in range(tDim_i)]\n",
    "tDim_i, [tInP_l[_ix:_ix +tDim_i] for _ix in range(0, len(tInP_l), tDim_i)]"
   ]
  },
  {
   "cell_type": "code",
   "execution_count": 116,
   "metadata": {},
   "outputs": [
    {
     "data": {
      "text/plain": [
       "[['Скажи-ка,', 'дядя,', 'ведь', 'даром'],\n",
       " ['Python', 'выучил', 'каналом'],\n",
       " ['Балакирев', 'раздавал?'],\n",
       " ['Ведь', 'были', 'заданья', 'боевые,'],\n",
       " ['говорят,', 'какие!'],\n",
       " ['Недаром', 'помнит', 'Россия'],\n",
       " ['рубили', 'тогда!']]"
      ]
     },
     "execution_count": 116,
     "metadata": {},
     "output_type": "execute_result"
    }
   ],
   "source": [
    "t = [\"– Скажи-ка, дядя, ведь не даром\",\n",
    "    \"Я Python выучил с каналом\",\n",
    "    \"Балакирев что раздавал?\",\n",
    "    \"Ведь были ж заданья боевые,\",\n",
    "    \"Да, говорят, еще какие!\",\n",
    "    \"Недаром помнит вся Россия\",\n",
    "    \"Как мы рубили их тогда!\"\n",
    "    ]\n",
    "[[_s for _s in _el.split() if len(_s) > 3] for _el in t]"
   ]
  },
  {
   "cell_type": "code",
   "execution_count": 117,
   "metadata": {},
   "outputs": [
    {
     "data": {
      "text/plain": [
       "[2, 3, 4, 5, 6, 7, 8, 9, 8, 7, 6, 5, 4, 3, 2, 1]"
      ]
     },
     "execution_count": 117,
     "metadata": {},
     "output_type": "execute_result"
    }
   ],
   "source": [
    "s = '''2 3 4 5 6\n",
    "3 2 7 8 9\n",
    "4 7 2 0 4\n",
    "5 8 0 2 1\n",
    "6 9 4 1 2'''\n",
    "# s = '''2 3 4 7 6\n",
    "# 3 2 7 8 9\n",
    "# 4 7 2 0 4\n",
    "# 5 8 0 2 1\n",
    "# 6 9 4 1 2'''\n",
    "s = '''1 2 3 4\n",
    "5 6 7 8\n",
    "9 8 7 6\n",
    "5 4 3 2'''\n",
    "lst_in = [list(map(int, x.strip().split())) for x in s.splitlines()]\n",
    "tDim_t = (len(lst_in), len(lst_in[0]))\n",
    "\n",
    "\n",
    "[lst_in[_R_ix][_C_ix] for _R_ix in range(tDim_t[0] -1, -1, -1)\n",
    "  for _C_ix in range(tDim_t[1] -1, -1, -1)]"
   ]
  },
  {
   "cell_type": "code",
   "execution_count": 120,
   "metadata": {},
   "outputs": [
    {
     "data": {
      "text/plain": [
       "[[1, 5, 9, 5], [2, 6, 8, 4], [3, 7, 7, 3], [4, 8, 6, 2]]"
      ]
     },
     "execution_count": 120,
     "metadata": {},
     "output_type": "execute_result"
    }
   ],
   "source": [
    "[[lst_in[_R_ix][_C_ix] for _R_ix in range(tDim_t[0])]\n",
    "  for _C_ix in range(tDim_t[1])]"
   ]
  },
  {
   "cell_type": "code",
   "execution_count": 141,
   "metadata": {},
   "outputs": [
    {
     "data": {
      "text/plain": [
       "[('one', 1), ('two', 2), ('three', 3)]"
      ]
     },
     "execution_count": 141,
     "metadata": {},
     "output_type": "execute_result"
    }
   ],
   "source": [
    "d  = {}\n",
    "d[\"house\"] = ['дом', 'жилище', 'хижина']\n",
    "[(_k, int(_v)) for _k, _v in (_s.split('=') for _s in 'one=1 two=2 three=3'.split())]"
   ]
  },
  {
   "cell_type": "code",
   "execution_count": 146,
   "metadata": {},
   "outputs": [
    {
     "name": "stdout",
     "output_type": "stream",
     "text": [
      "('True', 'истина') ('дон', 'река') ('лена', 'имя') ('москва', 'город')\n"
     ]
    }
   ],
   "source": [
    "d = dict(_s.split('=') for _s in 'лена=имя дон=река москва=город False=ложь 3=удовлетворительно True=истина'.split())\n",
    "\n",
    "# d = dict(((_k, _v) for _k, _v in tInP_it))\n",
    "for _k in ('False', '3'): d.pop(_k, None)\n",
    "# _tmp_a = tuple(d.pop(_k, None) for _k in ('False', '3'))\n",
    "# del _tmp_a\n",
    "print(*sorted(d.items()))\n"
   ]
  },
  {
   "cell_type": "code",
   "execution_count": null,
   "metadata": {},
   "outputs": [],
   "source": [
    "tInP_it = ((_s[:2], _s) for _s in input().split())\n",
    "\n",
    "d = {}\n",
    "for _k, _v in tInP_it:\n",
    "    # d.setdefault(_k, []).append(_v)\n",
    "    if _k in d:\n",
    "        d[_k] += [_v]\n",
    "    else:\n",
    "        d[_k] = [_v]\n",
    "\n",
    "print(*sorted(d.items()))\n",
    "d = dict([(x[:2], [i for i in n if x[:2] == i[:2]]) for x in n])"
   ]
  },
  {
   "cell_type": "code",
   "execution_count": 148,
   "metadata": {},
   "outputs": [
    {
     "data": {
      "text/plain": [
       "[['+71234567890', 'Сергей'],\n",
       " ['+71234567810', 'Сергей'],\n",
       " ['+51234567890', 'Михаил'],\n",
       " ['+72134567890', 'Николай']]"
      ]
     },
     "execution_count": 148,
     "metadata": {},
     "output_type": "execute_result"
    }
   ],
   "source": [
    "s = '''+71234567890 Сергей\n",
    "+71234567810 Сергей\n",
    "+51234567890 Михаил\n",
    "+72134567890 Николай'''\n",
    "lst_in = [x.strip().split() for x in s.splitlines()]\n",
    "lst_in"
   ]
  },
  {
   "cell_type": "code",
   "execution_count": null,
   "metadata": {},
   "outputs": [],
   "source": [
    "tInP_i = int(input())\n",
    "tСache_d = {}\n",
    "\n",
    "while tInP_i:\n",
    "    if tInP_i in tСache_d:\n",
    "        print(f'значение из кэша: {tСache_d[tInP_i]}')\n",
    "    else:\n",
    "        tСache_d[tInP_i] = round(tInP_i **.5, 2)\n",
    "        print(tСache_d[tInP_i])"
   ]
  },
  {
   "cell_type": "code",
   "execution_count": 161,
   "metadata": {},
   "outputs": [
    {
     "name": "stdout",
     "output_type": "stream",
     "text": [
      "{' ': '-...-', 'Ё': '.', 'А': '.-', 'Б': '-...', 'В': '.--', 'Г': '--.', 'Д': '-..', 'Е': '.', 'Ж': '...-', 'З': '--..', 'И': '..', 'Й': '.---', 'К': '-.-', 'Л': '.-..', 'М': '--', 'Н': '-.', 'О': '---', 'П': '.--.', 'Р': '.-.', 'С': '...', 'Т': '-', 'У': '..-', 'Ф': '..-.', 'Х': '....', 'Ц': '-.-.', 'Ч': '---.', 'Ш': '----', 'Щ': '--.-', 'Ъ': '--.--', 'Ы': '-.--', 'Ь': '-..-', 'Э': '..-..', 'Ю': '..--', 'Я': '.-.-'} 34\n"
     ]
    }
   ],
   "source": [
    "t_s, tCod_d = '''А    .-\tМ    --\tШ    ----\n",
    "Б    -...\tН    -.\tЩ    --.-\n",
    "В    .--\tО    ---\tЪ    --.--\n",
    "Г    --.\tП    .--.\tЫ    -.--\n",
    "Д    -..\tР    .-.\tЬ    -..-\n",
    "Е     . Ё    .\tС    ...\tЭ    ..-..\n",
    "Ж    ...-\tТ    -\tЮ    ..--\n",
    "З    --..\tУ    ..-\tЯ    .-.-\n",
    "И    ..\tФ    ..-.\t\n",
    "Й    .---\tХ    ....\t \n",
    "К    -.-\tЦ    -.-.\t \n",
    "Л    .-..\tЧ    ---.\t  '''.strip().split(), {' ':\"-...-\"}\n",
    "\n",
    "tCod_d.update(sorted([(t_s[_ix], t_s[_ix +1]) for _ix in range(0, len(t_s), 2)], key=lambda _t: _t[0]))\n",
    "print(tCod_d, len(tCod_d))\n"
   ]
  },
  {
   "cell_type": "code",
   "execution_count": 159,
   "metadata": {},
   "outputs": [
    {
     "data": {
      "text/plain": [
       "{'-': 'Т',\n",
       " '--': 'М',\n",
       " '---': 'О',\n",
       " '----': 'Ш',\n",
       " '---.': 'Ч',\n",
       " '--.': 'Г',\n",
       " '--.-': 'Щ',\n",
       " '--.--': 'Ъ',\n",
       " '--..': 'З',\n",
       " '-.': 'Н',\n",
       " '-.-': 'К',\n",
       " '-.--': 'Ы',\n",
       " '-.-.': 'Ц',\n",
       " '-..': 'Д',\n",
       " '-..-': 'Ь',\n",
       " '-...': 'Б',\n",
       " '-...-': ' ',\n",
       " '.': 'Е',\n",
       " '.-': 'А',\n",
       " '.--': 'В',\n",
       " '.---': 'Й',\n",
       " '.--.': 'П',\n",
       " '.-.': 'Р',\n",
       " '.-.-': 'Я',\n",
       " '.-..': 'Л',\n",
       " '..': 'И',\n",
       " '..-': 'У',\n",
       " '..--': 'Ю',\n",
       " '..-.': 'Ф',\n",
       " '..-..': 'Э',\n",
       " '...': 'С',\n",
       " '...-': 'Ж',\n",
       " '....': 'Х'}"
      ]
     },
     "execution_count": 159,
     "metadata": {},
     "output_type": "execute_result"
    }
   ],
   "source": [
    "tCod_d = {' ': '-...-', 'Ё': '.', 'А': '.-', 'Б': '-...', 'В': '.--', 'Г': '--.', 'Д': '-..', 'Е': '.', 'Ж': '...-', 'З': '--..', 'И': '..', 'Й': '.---', 'К': '-.-', 'Л': '.-..', 'М': '--', 'Н': '-.', 'О': '---', 'П': '.--.', 'Р': '.-.', 'С': '...', 'Т': '-', 'У': '..-', 'Ф': '..-.', 'Х': '....', 'Ц': '-.-.', 'Ч': '---.', 'Ш': '----', 'Щ': '--.-', 'Ъ': '--.--', 'Ы': '-.--', 'Ь': '-..-', 'Э': '..-..', 'Ю': '..--', 'Я': '.-.-'}\n",
    "del tCod_d['Ё']\n",
    "tCod2Letter_d = dict(sorted(((_v, _k) for _k, _v in tCod_d.items()), key=lambda _t: _t[0]))\n",
    "# tCod2Letter_d = {_v: _k for _k, _v in morze.items()}\n",
    "tInP_l = input().strip().split()\n",
    "\n",
    "print(*(tCod2Letter_d[_s1].lower() for _s1 in tInP_l), sep='')"
   ]
  },
  {
   "cell_type": "code",
   "execution_count": 160,
   "metadata": {},
   "outputs": [
    {
     "data": {
      "text/plain": [
       "(33, 33)"
      ]
     },
     "execution_count": 160,
     "metadata": {},
     "output_type": "execute_result"
    }
   ],
   "source": [
    "len(tCod2Letter_d), len(tCod_d)"
   ]
  },
  {
   "cell_type": "code",
   "execution_count": 165,
   "metadata": {},
   "outputs": [
    {
     "name": "stdout",
     "output_type": "stream",
     "text": [
      "8 11 -4 5 2 4\n",
      "8 11 -4 5 2 4\n"
     ]
    }
   ],
   "source": [
    "# tInP_l = input().split()\n",
    "tInP_l = '8 11 -4 5 2 11 4 8'.split()\n",
    "\n",
    "d = dict.fromkeys(tInP_l)\n",
    "# d = {}\n",
    "# for _k in tInP_l:\n",
    "#     d.setdefault(_k, 1)\n",
    "\n",
    "print(*(d.keys()))\n",
    "print(*d)"
   ]
  },
  {
   "cell_type": "code",
   "execution_count": 163,
   "metadata": {},
   "outputs": [
    {
     "data": {
      "text/plain": [
       "{'8': None, '11': None, '-4': None, '5': None, '2': None, '4': None}"
      ]
     },
     "execution_count": 163,
     "metadata": {},
     "output_type": "execute_result"
    }
   ],
   "source": [
    "dict.fromkeys('8 11 -4 5 2 11 4 8'.split())"
   ]
  },
  {
   "cell_type": "code",
   "execution_count": 170,
   "metadata": {},
   "outputs": [
    {
     "data": {
      "text/plain": [
       "dict_items([('палатка', 5240), ('брезент', 2130), ('удочка', 1200), ('брюки', 1000), ('котелок', 820), ('молоток', 600), ('зонт', 500), ('пила', 400), ('рубашка', 300), ('бумага', 200), ('зеркальце', 100), ('расческа', 40), ('карандаш', 20), ('спички', 10)])"
      ]
     },
     "execution_count": 170,
     "metadata": {},
     "output_type": "execute_result"
    }
   ],
   "source": [
    "things = {'карандаш': 20, 'зеркальце': 100, 'зонт': 500, 'рубашка': 300, \n",
    "          'брюки': 1000, 'бумага': 200, 'молоток': 600, 'пила': 400, 'удочка': 1200,\n",
    "          'расческа': 40, 'котелок': 820, 'палатка': 5240, 'брезент': 2130, 'спички': 10}\n",
    "tSrtDThingsKV_t = tuple(sorted(((_k, _v) for _k, _v in things.items()), key=lambda _t: _t[1], reverse=True))\n",
    "tSrtThings_d = dict(sorted(((_k, _v) for _k, _v in things.items()), key=lambda _t: _t[1], reverse=True))\n",
    "tSrtThings_d.items(), tSrtDThingsKV_t"
   ]
  },
  {
   "cell_type": "code",
   "execution_count": 171,
   "metadata": {},
   "outputs": [
    {
     "name": "stdout",
     "output_type": "stream",
     "text": [
      "8 11 -5 -2\n",
      "8 11 -5 -2\n"
     ]
    }
   ],
   "source": [
    "# tInP_t = tuple(map(int, input().split()))\n",
    "tInP_t = tuple(map(int, '8 11 -5 -2 8 11 -5'.split()))\n",
    "tRes_t = tuple(dict.fromkeys(tInP_t).keys())\n",
    "print(*tRes_t)\n",
    "print(*(_v for _i, _v in enumerate(tInP_t) if _v not in tInP_t[:_i]))"
   ]
  },
  {
   "cell_type": "code",
   "execution_count": 184,
   "metadata": {},
   "outputs": [
    {
     "name": "stdout",
     "output_type": "stream",
     "text": [
      "1 3 9\n"
     ]
    }
   ],
   "source": [
    "# tInP_t = tuple(map(int, input().split()))\n",
    "tInP_set = set(_s for _s in 'Python 3.9.11 - best language!' if _s.isdigit())\n",
    "\n",
    "print(*sorted(tInP_set))\n"
   ]
  },
  {
   "cell_type": "code",
   "execution_count": 173,
   "metadata": {},
   "outputs": [
    {
     "data": {
      "text/plain": [
       "(8, 11, -5, -2, 8, 11, -5, 11, -5)"
      ]
     },
     "execution_count": 173,
     "metadata": {},
     "output_type": "execute_result"
    }
   ],
   "source": [
    "tInP_t += (11, -5)\n",
    "tInP_t"
   ]
  },
  {
   "cell_type": "code",
   "execution_count": 181,
   "metadata": {},
   "outputs": [
    {
     "data": {
      "text/plain": [
       "[0, 1, 2, 4, 5, 6, 7, 8]"
      ]
     },
     "execution_count": 181,
     "metadata": {},
     "output_type": "execute_result"
    }
   ],
   "source": [
    "[_i for _i, _v in enumerate(tInP_t) if tInP_t.count(_v) > 1]"
   ]
  },
  {
   "cell_type": "code",
   "execution_count": 183,
   "metadata": {},
   "outputs": [
    {
     "name": "stdout",
     "output_type": "stream",
     "text": [
      "1 0 0 0\n",
      "0 1 0 0\n",
      "0 0 1 0\n",
      "0 0 0 1\n"
     ]
    }
   ],
   "source": [
    "t = ((1, 0, 0, 0, 0),\n",
    "     (0, 1, 0, 0, 0),\n",
    "     (0, 0, 1, 0, 0),\n",
    "     (0, 0, 0, 1, 0),\n",
    "     (0, 0, 0, 0, 1))\n",
    "tInP_i = int(input())\n",
    "\n",
    "tRes_t = tuple(t[_R_ix][:tInP_i] for _R_ix in range(tInP_i))    \n",
    "print(*(' '.join(map(str, _el)) for _el in tRes_t), sep='\\n')"
   ]
  },
  {
   "cell_type": "code",
   "execution_count": null,
   "metadata": {},
   "outputs": [],
   "source": [
    "tInP_s = input()\n",
    "tRes_set = set()\n",
    "\n",
    "while tInP_s != 'q':\n",
    "    tRes_set.add(tInP_s)\n",
    "    tInP_s = input()\n",
    "\n",
    "print(len(tRes_set))\n",
    "\n",
    "print(len(set(_s for _s in iter(input, 'q'))))"
   ]
  },
  {
   "cell_type": "code",
   "execution_count": null,
   "metadata": {},
   "outputs": [],
   "source": [
    "tInP_l = input().split()\n",
    "# n, *st = input().split()\n",
    "\n",
    "# d = {key: value for key, value in enumerate(st, start=int(n))}\n",
    "d = {_ix:_s for _ix,_s in enumerate(tInP_l[1:], int(tInP_l[0]))}\n",
    "\n",
    "print(d[4])\n"
   ]
  },
  {
   "cell_type": "code",
   "execution_count": null,
   "metadata": {},
   "outputs": [],
   "source": [
    "tInP_t = tuple(map(str.lower, input().split()))\n",
    "tInP_set = set(tInP_t)\n",
    "tInP_d = dict.fromkeys(tInP_set, 0)\n",
    "\n",
    "for _k in tInP_t:\n",
    "    tInP_d[_k] += 1\n",
    "print(tInP_d.get('и', 0))"
   ]
  },
  {
   "cell_type": "code",
   "execution_count": 189,
   "metadata": {},
   "outputs": [
    {
     "data": {
      "text/plain": [
       "(('Пушкин', 'Сказака о рыбаке и рыбке'),\n",
       " ('Есенин', 'Письмо к женщине'),\n",
       " ('Тургенев', 'Муму'),\n",
       " ('Пушкин', 'Евгений Онегин'),\n",
       " ('Есенин', 'Русь'))"
      ]
     },
     "execution_count": 189,
     "metadata": {},
     "output_type": "execute_result"
    }
   ],
   "source": [
    "s = '''Пушкин: Сказака о рыбаке и рыбке\n",
    "Есенин: Письмо к женщине\n",
    "Тургенев: Муму\n",
    "Пушкин: Евгений Онегин\n",
    "Есенин: Русь'''\n",
    "lst_in = list(map(str.strip, s.splitlines()))\n",
    "# [x.strip().split(':') for x in s.splitlines()]\n",
    "tT_t = tuple((_A_s, _Na_s.strip()) for _A_s, _Na_s in (_el.split(':') for _el in lst_in))\n",
    "tT_t"
   ]
  },
  {
   "cell_type": "code",
   "execution_count": 190,
   "metadata": {},
   "outputs": [
    {
     "data": {
      "text/plain": [
       "{'Пушкин': {'Евгений Онегин', 'Сказака о рыбаке и рыбке'},\n",
       " 'Есенин': {'Письмо к женщине', 'Русь'},\n",
       " 'Тургенев': {'Муму'}}"
      ]
     },
     "execution_count": 190,
     "metadata": {},
     "output_type": "execute_result"
    }
   ],
   "source": [
    "{_A_s:{_Na2_s for _A2_s, _Na2_s in tT_t if _A_s == _A2_s} for _A_s, _Na_s in tT_t}"
   ]
  },
  {
   "cell_type": "code",
   "execution_count": 16,
   "metadata": {},
   "outputs": [
    {
     "name": "stdout",
     "output_type": "stream",
     "text": [
      "ДА\n"
     ]
    }
   ],
   "source": [
    "glOnlSbl_setf = frozenset(set(str(_i) for _i in range(10)) | set(chr(ord('A') +_i) for _i in range(26))\n",
    "    | set('_@.') | set(chr(ord('a') +_i) for _i in range(26)))\n",
    "def _fp(la2Che_s):\n",
    "  loCheOk_b, loNeSblCo_t = None, (la2Che_s.count('@'), la2Che_s.count('.'))\n",
    "  if all(loNeSblCo_t): # At least one Sbl for each of the required \n",
    "    loCheOk_b = frozenset(la2Che_s) <= glOnlSbl_setf\n",
    "  else:\n",
    "    loCheOk_b = False\n",
    "  # frozenset('@.' <= frozenset(la2Che_s) <= glOnlSbl_setf\n",
    "  print('ДА' if loCheOk_b else 'НЕТ')\n",
    "\n",
    "# tInP_a = input().strip()\n",
    "tInP_a = 'sc_lib@list.ru'\n",
    "_fp(tInP_a)\n"
   ]
  },
  {
   "cell_type": "code",
   "execution_count": 15,
   "metadata": {},
   "outputs": [
    {
     "name": "stdout",
     "output_type": "stream",
     "text": [
      "['.', '0', '1', '2', '3', '4', '5', '6', '7', '8', '9', '@', 'A', 'B', 'C', 'D', 'E', 'F', 'G', 'H', 'I', 'J', 'K', 'L', 'M', 'N', 'O', 'P', 'Q', 'R', 'S', 'T', 'U', 'V', 'W', 'X', 'Y', 'Z', '_', 'a', 'b', 'c', 'd', 'e', 'f', 'g', 'h', 'i', 'j', 'k', 'l', 'm', 'n', 'o', 'p', 'q', 'r', 's', 't', 'u', 'v', 'w', 'x', 'y', 'z']\n",
      "0 j\n",
      "1 6\n",
      "2 z\n",
      "3 _\n",
      "4 D\n"
     ]
    }
   ],
   "source": [
    "OnlSbl_setf = frozenset(set(str(_i) for _i in range(10)) | set(chr(ord('A') +_i) for _i in range(26))\n",
    "    | set('_@.') | set(chr(ord('a') +_i) for _i in range(26)))\n",
    "print(sorted(OnlSbl_setf))\n",
    "for _ix, _el in enumerate(OnlSbl_setf):\n",
    "  if _ix < 5: print(_ix, _el)\n",
    "  else: break"
   ]
  },
  {
   "cell_type": "code",
   "execution_count": 18,
   "metadata": {},
   "outputs": [
    {
     "data": {
      "text/plain": [
       "True"
      ]
     },
     "execution_count": 18,
     "metadata": {},
     "output_type": "execute_result"
    }
   ],
   "source": [
    "def is_triangle(la1Len_n, la2Len_n, la3Len_n):\n",
    "    lo_l = sorted((la1Len_n, la2Len_n, la3Len_n))\n",
    "    return lo_l[-1] < sum(lo_l[:-1])\n",
    "is_triangle(3,5,4)"
   ]
  },
  {
   "cell_type": "code",
   "execution_count": 19,
   "metadata": {},
   "outputs": [
    {
     "name": "stdout",
     "output_type": "stream",
     "text": [
      "8\n",
      "4\n",
      "0\n"
     ]
    }
   ],
   "source": [
    "for t_s in iter(input, '1'):\n",
    "  if int(t_s) % 2 == 0: print(t_s)\n",
    "\n",
    "# [print(_s) for _s in iter(input, '1') if int(_s) % 2 == 0]"
   ]
  },
  {
   "cell_type": "markdown",
   "metadata": {},
   "source": [
    "7.2 Оператор return 9 из 10\n",
    "Подвиг 8. Объявите функцию, которая принимает строку (в качестве аргумента) и возвращает два значения в виде кортежа: переданная строка и ее длина.\n",
    "\n",
    "После объявления функции прочитайте (с помощью функции input) список названий городов, записанных в одну строку через пробел. Затем, используя генератор словарей и созданную функцию, сформируйте словарь d в формате:\n",
    "\n",
    "d = {<город 1>: <число символов>, ..., <город N>: <число символов>}\n",
    "\n",
    "Выведите этот словарь в порядке возрастания длин строк с помощью команд:\n",
    "\n",
    "Sample Input:\n",
    "Воронеж Лондон Тверь Омск Уфа\n",
    "Sample Output:\n",
    "Уфа Омск Тверь Лондон Воронеж"
   ]
  },
  {
   "cell_type": "code",
   "execution_count": null,
   "metadata": {},
   "outputs": [],
   "source": [
    "def _ff(laSrc_s):\n",
    "    return laSrc_s, len(laSrc_s)\n",
    "\n",
    "d = {_k:_v for _k, _v in map(_ff, input().split())}\n",
    "\n",
    "a = sorted(d, key=lambda x: d[x])\n",
    "print(*a)\n"
   ]
  },
  {
   "cell_type": "markdown",
   "metadata": {},
   "source": [
    "7.2 Оператор return 9 из 10 шагов пройдено\n",
    "Подвиг 9. Вводится список целых чисел в одну строчку через пробел. Необходимо задать функцию, которая принимает два аргумента (максимальное и минимальное значения из списка) и возвращает их произведение. Вызовите эту функцию и отобразите на экране полученное числовое значение.\n",
    "\n",
    "Подсказка: для передачи аргументов функции используйте функции max и min для введенного списка чисел.\n",
    "\n",
    "Sample Input:\n",
    "56 34 -30 22 1 4 10\n",
    "Sample Output:\n",
    "-1680"
   ]
  },
  {
   "cell_type": "code",
   "execution_count": null,
   "metadata": {},
   "outputs": [],
   "source": [
    "def _ff(la1Mul_i, la2Mul_i):\n",
    "    return la1Mul_i * la2Mul_i\n",
    "\n",
    "tInP_l = list(map(int, input().split()))\n",
    "\n",
    "print(_ff(max(tInP_l), min(tInP_l)))"
   ]
  },
  {
   "cell_type": "markdown",
   "metadata": {},
   "source": [
    "7.3 Алгоритм Евклида для нахождения НОД1 из 2 шагов пройден\n",
    "0 из 5 баллов  получено\n",
    "Большой подвиг 1. Повторите быстрый алгоритм Евклида для нахождения наибольшего общего делителя двух натуральных чисел a и b. В программе необходимо объявить функцию get_nod, которая принимает два аргумента a и b (натуральные числа) и возвращает вычисленное значение НОД(a, b).\n",
    "\n",
    "Если трудно понятно в видео: Алгоритм нахождения НОД делением\n",
    "\n",
    "1. Большее число делим на меньшее.\n",
    "2. Если делится без остатка, то меньшее число и есть НОД (следует выйти из цикла).\n",
    "3. Если есть остаток, то большее число заменяем на остаток от деления.\n",
    "4. Переходим к пункту 1.\n",
    "\n",
    "P. S. Вызывать функцию не нужно, только задать. Постарайтесь реализовать алгоритм, не возвращаясь к материалу на видео."
   ]
  },
  {
   "cell_type": "code",
   "execution_count": null,
   "metadata": {},
   "outputs": [],
   "source": [
    "def get_nod(a, b):\n",
    "    loMinMax_t = sorted((a, b))\n",
    "    loRemainder_i = loMinMax_t[1] % loMinMax_t[0]\n",
    "    while loRemainder_i:\n",
    "        loMinMax_t = (loRemainder_i, loMinMax_t[0])\n",
    "        loRemainder_i = loMinMax_t[1] % loMinMax_t[0]\n",
    "    return loMinMax_t[0]\n",
    "\n",
    "# from math import gcd as get_nod\n"
   ]
  },
  {
   "cell_type": "markdown",
   "metadata": {},
   "source": [
    "7.4 Именованные аргументы. Фактические и формальные параметры\n",
    "4 из 7 шагов пройдено\n",
    "6 из 14 баллов  получено\n",
    "Подвиг 4. Объявите функцию, которая принимает строку на кириллице и преобразовывает ее в латиницу, используя следующий словарь для замены русских букв на соответствующее латинское написание:\n",
    "\n",
    "t = {...}\n",
    "Функция должна возвращать преобразованную строку. Замены делать без учета регистра (исходную строку перевести в нижний регистр - малые буквы). У функции также определить формальный параметр sep с начальным значением в виде строки \"-\". Он будет определять символ для замены пробелов в строке.\n",
    "\n",
    "После объявления функции прочитайте (с помощью функции input) строку и дважды вызовите функцию (с выводом результата ее работы на экран):\n",
    "\n",
    "- первый раз только со строкой\n",
    "- второй раз со строкой и именованным аргументом sep со значением '+'.\n",
    "\n",
    "Sample Input:\n",
    "Лучший курс по Python!\n",
    "Sample Output:\n",
    "luchshiy-kurs-po-python!\n",
    "luchshiy+kurs+po+python!"
   ]
  },
  {
   "cell_type": "code",
   "execution_count": 38,
   "metadata": {},
   "outputs": [
    {
     "name": "stdout",
     "output_type": "stream",
     "text": [
      "luchshiy-kurs-po-python!\n",
      "luchshiy+kurs+po+python!\n"
     ]
    }
   ],
   "source": [
    "t = {'ё': 'yo', 'а': 'a', 'б': 'b', 'в': 'v', 'г': 'g', 'д': 'd', 'е': 'e', 'ж': 'zh',\n",
    "     'з': 'z', 'и': 'i', 'й': 'y', 'к': 'k', 'л': 'l', 'м': 'm', 'н': 'n', 'о': 'o', 'п': 'p',\n",
    "     'р': 'r', 'с': 's', 'т': 't', 'у': 'u', 'ф': 'f', 'х': 'h', 'ц': 'c', 'ч': 'ch', 'ш': 'sh',\n",
    "     'щ': 'shch', 'ъ': '', 'ы': 'y', 'ь': '', 'э': 'e', 'ю': 'yu', 'я': 'ya'}\n",
    "\n",
    "def _ff(laRus_s, laSep_s='-'):\n",
    "  return ''.join(t.get(_s, _s) for _s in laRus_s.lower()).replace(' ', sep)\n",
    "  # laRus_s = laRus_s.lower()\n",
    "  # loTransl_d  = t.copy()\n",
    "  # loTransl_d[' '] = laSep_s\n",
    "  # return ''.join(loTransl_d.get(_s, _s) for _s in laRus_s)\n",
    "\n",
    "print(_ff('Лучший курс по Python!'),_ff('Лучший курс по Python!', '+'), sep='\\n')"
   ]
  },
  {
   "cell_type": "code",
   "execution_count": 39,
   "metadata": {},
   "outputs": [
    {
     "data": {
      "text/plain": [
       "('luchshiy kurs po python!', True)"
      ]
     },
     "execution_count": 39,
     "metadata": {},
     "output_type": "execute_result"
    }
   ],
   "source": [
    "''.join(t.get(_s, _s) for _s in 'Лучший курс по Python!'.lower()), \\\n",
    "\"р\" == 'р'"
   ]
  },
  {
   "cell_type": "code",
   "execution_count": 80,
   "metadata": {},
   "outputs": [
    {
     "data": {
      "text/plain": [
       "((0,), (1,), (6,), (6, True, 33, False, 1), (6, True, False, 1), (6, True, 1))"
      ]
     },
     "execution_count": 80,
     "metadata": {},
     "output_type": "execute_result"
    }
   ],
   "source": [
    "def get_data_fig(*laA_l, **laA_d):\n",
    "    # lo_it = iter([])\n",
    "    # loK_t = (\"type\", \"color\", \"closed\", \"width\")\n",
    "    # if laA_d:\n",
    "    #     lo_it = (laA_d[_k] for _k in loK_t if _k in laA_d)\n",
    "    return (sum(laA_l),) + tuple(laA_d[_k] for _k in (\"type\", \"color\"\n",
    "        , \"closed\", \"width\") if _k in laA_d)\n",
    "\n",
    "get_data_fig(), get_data_fig(1), get_data_fig(1,2,3),\\\n",
    "  get_data_fig(1,2,3, type=True, color=33, closed=False, width=1),\\\n",
    "  get_data_fig(1,2,3, type=True, closed=False, width=1),\\\n",
    "  get_data_fig(1,2,3, width=1, type=True)\n"
   ]
  },
  {
   "cell_type": "code",
   "execution_count": 72,
   "metadata": {},
   "outputs": [
    {
     "data": {
      "text/plain": [
       "(6, True, 33, False, 1)"
      ]
     },
     "execution_count": 72,
     "metadata": {},
     "output_type": "execute_result"
    }
   ],
   "source": [
    "get_data_fig(1,2,3,color=33, type=True,closed=False,width=1)"
   ]
  },
  {
   "cell_type": "code",
   "execution_count": 68,
   "metadata": {},
   "outputs": [
    {
     "data": {
      "text/plain": [
       "[]"
      ]
     },
     "execution_count": 68,
     "metadata": {},
     "output_type": "execute_result"
    }
   ],
   "source": [
    "t_d = {}\n",
    "[t_d[_k] for _k in (\"type\", \"color\", \"closed\", \"width\")\n",
    "            if _k in t_d]"
   ]
  },
  {
   "cell_type": "code",
   "execution_count": 70,
   "metadata": {},
   "outputs": [
    {
     "ename": "TypeError",
     "evalue": "iter expected at least 1 argument, got 0",
     "output_type": "error",
     "traceback": [
      "\u001b[1;31m---------------------------------------------------------------------------\u001b[0m",
      "\u001b[1;31mTypeError\u001b[0m                                 Traceback (most recent call last)",
      "\u001b[1;32md:\\Doc\\Dvl\\Prj\\Py\\Stu\\PyDev\\05\\HW\\ts.ipynb Ячейка 110\u001b[0m in \u001b[0;36m<cell line: 1>\u001b[1;34m()\u001b[0m\n\u001b[1;32m----> <a href='vscode-notebook-cell:/d%3A/Doc/Dvl/Prj/Py/Stu/PyDev/05/HW/ts.ipynb#ch0000144?line=0'>1</a>\u001b[0m \u001b[39mtuple\u001b[39m((\u001b[39m5\u001b[39m,) \u001b[39m+\u001b[39m \u001b[39mtuple\u001b[39m(\u001b[39miter\u001b[39;49m()))\n",
      "\u001b[1;31mTypeError\u001b[0m: iter expected at least 1 argument, got 0"
     ]
    }
   ],
   "source": [
    "tuple((5,) + tuple(iter([])))"
   ]
  },
  {
   "cell_type": "code",
   "execution_count": 95,
   "metadata": {},
   "outputs": [
    {
     "name": "stdout",
     "output_type": "stream",
     "text": [
      "[0, 0, 0, 0, 0, 0, 0]\n",
      "[0, 1, 0, 1, 0, 0, 0]\n",
      "[0, 0, 0, 1, 0, 1, 0]\n",
      "[0, 0, 0, 0, 0, 0, 0]\n",
      "[0, 0, 1, 0, 1, 0, 0]\n",
      "[0, 0, 0, 0, 0, 1, 0]\n",
      "[0, 0, 0, 0, 0, 0, 0]\n",
      "(5, 5)\n",
      "0\n",
      "-------------------------------------------------------\n",
      "[0, 0, 0, 0, 0, 0, 0, 0, 0]\n",
      "[0, 0, 0, 0, 0, 0, 0, 0, 0]\n",
      "[0, 0, 1, 0, 1, 0, 0, 0, 0]\n",
      "[0, 0, 0, 0, 1, 0, 1, 0, 0]\n",
      "[0, 0, 0, 0, 0, 0, 0, 0, 0]\n",
      "[0, 0, 0, 1, 0, 1, 0, 0, 0]\n",
      "[0, 0, 0, 0, 0, 0, 1, 0, 0]\n",
      "[0, 0, 0, 0, 0, 0, 0, 0, 0]\n",
      "[0, 0, 0, 0, 0, 0, 0, 0, 0]\n",
      "(5, 5)\n",
      "0\n"
     ]
    }
   ],
   "source": [
    "s = '''1 0 1 0 0\n",
    "0 0 1 0 1\n",
    "0 0 0 0 0\n",
    "0 1 0 1 0\n",
    "0 0 0 0 1'''\n",
    "# s = '''1 0 0 0 0\n",
    "# 0 0 1 0 1\n",
    "# 0 0 0 0 0\n",
    "# 0 1 0 1 0\n",
    "# 0 0 0 0 0'''\n",
    "lst_in = [list(map(int, x.strip().split())) for x in s.splitlines()]\n",
    "tDim_t = (len(lst_in), len(lst_in[0]))\n",
    "# s.splitlines()\n",
    "tWrkL_l = [[0]  + _el +[0] for _el in lst_in]\n",
    "tWrkL_l.insert(0, [0] *(tDim_t[0] +2))\n",
    "tWrkL_l += [[0] *(tDim_t[0] +2)]\n",
    "\n",
    "def is_isolate(la2CheL_l, laRIxCIx_t, laDiam_i=1):\n",
    "      loSumByR_t = tuple(\n",
    "          sum(tWrkL_l[_R_ix][tC_ix -1:tC_ix +2])\n",
    "          for _R_ix in (tR_ix -1, tR_ix, tR_ix +1))\n",
    "      tSumAro_i = sum(tSumByR_t) -1\n",
    "      if tSumAro_i:\n",
    "        tCheOk_b = False\n",
    "      if tGetAllIx_b:\n",
    "        tAllIxWSumT_l.append((tR_ix -1, tC_ix -1, tSumByR_t, tSumAro_i))\n",
    "\n",
    "def verify(la2CheL_l, laDiam_i=1):\n",
    "  loDim_t = (len(la2CheL_l), len(la2CheL_l[0])) # (Row, Col)\n",
    "  loPad0L_l = [[0] *laDiam_i  + _el + [0] *laDiam_i for _el in la2CheL_l]\n",
    "  loPad0Row_l = [0] *(loDim_t[0] +(2 *laDiam_i))\n",
    "  for lo_co in range(laDiam_i):\n",
    "    loPad0L_l.insert(0, loPad0Row_l)\n",
    "    loPad0L_l.append(loPad0Row_l)\n",
    "  # print(loPad0L_l, sep='\\n')\n",
    "  print(*loPad0L_l, tDim_t, loPad0L_l[5][4], sep='\\n')\n",
    "\n",
    "print(*tWrkL_l, tDim_t, tWrkL_l[5][4], '-' *55, sep='\\n')\n",
    "verify(lst_in, 2) "
   ]
  },
  {
   "cell_type": "code",
   "execution_count": 86,
   "metadata": {},
   "outputs": [
    {
     "data": {
      "text/plain": [
       "[0, 0, 0, 0, 0]"
      ]
     },
     "execution_count": 86,
     "metadata": {},
     "output_type": "execute_result"
    }
   ],
   "source": [
    "[0] * 5"
   ]
  },
  {
   "cell_type": "code",
   "execution_count": 84,
   "metadata": {},
   "outputs": [
    {
     "name": "stdout",
     "output_type": "stream",
     "text": [
      "НЕТ\n",
      "(0, 0, (0, 1, 0), 0)\n",
      "(0, 2, (0, 1, 1), 1)\n",
      "(1, 2, (1, 1, 0), 1)\n",
      "(1, 4, (0, 1, 0), 0)\n",
      "(3, 1, (0, 1, 0), 0)\n",
      "(3, 3, (0, 1, 1), 1)\n",
      "(4, 4, (1, 1, 0), 1)\n",
      "4\n"
     ]
    }
   ],
   "source": [
    "tAllIxWSumT_l, tGetAllIx_b = [], False\n",
    "tAllIxWSumT_l, tGetAllIx_b = [], True\n",
    "tCheOk_b = True\n",
    "for tR_ix in range(1, tDim_t[0] +1):\n",
    "  for tC_ix in range(1, tDim_t[1] +1):\n",
    "    if tWrkL_l[tR_ix][tC_ix] == 1:\n",
    "      tSumByR_t = tuple(sum(tWrkL_l[_R_ix][tC_ix -1:tC_ix +2])\n",
    "          for _R_ix in (tR_ix -1, tR_ix, tR_ix +1))\n",
    "      tSumAro_i = sum(tSumByR_t) -1\n",
    "      if tSumAro_i:\n",
    "        tCheOk_b = False\n",
    "      if tGetAllIx_b:\n",
    "        tAllIxWSumT_l.append((tR_ix -1, tC_ix -1, tSumByR_t, tSumAro_i))\n",
    "      elif not tCheOk_b:\n",
    "          break\n",
    "      # print(tR_ix -1, tC_ix -1, tSumByR_t, tSumAro_i)\n",
    "  if not tGetAllIx_b and not tCheOk_b:\n",
    "    break\n",
    "\n",
    "print('ДА' if tCheOk_b else 'НЕТ')\n",
    "if tAllIxWSumT_l:\n",
    "  print(*tAllIxWSumT_l, sum(_el[-1] for _el in tAllIxWSumT_l), sep='\\n')"
   ]
  },
  {
   "cell_type": "markdown",
   "metadata": {},
   "source": [
    "######   For/if/break/else/continue/break\n",
    "\n",
    "\n",
    "for j in range(n):        \n",
    "        if lst_in[i][j] + lst_in[i + 1][j] + lst_in[i + 1][j + 1] + lst_in[i][j + 1] > 1:\n",
    "            print('НЕТ')\n",
    "            break\n",
    "    else:\n",
    "        continue\n",
    "    break # выход из внешнего цикца\n"
   ]
  },
  {
   "cell_type": "code",
   "execution_count": null,
   "metadata": {},
   "outputs": [],
   "source": [
    "import sys\n",
    "\n",
    "# считывание списка из входного потока\n",
    "s = sys.stdin.readlines()\n",
    "lst_in = [list(map(int, x.strip().split())) for x in s]\n",
    "\n",
    "# здесь продолжайте программу (используйте список lst_in)\n",
    "n = len(lst_in) - 1\n",
    "\n",
    "for i in range(n):\n",
    "    for j in range(n):        \n",
    "        if lst_in[i][j] + lst_in[i + 1][j] + lst_in[i + 1][j + 1] + lst_in[i][j + 1] > 1:\n",
    "            print('НЕТ')\n",
    "            break\n",
    "    else:\n",
    "        continue\n",
    "    break # выход из внешнего цикца\n",
    "else:\n",
    "    print('ДА')"
   ]
  },
  {
   "cell_type": "code",
   "execution_count": null,
   "metadata": {},
   "outputs": [
    {
     "name": "stdout",
     "output_type": "stream",
     "text": [
      "ДА\n"
     ]
    },
    {
     "data": {
      "text/plain": [
       "[(0, 1),\n",
       " (0, 2),\n",
       " (0, 3),\n",
       " (0, 4),\n",
       " (1, 2),\n",
       " (1, 3),\n",
       " (1, 4),\n",
       " (2, 3),\n",
       " (2, 4),\n",
       " (3, 4)]"
      ]
     },
     "metadata": {},
     "output_type": "display_data"
    }
   ],
   "source": [
    "s = '''2 3 4 5 6\n",
    "3 2 7 8 9\n",
    "4 7 2 0 4\n",
    "5 8 0 2 1\n",
    "6 9 4 1 2'''\n",
    "# s = '''2 3 4 7 6\n",
    "# 3 2 7 8 9\n",
    "# 4 7 2 0 4\n",
    "# 5 8 0 2 1\n",
    "# 6 9 4 1 2'''\n",
    "# s = '''1 0 0 0 0\n",
    "# 0 0 1 0 1\n",
    "# 0 0 0 0 0\n",
    "# 0 1 0 1 0\n",
    "# 0 0 0 0 0'''\n",
    "lst_in = [list(map(int, x.strip().split())) for x in s.splitlines()]\n",
    "tDim_t = (len(lst_in), len(lst_in[0]))\n",
    "\n",
    "\n",
    "print('ДА' if all(lst_in[_R_ix][_C_ix] == lst_in[_C_ix][_R_ix] for _R_ix in range(tDim_t[0])\n",
    "  for _C_ix in range(_R_ix +1, tDim_t[1])) else 'НЕТ')\n",
    "\n",
    "[(_R_ix, _C_ix) for _R_ix in range(tDim_t[0])\n",
    "  for _C_ix in range(_R_ix +1, tDim_t[1])]"
   ]
  },
  {
   "cell_type": "code",
   "execution_count": null,
   "metadata": {},
   "outputs": [
    {
     "name": "stdout",
     "output_type": "stream",
     "text": [
      "[]\n",
      "\n"
     ]
    }
   ],
   "source": [
    "tSrc_l =[8, 11, -53, 2, 10, 11]\n",
    "# tSrc_l = list(map(int, input().split()))\n",
    "print(tSrc_l)\n",
    "for tCur_ix in range(len(tSrc_l)):\n",
    "  iMin_ix = tCur_ix\n",
    "  print(tCur_ix, iMin_ix, tSrc_l[iMin_ix])\n",
    "  for tTsMin_ix in range(tCur_ix +1, len(tSrc_l)):\n",
    "    if tSrc_l[iMin_ix] > tSrc_l[tTsMin_ix]:\n",
    "      iMin_ix = tTsMin_ix\n",
    "      print('\\tMin:', tTsMin_ix, tCur_ix, iMin_ix, tSrc_l[iMin_ix])\n",
    "  if iMin_ix != tCur_ix:\n",
    "    tSrc_l[tCur_ix], tSrc_l[iMin_ix] = tSrc_l[iMin_ix], tSrc_l[tCur_ix]\n",
    "    print('Cha:', tCur_ix, iMin_ix, tSrc_l[iMin_ix], '\\n', tSrc_l)\n",
    "print(*tSrc_l)"
   ]
  },
  {
   "cell_type": "code",
   "execution_count": null,
   "metadata": {},
   "outputs": [
    {
     "name": "stdout",
     "output_type": "stream",
     "text": [
      "[4, 5, 10]\n",
      "0 3 TailSorted:[]\n",
      "Res: [4, 5, 10]\n",
      "1 3 TailSorted:[]\n",
      "Res: [4, 5, 10]\n",
      "0 2 TailSorted:[10]\n",
      "Res: [4, 5, 10]\n",
      "4 5 10\n"
     ]
    }
   ],
   "source": [
    "tSrc_l = [8, 11, -53, 2, 10, 11]\n",
    "tSrc_l = [4, 5, 2, 0, 6, 3, -56, 3, -1]\n",
    "tSrc_l = [4, 5, 10]\n",
    "# tSrc_l = []\n",
    "# tSrc_l = list(map(int, input().split()))\n",
    "print(tSrc_l)\n",
    "\n",
    "for tCurEdge_ix in range(len(tSrc_l), 0, -1):\n",
    "  for tCur_ix in range(tCurEdge_ix -1):\n",
    "    print(tCur_ix, tCurEdge_ix, f'TailSorted:{tSrc_l[tCurEdge_ix:]}')\n",
    "    if tSrc_l[tCur_ix] > tSrc_l[tCur_ix +1]:\n",
    "      tSrc_l[tCur_ix], tSrc_l[tCur_ix +1] =  tSrc_l[tCur_ix +1], tSrc_l[tCur_ix]\n",
    "      print('\\tCha:', tCur_ix, tSrc_l[tCur_ix], tSrc_l[tCur_ix +1])\n",
    "    print('Res:', tSrc_l)\n",
    "print(*tSrc_l)"
   ]
  },
  {
   "cell_type": "code",
   "execution_count": null,
   "metadata": {},
   "outputs": [],
   "source": [
    "lst = list(map(int, input().split()))\n",
    "for i in range(len(lst), 0, -1):\n",
    "    ordered = True\n",
    "    for j in range(1, i):\n",
    "        if lst[j - 1] > lst[j]:\n",
    "            lst[j - 1], lst[j], ordered = lst[j], lst[j - 1], False\n",
    "    if ordered: break\n",
    "print(*lst)  "
   ]
  },
  {
   "cell_type": "code",
   "execution_count": null,
   "metadata": {},
   "outputs": [
    {
     "data": {
      "text/plain": [
       "(5, 25)"
      ]
     },
     "metadata": {},
     "output_type": "display_data"
    }
   ],
   "source": [
    "divmod(345, 64)"
   ]
  },
  {
   "cell_type": "code",
   "execution_count": null,
   "metadata": {},
   "outputs": [
    {
     "name": "stdout",
     "output_type": "stream",
     "text": [
      "345 [0, 0, 0, 0, 0, 0, 0]\n",
      "0 25 [5, 0, 0, 0, 0, 0, 0]\n",
      "1 25 [5, 0, 0, 0, 0, 0, 0]\n",
      "2 9 [5, 0, 1, 0, 0, 0, 0]\n",
      "3 1 [5, 0, 1, 1, 0, 0, 0]\n",
      "4 1 [5, 0, 1, 1, 0, 0, 0]\n",
      "5 1 [5, 0, 1, 1, 0, 0, 0]\n",
      "6 0 [5, 0, 1, 1, 0, 0, 1]\n",
      "5 0 1 1 0 0 1\n",
      "64 64 64 64 64 16 8 1\n"
     ]
    }
   ],
   "source": [
    "tVal_l = [1, 2, 4, 8, 16, 32, 64][::-1]\n",
    "tRes_l, tCurVal_ix = [0] *len(tVal_l), 0\n",
    "tSum_i = 345\n",
    "print(tSum_i, tRes_l)\n",
    "\n",
    "for tCurVal_ix in range(len(tVal_l)):\n",
    "  tRes_l[tCurVal_ix], tSum_i = divmod(tSum_i, tVal_l[tCurVal_ix])\n",
    "  print(tCurVal_ix, tSum_i, tRes_l)\n",
    "  if tSum_i == 0: break\n",
    "print(*tRes_l)\n",
    "t_it = (f'{\" \".join([str(tVal_l[_ix])] *tRes_l[_ix])}' for _ix in range(len(tVal_l)) if tRes_l[_ix] > 0)\n",
    "print(*t_it)\n",
    "# \" \".join(f'{\" \".join([str(tVal_l[_ix])] *tRes_l[_ix])}' for _ix in range(len(tVal_l)) if tRes_l[_ix] > 0)\n",
    "\n"
   ]
  },
  {
   "cell_type": "code",
   "execution_count": null,
   "metadata": {},
   "outputs": [
    {
     "name": "stdout",
     "output_type": "stream",
     "text": [
      "1 0 0 0 0\n",
      "0 1 0 0 0\n",
      "0 0 1 0 0\n",
      "0 0 0 1 0\n",
      "0 0 0 0 1\n"
     ]
    }
   ],
   "source": [
    "tInP_i = 5\n",
    "tResL_l = [[1 if tR_ix == tC_ix else 0 for tR_ix in range(tInP_i)]\n",
    "           for tC_ix in range(tInP_i)]\n",
    "print(*(' '.join(map(str, _el)) for _el in tResL_l), sep='\\n')"
   ]
  },
  {
   "cell_type": "code",
   "execution_count": null,
   "metadata": {},
   "outputs": [
    {
     "data": {
      "text/plain": [
       "[1, 2, 5, 10]"
      ]
     },
     "metadata": {},
     "output_type": "display_data"
    }
   ],
   "source": [
    "tInP_i = 10\n",
    "tRes_l = [_i for _i in range(1, tInP_i +1) if tInP_i % _i == 0]\n",
    "tRes_l\n",
    "# print(*(' '.join(map(str, _el)) for _el in tResL_l), sep='\\n')"
   ]
  },
  {
   "cell_type": "code",
   "execution_count": null,
   "metadata": {},
   "outputs": [
    {
     "name": "stdout",
     "output_type": "stream",
     "text": [
      "0 0 0 0 0\n",
      "1 1 1 1 1\n",
      "2 2 2 2 2\n",
      "3 3 3 3 3\n",
      "4 4 4 4 4\n"
     ]
    }
   ],
   "source": [
    "tInP_i = 5\n",
    "tResL_l = [[ tC_ix for tR_ix in range(tInP_i)]\n",
    "           for tC_ix in range(tInP_i)]\n",
    "print(*(' '.join(map(str, _el)) for _el in tResL_l), sep='\\n')"
   ]
  },
  {
   "cell_type": "code",
   "execution_count": null,
   "metadata": {},
   "outputs": [
    {
     "data": {
      "text/plain": [
       "[2, 3, 4, 5, 6, 7, 8, 9, 8, 7, 6, 5, 4, 3, 2, 1]"
      ]
     },
     "metadata": {},
     "output_type": "display_data"
    }
   ],
   "source": [
    "s = '''2 3 4 5 6\n",
    "3 2 7 8 9\n",
    "4 7 2 0 4\n",
    "5 8 0 2 1\n",
    "6 9 4 1 2'''\n",
    "# s = '''2 3 4 7 6\n",
    "# 3 2 7 8 9\n",
    "# 4 7 2 0 4\n",
    "# 5 8 0 2 1\n",
    "# 6 9 4 1 2'''\n",
    "s = '''1 2 3 4\n",
    "5 6 7 8\n",
    "9 8 7 6\n",
    "5 4 3 2'''\n",
    "lst_in = [list(map(int, x.strip().split())) for x in s.splitlines()]\n",
    "tDim_t = (len(lst_in), len(lst_in[0]))\n",
    "\n",
    "\n",
    "[lst_in[_R_ix][_C_ix] for _R_ix in range(tDim_t[0] -1, -1, -1)\n",
    "  for _C_ix in range(tDim_t[1] -1, -1, -1)]"
   ]
  },
  {
   "cell_type": "code",
   "execution_count": null,
   "metadata": {},
   "outputs": [
    {
     "data": {
      "text/plain": [
       "(3, [[1, 2, 3], [4, 5, 6], [7, 8, 9]])"
      ]
     },
     "metadata": {},
     "output_type": "display_data"
    }
   ],
   "source": [
    "# tInP_l = [int(_el) for _el in input().strip()]\n",
    "tInP_l = [int(_el) for _el in '1 2 3 4 5 6 7 8 9'.split()]\n",
    "tDim_i = int(len(tInP_l) **.5)\n",
    "tDim_i, [tInP_l[_ix *tDim_i:(_ix +1) *tDim_i] for _ix in range(tDim_i)]\n",
    "tDim_i, [tInP_l[_ix:_ix +tDim_i] for _ix in range(0, len(tInP_l), tDim_i)]"
   ]
  },
  {
   "cell_type": "code",
   "execution_count": null,
   "metadata": {},
   "outputs": [
    {
     "data": {
      "text/plain": [
       "[['Скажи-ка,', 'дядя,', 'ведь', 'даром'],\n",
       " ['Python', 'выучил', 'каналом'],\n",
       " ['Балакирев', 'раздавал?'],\n",
       " ['Ведь', 'были', 'заданья', 'боевые,'],\n",
       " ['говорят,', 'какие!'],\n",
       " ['Недаром', 'помнит', 'Россия'],\n",
       " ['рубили', 'тогда!']]"
      ]
     },
     "metadata": {},
     "output_type": "display_data"
    }
   ],
   "source": [
    "t = [\"– Скажи-ка, дядя, ведь не даром\",\n",
    "    \"Я Python выучил с каналом\",\n",
    "    \"Балакирев что раздавал?\",\n",
    "    \"Ведь были ж заданья боевые,\",\n",
    "    \"Да, говорят, еще какие!\",\n",
    "    \"Недаром помнит вся Россия\",\n",
    "    \"Как мы рубили их тогда!\"\n",
    "    ]\n",
    "[[_s for _s in _el.split() if len(_s) > 3] for _el in t]"
   ]
  },
  {
   "cell_type": "code",
   "execution_count": null,
   "metadata": {},
   "outputs": [
    {
     "data": {
      "text/plain": [
       "[2, 3, 4, 5, 6, 7, 8, 9, 8, 7, 6, 5, 4, 3, 2, 1]"
      ]
     },
     "metadata": {},
     "output_type": "display_data"
    }
   ],
   "source": [
    "s = '''2 3 4 5 6\n",
    "3 2 7 8 9\n",
    "4 7 2 0 4\n",
    "5 8 0 2 1\n",
    "6 9 4 1 2'''\n",
    "# s = '''2 3 4 7 6\n",
    "# 3 2 7 8 9\n",
    "# 4 7 2 0 4\n",
    "# 5 8 0 2 1\n",
    "# 6 9 4 1 2'''\n",
    "s = '''1 2 3 4\n",
    "5 6 7 8\n",
    "9 8 7 6\n",
    "5 4 3 2'''\n",
    "lst_in = [list(map(int, x.strip().split())) for x in s.splitlines()]\n",
    "tDim_t = (len(lst_in), len(lst_in[0]))\n",
    "\n",
    "\n",
    "[lst_in[_R_ix][_C_ix] for _R_ix in range(tDim_t[0] -1, -1, -1)\n",
    "  for _C_ix in range(tDim_t[1] -1, -1, -1)]"
   ]
  },
  {
   "cell_type": "code",
   "execution_count": null,
   "metadata": {},
   "outputs": [
    {
     "data": {
      "text/plain": [
       "[[1, 5, 9, 5], [2, 6, 8, 4], [3, 7, 7, 3], [4, 8, 6, 2]]"
      ]
     },
     "metadata": {},
     "output_type": "display_data"
    }
   ],
   "source": [
    "[[lst_in[_R_ix][_C_ix] for _R_ix in range(tDim_t[0])]\n",
    "  for _C_ix in range(tDim_t[1])]"
   ]
  },
  {
   "cell_type": "code",
   "execution_count": null,
   "metadata": {},
   "outputs": [
    {
     "data": {
      "text/plain": [
       "[('one', 1), ('two', 2), ('three', 3)]"
      ]
     },
     "metadata": {},
     "output_type": "display_data"
    }
   ],
   "source": [
    "d  = {}\n",
    "d[\"house\"] = ['дом', 'жилище', 'хижина']\n",
    "[(_k, int(_v)) for _k, _v in (_s.split('=') for _s in 'one=1 two=2 three=3'.split())]"
   ]
  },
  {
   "cell_type": "code",
   "execution_count": null,
   "metadata": {},
   "outputs": [
    {
     "name": "stdout",
     "output_type": "stream",
     "text": [
      "('True', 'истина') ('дон', 'река') ('лена', 'имя') ('москва', 'город')\n"
     ]
    }
   ],
   "source": [
    "d = dict(_s.split('=') for _s in 'лена=имя дон=река москва=город False=ложь 3=удовлетворительно True=истина'.split())\n",
    "\n",
    "# d = dict(((_k, _v) for _k, _v in tInP_it))\n",
    "for _k in ('False', '3'): d.pop(_k, None)\n",
    "# _tmp_a = tuple(d.pop(_k, None) for _k in ('False', '3'))\n",
    "# del _tmp_a\n",
    "print(*sorted(d.items()))\n"
   ]
  },
  {
   "cell_type": "code",
   "execution_count": null,
   "metadata": {},
   "outputs": [],
   "source": [
    "tInP_it = ((_s[:2], _s) for _s in input().split())\n",
    "\n",
    "d = {}\n",
    "for _k, _v in tInP_it:\n",
    "    # d.setdefault(_k, []).append(_v)\n",
    "    if _k in d:\n",
    "        d[_k] += [_v]\n",
    "    else:\n",
    "        d[_k] = [_v]\n",
    "\n",
    "print(*sorted(d.items()))\n",
    "d = dict([(x[:2], [i for i in n if x[:2] == i[:2]]) for x in n])"
   ]
  },
  {
   "cell_type": "code",
   "execution_count": null,
   "metadata": {},
   "outputs": [
    {
     "data": {
      "text/plain": [
       "[['+71234567890', 'Сергей'],\n",
       " ['+71234567810', 'Сергей'],\n",
       " ['+51234567890', 'Михаил'],\n",
       " ['+72134567890', 'Николай']]"
      ]
     },
     "metadata": {},
     "output_type": "display_data"
    }
   ],
   "source": [
    "s = '''+71234567890 Сергей\n",
    "+71234567810 Сергей\n",
    "+51234567890 Михаил\n",
    "+72134567890 Николай'''\n",
    "lst_in = [x.strip().split() for x in s.splitlines()]\n",
    "lst_in"
   ]
  },
  {
   "cell_type": "code",
   "execution_count": null,
   "metadata": {},
   "outputs": [],
   "source": [
    "tInP_i = int(input())\n",
    "tСache_d = {}\n",
    "\n",
    "while tInP_i:\n",
    "    if tInP_i in tСache_d:\n",
    "        print(f'значение из кэша: {tСache_d[tInP_i]}')\n",
    "    else:\n",
    "        tСache_d[tInP_i] = round(tInP_i **.5, 2)\n",
    "        print(tСache_d[tInP_i])"
   ]
  },
  {
   "cell_type": "code",
   "execution_count": null,
   "metadata": {},
   "outputs": [
    {
     "name": "stdout",
     "output_type": "stream",
     "text": [
      "{' ': '-...-', 'Ё': '.', 'А': '.-', 'Б': '-...', 'В': '.--', 'Г': '--.', 'Д': '-..', 'Е': '.', 'Ж': '...-', 'З': '--..', 'И': '..', 'Й': '.---', 'К': '-.-', 'Л': '.-..', 'М': '--', 'Н': '-.', 'О': '---', 'П': '.--.', 'Р': '.-.', 'С': '...', 'Т': '-', 'У': '..-', 'Ф': '..-.', 'Х': '....', 'Ц': '-.-.', 'Ч': '---.', 'Ш': '----', 'Щ': '--.-', 'Ъ': '--.--', 'Ы': '-.--', 'Ь': '-..-', 'Э': '..-..', 'Ю': '..--', 'Я': '.-.-'} 34\n"
     ]
    }
   ],
   "source": [
    "t_s, tCod_d = '''А    .-\tМ    --\tШ    ----\n",
    "Б    -...\tН    -.\tЩ    --.-\n",
    "В    .--\tО    ---\tЪ    --.--\n",
    "Г    --.\tП    .--.\tЫ    -.--\n",
    "Д    -..\tР    .-.\tЬ    -..-\n",
    "Е     . Ё    .\tС    ...\tЭ    ..-..\n",
    "Ж    ...-\tТ    -\tЮ    ..--\n",
    "З    --..\tУ    ..-\tЯ    .-.-\n",
    "И    ..\tФ    ..-.\t\n",
    "Й    .---\tХ    ....\t \n",
    "К    -.-\tЦ    -.-.\t \n",
    "Л    .-..\tЧ    ---.\t  '''.strip().split(), {' ':\"-...-\"}\n",
    "\n",
    "tCod_d.update(sorted([(t_s[_ix], t_s[_ix +1]) for _ix in range(0, len(t_s), 2)], key=lambda _t: _t[0]))\n",
    "print(tCod_d, len(tCod_d))\n"
   ]
  },
  {
   "cell_type": "code",
   "execution_count": null,
   "metadata": {},
   "outputs": [
    {
     "data": {
      "text/plain": [
       "{'-': 'Т',\n",
       " '--': 'М',\n",
       " '---': 'О',\n",
       " '----': 'Ш',\n",
       " '---.': 'Ч',\n",
       " '--.': 'Г',\n",
       " '--.-': 'Щ',\n",
       " '--.--': 'Ъ',\n",
       " '--..': 'З',\n",
       " '-.': 'Н',\n",
       " '-.-': 'К',\n",
       " '-.--': 'Ы',\n",
       " '-.-.': 'Ц',\n",
       " '-..': 'Д',\n",
       " '-..-': 'Ь',\n",
       " '-...': 'Б',\n",
       " '-...-': ' ',\n",
       " '.': 'Е',\n",
       " '.-': 'А',\n",
       " '.--': 'В',\n",
       " '.---': 'Й',\n",
       " '.--.': 'П',\n",
       " '.-.': 'Р',\n",
       " '.-.-': 'Я',\n",
       " '.-..': 'Л',\n",
       " '..': 'И',\n",
       " '..-': 'У',\n",
       " '..--': 'Ю',\n",
       " '..-.': 'Ф',\n",
       " '..-..': 'Э',\n",
       " '...': 'С',\n",
       " '...-': 'Ж',\n",
       " '....': 'Х'}"
      ]
     },
     "metadata": {},
     "output_type": "display_data"
    }
   ],
   "source": [
    "tCod_d = {' ': '-...-', 'Ё': '.', 'А': '.-', 'Б': '-...', 'В': '.--', 'Г': '--.', 'Д': '-..', 'Е': '.', 'Ж': '...-', 'З': '--..', 'И': '..', 'Й': '.---', 'К': '-.-', 'Л': '.-..', 'М': '--', 'Н': '-.', 'О': '---', 'П': '.--.', 'Р': '.-.', 'С': '...', 'Т': '-', 'У': '..-', 'Ф': '..-.', 'Х': '....', 'Ц': '-.-.', 'Ч': '---.', 'Ш': '----', 'Щ': '--.-', 'Ъ': '--.--', 'Ы': '-.--', 'Ь': '-..-', 'Э': '..-..', 'Ю': '..--', 'Я': '.-.-'}\n",
    "del tCod_d['Ё']\n",
    "tCod2Letter_d = dict(sorted(((_v, _k) for _k, _v in tCod_d.items()), key=lambda _t: _t[0]))\n",
    "# tCod2Letter_d = {_v: _k for _k, _v in morze.items()}\n",
    "tInP_l = input().strip().split()\n",
    "\n",
    "print(*(tCod2Letter_d[_s1].lower() for _s1 in tInP_l), sep='')"
   ]
  },
  {
   "cell_type": "code",
   "execution_count": null,
   "metadata": {},
   "outputs": [
    {
     "data": {
      "text/plain": [
       "(33, 33)"
      ]
     },
     "metadata": {},
     "output_type": "display_data"
    }
   ],
   "source": [
    "len(tCod2Letter_d), len(tCod_d)"
   ]
  },
  {
   "cell_type": "code",
   "execution_count": null,
   "metadata": {},
   "outputs": [
    {
     "name": "stdout",
     "output_type": "stream",
     "text": [
      "8 11 -4 5 2 4\n",
      "8 11 -4 5 2 4\n"
     ]
    }
   ],
   "source": [
    "# tInP_l = input().split()\n",
    "tInP_l = '8 11 -4 5 2 11 4 8'.split()\n",
    "\n",
    "d = dict.fromkeys(tInP_l)\n",
    "# d = {}\n",
    "# for _k in tInP_l:\n",
    "#     d.setdefault(_k, 1)\n",
    "\n",
    "print(*(d.keys()))\n",
    "print(*d)"
   ]
  },
  {
   "cell_type": "code",
   "execution_count": null,
   "metadata": {},
   "outputs": [
    {
     "data": {
      "text/plain": [
       "{'8': None, '11': None, '-4': None, '5': None, '2': None, '4': None}"
      ]
     },
     "metadata": {},
     "output_type": "display_data"
    }
   ],
   "source": [
    "dict.fromkeys('8 11 -4 5 2 11 4 8'.split())"
   ]
  },
  {
   "cell_type": "code",
   "execution_count": null,
   "metadata": {},
   "outputs": [
    {
     "data": {
      "text/plain": [
       "dict_items([('палатка', 5240), ('брезент', 2130), ('удочка', 1200), ('брюки', 1000), ('котелок', 820), ('молоток', 600), ('зонт', 500), ('пила', 400), ('рубашка', 300), ('бумага', 200), ('зеркальце', 100), ('расческа', 40), ('карандаш', 20), ('спички', 10)])"
      ]
     },
     "metadata": {},
     "output_type": "display_data"
    }
   ],
   "source": [
    "things = {'карандаш': 20, 'зеркальце': 100, 'зонт': 500, 'рубашка': 300, \n",
    "          'брюки': 1000, 'бумага': 200, 'молоток': 600, 'пила': 400, 'удочка': 1200,\n",
    "          'расческа': 40, 'котелок': 820, 'палатка': 5240, 'брезент': 2130, 'спички': 10}\n",
    "tSrtDThingsKV_t = tuple(sorted(((_k, _v) for _k, _v in things.items()), key=lambda _t: _t[1], reverse=True))\n",
    "tSrtThings_d = dict(sorted(((_k, _v) for _k, _v in things.items()), key=lambda _t: _t[1], reverse=True))\n",
    "tSrtThings_d.items(), tSrtDThingsKV_t"
   ]
  },
  {
   "cell_type": "code",
   "execution_count": null,
   "metadata": {},
   "outputs": [
    {
     "name": "stdout",
     "output_type": "stream",
     "text": [
      "8 11 -5 -2\n",
      "8 11 -5 -2\n"
     ]
    }
   ],
   "source": [
    "# tInP_t = tuple(map(int, input().split()))\n",
    "tInP_t = tuple(map(int, '8 11 -5 -2 8 11 -5'.split()))\n",
    "tRes_t = tuple(dict.fromkeys(tInP_t).keys())\n",
    "print(*tRes_t)\n",
    "print(*(_v for _i, _v in enumerate(tInP_t) if _v not in tInP_t[:_i]))"
   ]
  },
  {
   "cell_type": "code",
   "execution_count": null,
   "metadata": {},
   "outputs": [
    {
     "name": "stdout",
     "output_type": "stream",
     "text": [
      "1 3 9\n"
     ]
    }
   ],
   "source": [
    "# tInP_t = tuple(map(int, input().split()))\n",
    "tInP_set = set(_s for _s in 'Python 3.9.11 - best language!' if _s.isdigit())\n",
    "\n",
    "print(*sorted(tInP_set))\n"
   ]
  },
  {
   "cell_type": "code",
   "execution_count": null,
   "metadata": {},
   "outputs": [
    {
     "data": {
      "text/plain": [
       "(8, 11, -5, -2, 8, 11, -5, 11, -5)"
      ]
     },
     "metadata": {},
     "output_type": "display_data"
    }
   ],
   "source": [
    "tInP_t += (11, -5)\n",
    "tInP_t"
   ]
  },
  {
   "cell_type": "code",
   "execution_count": null,
   "metadata": {},
   "outputs": [
    {
     "data": {
      "text/plain": [
       "[0, 1, 2, 4, 5, 6, 7, 8]"
      ]
     },
     "metadata": {},
     "output_type": "display_data"
    }
   ],
   "source": [
    "[_i for _i, _v in enumerate(tInP_t) if tInP_t.count(_v) > 1]"
   ]
  },
  {
   "cell_type": "code",
   "execution_count": null,
   "metadata": {},
   "outputs": [
    {
     "name": "stdout",
     "output_type": "stream",
     "text": [
      "1 0 0 0\n",
      "0 1 0 0\n",
      "0 0 1 0\n",
      "0 0 0 1\n"
     ]
    }
   ],
   "source": [
    "t = ((1, 0, 0, 0, 0),\n",
    "     (0, 1, 0, 0, 0),\n",
    "     (0, 0, 1, 0, 0),\n",
    "     (0, 0, 0, 1, 0),\n",
    "     (0, 0, 0, 0, 1))\n",
    "tInP_i = int(input())\n",
    "\n",
    "tRes_t = tuple(t[_R_ix][:tInP_i] for _R_ix in range(tInP_i))    \n",
    "print(*(' '.join(map(str, _el)) for _el in tRes_t), sep='\\n')"
   ]
  },
  {
   "cell_type": "code",
   "execution_count": null,
   "metadata": {},
   "outputs": [],
   "source": [
    "tInP_s = input()\n",
    "tRes_set = set()\n",
    "\n",
    "while tInP_s != 'q':\n",
    "    tRes_set.add(tInP_s)\n",
    "    tInP_s = input()\n",
    "\n",
    "print(len(tRes_set))\n",
    "\n",
    "print(len(set(_s for _s in iter(input, 'q'))))"
   ]
  },
  {
   "cell_type": "code",
   "execution_count": null,
   "metadata": {},
   "outputs": [],
   "source": [
    "tInP_l = input().split()\n",
    "# n, *st = input().split()\n",
    "\n",
    "# d = {key: value for key, value in enumerate(st, start=int(n))}\n",
    "d = {_ix:_s for _ix,_s in enumerate(tInP_l[1:], int(tInP_l[0]))}\n",
    "\n",
    "print(d[4])\n"
   ]
  },
  {
   "cell_type": "code",
   "execution_count": null,
   "metadata": {},
   "outputs": [],
   "source": [
    "tInP_t = tuple(map(str.lower, input().split()))\n",
    "tInP_set = set(tInP_t)\n",
    "tInP_d = dict.fromkeys(tInP_set, 0)\n",
    "\n",
    "for _k in tInP_t:\n",
    "    tInP_d[_k] += 1\n",
    "print(tInP_d.get('и', 0))"
   ]
  },
  {
   "cell_type": "code",
   "execution_count": null,
   "metadata": {},
   "outputs": [
    {
     "data": {
      "text/plain": [
       "(('Пушкин', 'Сказака о рыбаке и рыбке'),\n",
       " ('Есенин', 'Письмо к женщине'),\n",
       " ('Тургенев', 'Муму'),\n",
       " ('Пушкин', 'Евгений Онегин'),\n",
       " ('Есенин', 'Русь'))"
      ]
     },
     "metadata": {},
     "output_type": "display_data"
    }
   ],
   "source": [
    "s = '''Пушкин: Сказака о рыбаке и рыбке\n",
    "Есенин: Письмо к женщине\n",
    "Тургенев: Муму\n",
    "Пушкин: Евгений Онегин\n",
    "Есенин: Русь'''\n",
    "lst_in = list(map(str.strip, s.splitlines()))\n",
    "# [x.strip().split(':') for x in s.splitlines()]\n",
    "tT_t = tuple((_A_s, _Na_s.strip()) for _A_s, _Na_s in (_el.split(':') for _el in lst_in))\n",
    "tT_t"
   ]
  },
  {
   "cell_type": "code",
   "execution_count": null,
   "metadata": {},
   "outputs": [
    {
     "data": {
      "text/plain": [
       "{'Пушкин': {'Евгений Онегин', 'Сказака о рыбаке и рыбке'},\n",
       " 'Есенин': {'Письмо к женщине', 'Русь'},\n",
       " 'Тургенев': {'Муму'}}"
      ]
     },
     "metadata": {},
     "output_type": "display_data"
    }
   ],
   "source": [
    "{_A_s:{_Na2_s for _A2_s, _Na2_s in tT_t if _A_s == _A2_s} for _A_s, _Na_s in tT_t}"
   ]
  },
  {
   "cell_type": "code",
   "execution_count": null,
   "metadata": {},
   "outputs": [
    {
     "name": "stdout",
     "output_type": "stream",
     "text": [
      "ДА\n"
     ]
    }
   ],
   "source": [
    "glOnlSbl_setf = frozenset(set(str(_i) for _i in range(10)) | set(chr(ord('A') +_i) for _i in range(26))\n",
    "    | set('_@.') | set(chr(ord('a') +_i) for _i in range(26)))\n",
    "def _fp(la2Che_s):\n",
    "  loCheOk_b, loNeSblCo_t = None, (la2Che_s.count('@'), la2Che_s.count('.'))\n",
    "  if all(loNeSblCo_t): # At least one Sbl for each of the required \n",
    "    loCheOk_b = frozenset(la2Che_s) <= glOnlSbl_setf\n",
    "  else:\n",
    "    loCheOk_b = False\n",
    "  # frozenset('@.' <= frozenset(la2Che_s) <= glOnlSbl_setf\n",
    "  print('ДА' if loCheOk_b else 'НЕТ')\n",
    "\n",
    "# tInP_a = input().strip()\n",
    "tInP_a = 'sc_lib@list.ru'\n",
    "_fp(tInP_a)\n"
   ]
  },
  {
   "cell_type": "code",
   "execution_count": null,
   "metadata": {},
   "outputs": [
    {
     "name": "stdout",
     "output_type": "stream",
     "text": [
      "['.', '0', '1', '2', '3', '4', '5', '6', '7', '8', '9', '@', 'A', 'B', 'C', 'D', 'E', 'F', 'G', 'H', 'I', 'J', 'K', 'L', 'M', 'N', 'O', 'P', 'Q', 'R', 'S', 'T', 'U', 'V', 'W', 'X', 'Y', 'Z', '_', 'a', 'b', 'c', 'd', 'e', 'f', 'g', 'h', 'i', 'j', 'k', 'l', 'm', 'n', 'o', 'p', 'q', 'r', 's', 't', 'u', 'v', 'w', 'x', 'y', 'z']\n",
      "0 j\n",
      "1 6\n",
      "2 z\n",
      "3 _\n",
      "4 D\n"
     ]
    }
   ],
   "source": [
    "OnlSbl_setf = frozenset(set(str(_i) for _i in range(10)) | set(chr(ord('A') +_i) for _i in range(26))\n",
    "    | set('_@.') | set(chr(ord('a') +_i) for _i in range(26)))\n",
    "print(sorted(OnlSbl_setf))\n",
    "for _ix, _el in enumerate(OnlSbl_setf):\n",
    "  if _ix < 5: print(_ix, _el)\n",
    "  else: break"
   ]
  },
  {
   "cell_type": "code",
   "execution_count": null,
   "metadata": {},
   "outputs": [
    {
     "data": {
      "text/plain": [
       "True"
      ]
     },
     "metadata": {},
     "output_type": "display_data"
    }
   ],
   "source": [
    "def is_triangle(la1Len_n, la2Len_n, la3Len_n):\n",
    "    lo_l = sorted((la1Len_n, la2Len_n, la3Len_n))\n",
    "    return lo_l[-1] < sum(lo_l[:-1])\n",
    "is_triangle(3,5,4)"
   ]
  },
  {
   "cell_type": "code",
   "execution_count": null,
   "metadata": {},
   "outputs": [
    {
     "name": "stdout",
     "output_type": "stream",
     "text": [
      "8\n",
      "4\n",
      "0\n"
     ]
    }
   ],
   "source": [
    "for t_s in iter(input, '1'):\n",
    "  if int(t_s) % 2 == 0: print(t_s)\n",
    "\n",
    "# [print(_s) for _s in iter(input, '1') if int(_s) % 2 == 0]"
   ]
  },
  {
   "cell_type": "markdown",
   "metadata": {},
   "source": [
    "7.2 Оператор return 9 из 10\n",
    "Подвиг 8. Объявите функцию, которая принимает строку (в качестве аргумента) и возвращает два значения в виде кортежа: переданная строка и ее длина.\n",
    "\n",
    "После объявления функции прочитайте (с помощью функции input) список названий городов, записанных в одну строку через пробел. Затем, используя генератор словарей и созданную функцию, сформируйте словарь d в формате:\n",
    "\n",
    "d = {<город 1>: <число символов>, ..., <город N>: <число символов>}\n",
    "\n",
    "Выведите этот словарь в порядке возрастания длин строк с помощью команд:\n",
    "\n",
    "Sample Input:\n",
    "Воронеж Лондон Тверь Омск Уфа\n",
    "Sample Output:\n",
    "Уфа Омск Тверь Лондон Воронеж"
   ]
  },
  {
   "cell_type": "code",
   "execution_count": null,
   "metadata": {},
   "outputs": [],
   "source": [
    "def _ff(laSrc_s):\n",
    "    return laSrc_s, len(laSrc_s)\n",
    "\n",
    "d = {_k:_v for _k, _v in map(_ff, input().split())}\n",
    "\n",
    "a = sorted(d, key=lambda x: d[x])\n",
    "print(*a)\n"
   ]
  },
  {
   "cell_type": "markdown",
   "metadata": {},
   "source": [
    "7.2 Оператор return 9 из 10 шагов пройдено\n",
    "Подвиг 9. Вводится список целых чисел в одну строчку через пробел. Необходимо задать функцию, которая принимает два аргумента (максимальное и минимальное значения из списка) и возвращает их произведение. Вызовите эту функцию и отобразите на экране полученное числовое значение.\n",
    "\n",
    "Подсказка: для передачи аргументов функции используйте функции max и min для введенного списка чисел.\n",
    "\n",
    "Sample Input:\n",
    "56 34 -30 22 1 4 10\n",
    "Sample Output:\n",
    "-1680"
   ]
  },
  {
   "cell_type": "code",
   "execution_count": null,
   "metadata": {},
   "outputs": [],
   "source": [
    "def _ff(la1Mul_i, la2Mul_i):\n",
    "    return la1Mul_i * la2Mul_i\n",
    "\n",
    "tInP_l = list(map(int, input().split()))\n",
    "\n",
    "print(_ff(max(tInP_l), min(tInP_l)))"
   ]
  },
  {
   "cell_type": "markdown",
   "metadata": {},
   "source": [
    "7.3 Алгоритм Евклида для нахождения НОД1 из 2 шагов пройден\n",
    "0 из 5 баллов  получено\n",
    "Большой подвиг 1. Повторите быстрый алгоритм Евклида для нахождения наибольшего общего делителя двух натуральных чисел a и b. В программе необходимо объявить функцию get_nod, которая принимает два аргумента a и b (натуральные числа) и возвращает вычисленное значение НОД(a, b).\n",
    "\n",
    "Если трудно понятно в видео: Алгоритм нахождения НОД делением\n",
    "\n",
    "1. Большее число делим на меньшее.\n",
    "2. Если делится без остатка, то меньшее число и есть НОД (следует выйти из цикла).\n",
    "3. Если есть остаток, то большее число заменяем на остаток от деления.\n",
    "4. Переходим к пункту 1.\n",
    "\n",
    "P. S. Вызывать функцию не нужно, только задать. Постарайтесь реализовать алгоритм, не возвращаясь к материалу на видео."
   ]
  },
  {
   "cell_type": "code",
   "execution_count": null,
   "metadata": {},
   "outputs": [],
   "source": [
    "def get_nod(a, b):\n",
    "    loMinMax_t = sorted((a, b))\n",
    "    loRemainder_i = loMinMax_t[1] % loMinMax_t[0]\n",
    "    while loRemainder_i:\n",
    "        loMinMax_t = (loRemainder_i, loMinMax_t[0])\n",
    "        loRemainder_i = loMinMax_t[1] % loMinMax_t[0]\n",
    "    return loMinMax_t[0]\n",
    "\n",
    "# from math import gcd as get_nod\n"
   ]
  },
  {
   "cell_type": "markdown",
   "metadata": {},
   "source": [
    "7.4 Именованные аргументы. Фактические и формальные параметры\n",
    "4 из 7 шагов пройдено\n",
    "6 из 14 баллов  получено\n",
    "Подвиг 4. Объявите функцию, которая принимает строку на кириллице и преобразовывает ее в латиницу, используя следующий словарь для замены русских букв на соответствующее латинское написание:\n",
    "\n",
    "t = {...}\n",
    "Функция должна возвращать преобразованную строку. Замены делать без учета регистра (исходную строку перевести в нижний регистр - малые буквы). У функции также определить формальный параметр sep с начальным значением в виде строки \"-\". Он будет определять символ для замены пробелов в строке.\n",
    "\n",
    "После объявления функции прочитайте (с помощью функции input) строку и дважды вызовите функцию (с выводом результата ее работы на экран):\n",
    "\n",
    "- первый раз только со строкой\n",
    "- второй раз со строкой и именованным аргументом sep со значением '+'.\n",
    "\n",
    "Sample Input:\n",
    "Лучший курс по Python!\n",
    "Sample Output:\n",
    "luchshiy-kurs-po-python!\n",
    "luchshiy+kurs+po+python!"
   ]
  },
  {
   "cell_type": "code",
   "execution_count": null,
   "metadata": {},
   "outputs": [
    {
     "name": "stdout",
     "output_type": "stream",
     "text": [
      "luchshiy-kurs-po-python!\n",
      "luchshiy+kurs+po+python!\n"
     ]
    }
   ],
   "source": [
    "t = {'ё': 'yo', 'а': 'a', 'б': 'b', 'в': 'v', 'г': 'g', 'д': 'd', 'е': 'e', 'ж': 'zh',\n",
    "     'з': 'z', 'и': 'i', 'й': 'y', 'к': 'k', 'л': 'l', 'м': 'm', 'н': 'n', 'о': 'o', 'п': 'p',\n",
    "     'р': 'r', 'с': 's', 'т': 't', 'у': 'u', 'ф': 'f', 'х': 'h', 'ц': 'c', 'ч': 'ch', 'ш': 'sh',\n",
    "     'щ': 'shch', 'ъ': '', 'ы': 'y', 'ь': '', 'э': 'e', 'ю': 'yu', 'я': 'ya'}\n",
    "\n",
    "def _ff(laRus_s, laSep_s='-'):\n",
    "  return ''.join(t.get(_s, _s) for _s in laRus_s.lower()).replace(' ', sep)\n",
    "  # laRus_s = laRus_s.lower()\n",
    "  # loTransl_d  = t.copy()\n",
    "  # loTransl_d[' '] = laSep_s\n",
    "  # return ''.join(loTransl_d.get(_s, _s) for _s in laRus_s)\n",
    "\n",
    "print(_ff('Лучший курс по Python!'),_ff('Лучший курс по Python!', '+'), sep='\\n')"
   ]
  },
  {
   "cell_type": "code",
   "execution_count": null,
   "metadata": {},
   "outputs": [
    {
     "data": {
      "text/plain": [
       "('luchshiy kurs po python!', True)"
      ]
     },
     "metadata": {},
     "output_type": "display_data"
    }
   ],
   "source": [
    "''.join(t.get(_s, _s) for _s in 'Лучший курс по Python!'.lower()), \\\n",
    "\"р\" == 'р'"
   ]
  },
  {
   "cell_type": "code",
   "execution_count": null,
   "metadata": {},
   "outputs": [
    {
     "data": {
      "text/plain": [
       "((0,), (1,), (6,), (6, True, 33, False, 1), (6, True, False, 1), (6, True, 1))"
      ]
     },
     "metadata": {},
     "output_type": "display_data"
    }
   ],
   "source": [
    "def get_data_fig(*laA_l, **laA_d):\n",
    "    # lo_it = iter([])\n",
    "    # loK_t = (\"type\", \"color\", \"closed\", \"width\")\n",
    "    # if laA_d:\n",
    "    #     lo_it = (laA_d[_k] for _k in loK_t if _k in laA_d)\n",
    "    return (sum(laA_l),) + tuple(laA_d[_k] for _k in (\"type\", \"color\"\n",
    "        , \"closed\", \"width\") if _k in laA_d)\n",
    "\n",
    "get_data_fig(), get_data_fig(1), get_data_fig(1,2,3),\\\n",
    "  get_data_fig(1,2,3, type=True, color=33, closed=False, width=1),\\\n",
    "  get_data_fig(1,2,3, type=True, closed=False, width=1),\\\n",
    "  get_data_fig(1,2,3, width=1, type=True)\n"
   ]
  },
  {
   "cell_type": "markdown",
   "metadata": {},
   "source": [
    "7.5 Функции с произвольным числом параметров\n",
    "7 из 8 шагов пройдено\n",
    "14 из 18 баллов  получено\n",
    "Большой подвиг 6. (Для закрепления предыдущего материала). Вводится таблица целых чисел (см. пример ниже) размером N x N элементов (N определяется по входным данным). Эта таблица содержит нули, но кое-где - единицы. С помощью функции с именем verify, на вход которой передается двумерный список чисел, необходимо проверить, являются ли единицы изолированными друг от друга, то есть, вокруг каждой единицы должны быть нули.\n",
    "\n",
    "Рекомендуется следующий алгоритм. В функции verify производить перебор двумерного списка. Для каждого элемента (списка) со значением 1 вызывать еще одну вспомогательную функцию is_isolate для проверки изолированности единицы. То есть, функция is_isolate должна возвращать True, если единица изолирована и False - в противном случае.\n",
    "\n",
    "Как только встречается не изолированная единица, функция verify должна возвращать False. Если успешно доходим (по элементам списка) до конца, то возвращается значение True.\n",
    "\n",
    "Функцию выполнять не нужно, только определить.\n",
    "\n",
    "P. S. При реализации функции is_isolate не следует прописывать восемь операторов if. Подумайте, как это можно сделать красивее (с точки зрения реализации алгоритма). "
   ]
  },
  {
   "cell_type": "code",
   "execution_count": 132,
   "metadata": {},
   "outputs": [
    {
     "name": "stdout",
     "output_type": "stream",
     "text": [
      "[0, 0, 0, 0, 0, 0, 0]\n",
      "[0, 1, 0, 0, 0, 0, 0]\n",
      "[0, 0, 0, 1, 0, 1, 0]\n",
      "[0, 0, 0, 0, 0, 0, 0]\n",
      "[0, 0, 1, 0, 1, 0, 0]\n",
      "[0, 0, 0, 0, 0, 0, 0]\n",
      "[0, 0, 0, 0, 0, 0, 0]\n",
      "(5, 5)\n",
      "0\n",
      "-------------------------------------------------------\n",
      "(1, (0, 0, 1), (0, 4))\n"
     ]
    },
    {
     "data": {
      "text/plain": [
       "True"
      ]
     },
     "execution_count": 132,
     "metadata": {},
     "output_type": "execute_result"
    }
   ],
   "source": [
    "s = '''1 0 1 0 0\n",
    "0 0 1 0 1\n",
    "0 0 0 0 0\n",
    "0 1 0 1 0\n",
    "0 0 0 0 1'''\n",
    "s = '''1 0 0 0 0\n",
    "0 0 1 0 1\n",
    "0 0 0 0 0\n",
    "0 1 0 1 0\n",
    "0 0 0 0 0'''\n",
    "# s = '''1 0 0 0 0\n",
    "# 0 0 0 0 1\n",
    "# 0 0 0 0 0\n",
    "# 0 1 0 0 0\n",
    "# 0 0 0 1 0'''\n",
    "lst_in = [list(map(int, x.strip().split())) for x in s.splitlines()]\n",
    "tDim_t = (len(lst_in), len(lst_in[0]))\n",
    "# s.splitlines()\n",
    "tWrkL_l = [[0]  + _el +[0] for _el in lst_in]\n",
    "tWrkL_l.insert(0, [0] *(tDim_t[0] +2))\n",
    "tWrkL_l += [[0] *(tDim_t[0] +2)]\n",
    "\n",
    "def is_isolate(la2CheL_l, laRIxCIx_t, laDiam_i=1, laSelfVal_n=1, laRetOnlBool_b=True):\n",
    "  loR_ix, loC_ix = laRIxCIx_t\n",
    "  # Sum rows in laDiam_i around laRIxCIx_t in la2CheL_l\n",
    "  loSumByR_t = tuple(sum(la2CheL_l[_R_ix][loC_ix -laDiam_i:loC_ix +laDiam_i +1])\n",
    "      for _R_ix in range(loR_ix -laDiam_i, loR_ix +laDiam_i +1))\n",
    "  \n",
    "  if laRetOnlBool_b:\n",
    "    return not bool(sum(loSumByR_t) -laSelfVal_n)\n",
    "  else: # Ret+: Sum(Sum rows around...), loSumByR_t, tuple(_R_ix,_C_ix) \n",
    "    # for laSelfVal_n in verify(la2CheL_l,...)\n",
    "    return (sum(loSumByR_t) -laSelfVal_n, loSumByR_t, (loR_ix -laDiam_i, loC_ix -laDiam_i))\n",
    "\n",
    "def verify(la2CheL_l, laDiam_i=1, laChoiceVal_n=1, laPadVal_n=0):\n",
    "  loDim_t = (len(la2CheL_l), len(la2CheL_l[0])) # (Row, Col)\n",
    "  # Padding w/laPadVal_n by laDiam_i\n",
    "  loPad0L_l = [[laPadVal_n] *laDiam_i  + _el + [laPadVal_n] *laDiam_i for _el in la2CheL_l]\n",
    "  loPad0Row_l = [laPadVal_n] *(loDim_t[laPadVal_n] +(2 *laDiam_i))\n",
    "  for _co in range(laDiam_i):\n",
    "    loPad0L_l.insert(0, loPad0Row_l)\n",
    "    loPad0L_l.append(loPad0Row_l)\n",
    "  \n",
    "  # Iter. -> tuple(_R_ix,_C_ix) for laChoiceVal_n in loPad0L_l\n",
    "  lo1IxT_it = ((_R_ix,_C_ix) for _R_ix in range(laDiam_i, loDim_t[0] +laDiam_i)\n",
    "      for _C_ix in range(laDiam_i, loDim_t[1] +laDiam_i)\n",
    "      if loPad0L_l[_R_ix][_C_ix] == laChoiceVal_n)\n",
    "  # [is_isolate(tWrkL_l, _Ix_t, laRetOnlBool_b=False) for _Ix_t in t_it]\n",
    "  return all(is_isolate(loPad0L_l, _Ix_t, laDiam_i=laDiam_i, laSelfVal_n=laChoiceVal_n)\n",
    "      for _Ix_t in lo1IxT_it)\n",
    "  # lo_it = (is_isolate(loPad0L_l, (_R_ix,_C_ix))\n",
    "  #     for _R_ix in range(laDiam_i, loDim_t[0] +laDiam_i)\n",
    "  #       for _C_ix in range(laDiam_i, tDim_t[1] +laDiam_i)\n",
    "  #     if tWrkL_l[_R_ix][_C_ix] == 1)\n",
    "  # return all(lo_it)\n",
    "  # print(*loPad0L_l, tDim_t, loPad0L_l[5][4], sep='\\n')\n",
    "\n",
    "# print(*tWrkL_l, tDim_t, tWrkL_l[5][4], '-' *55, is_isolate(tWrkL_l, (5,5), laRetOnlBool_b=False), sep='\\n')\n",
    "print(*tWrkL_l, tDim_t, tWrkL_l[5][4], '-' *55, is_isolate(tWrkL_l, (1,5), laSelfVal_n=0, laRetOnlBool_b=False), sep='\\n')\n",
    "verify(lst_in,) "
   ]
  },
  {
   "cell_type": "code",
   "execution_count": 97,
   "metadata": {},
   "outputs": [
    {
     "data": {
      "text/plain": [
       "(2, 4)"
      ]
     },
     "execution_count": 97,
     "metadata": {},
     "output_type": "execute_result"
    }
   ],
   "source": [
    "tR_ix, tC_ix = (2,4)\n",
    "tR_ix, tC_ix"
   ]
  },
  {
   "cell_type": "code",
   "execution_count": 114,
   "metadata": {},
   "outputs": [
    {
     "data": {
      "text/plain": [
       "False"
      ]
     },
     "execution_count": 114,
     "metadata": {},
     "output_type": "execute_result"
    }
   ],
   "source": [
    "all(is_isolate(tWrkL_l, (_R_ix,_C_ix)) for _R_ix in range(1, tDim_t[0] +1)\n",
    "    for _C_ix in range(1, tDim_t[1] +1) if tWrkL_l[_R_ix][_C_ix] == 1)"
   ]
  },
  {
   "cell_type": "code",
   "execution_count": 118,
   "metadata": {},
   "outputs": [
    {
     "data": {
      "text/plain": [
       "[(0, (0, 1, 0), (0, 0)),\n",
       " (1, (0, 1, 1), (0, 2)),\n",
       " (1, (1, 1, 0), (1, 2)),\n",
       " (0, (0, 1, 0), (1, 4)),\n",
       " (0, (0, 1, 0), (3, 1)),\n",
       " (1, (0, 1, 1), (3, 3)),\n",
       " (1, (1, 1, 0), (4, 4))]"
      ]
     },
     "execution_count": 118,
     "metadata": {},
     "output_type": "execute_result"
    }
   ],
   "source": [
    "t_it = ((_R_ix,_C_ix) for _R_ix in range(1, tDim_t[0] +1)\n",
    "    for _C_ix in range(1, tDim_t[1] +1) if tWrkL_l[_R_ix][_C_ix] == 1)\n",
    "[is_isolate(tWrkL_l, _Ix_t, laRetOnlBool_b=False) for _Ix_t in t_it]"
   ]
  },
  {
   "cell_type": "code",
   "execution_count": 119,
   "metadata": {},
   "outputs": [
    {
     "data": {
      "text/plain": [
       "[(0, (0, 1, 0), (0, 0)),\n",
       " (1, (0, 1, 1), (0, 2)),\n",
       " (1, (1, 1, 0), (1, 2)),\n",
       " (0, (0, 1, 0), (1, 4)),\n",
       " (0, (0, 1, 0), (3, 1)),\n",
       " (1, (0, 1, 1), (3, 3)),\n",
       " (1, (1, 1, 0), (4, 4))]"
      ]
     },
     "execution_count": 119,
     "metadata": {},
     "output_type": "execute_result"
    }
   ],
   "source": [
    "[is_isolate(tWrkL_l, (_R_ix,_C_ix), laRetOnlBool_b=False) for _R_ix in range(1, tDim_t[0] +1)\n",
    "    for _C_ix in range(1, tDim_t[1] +1) if tWrkL_l[_R_ix][_C_ix] == 1]"
   ]
  },
  {
   "cell_type": "code",
   "execution_count": 102,
   "metadata": {},
   "outputs": [
    {
     "name": "stdout",
     "output_type": "stream",
     "text": [
      "НЕТ\n",
      "(0, 0, (0, 1, 0), 0)\n",
      "(0, 2, (0, 1, 1), 1)\n",
      "(1, 2, (1, 1, 0), 1)\n",
      "(1, 4, (0, 1, 0), 0)\n",
      "(3, 1, (0, 1, 0), 0)\n",
      "(3, 3, (0, 1, 1), 1)\n",
      "(4, 4, (1, 1, 0), 1)\n",
      "4\n"
     ]
    }
   ],
   "source": [
    "tAllIxWSumT_l, tGetAllIx_b = [], False\n",
    "tAllIxWSumT_l, tGetAllIx_b = [], True\n",
    "tCheOk_b = True\n",
    "for tR_ix in range(1, tDim_t[0] +1):\n",
    "  for tC_ix in range(1, tDim_t[1] +1):\n",
    "    if tWrkL_l[tR_ix][tC_ix] == 1:\n",
    "      tSumByR_t = tuple(sum(tWrkL_l[_R_ix][tC_ix -1:tC_ix +2])\n",
    "          for _R_ix in (tR_ix -1, tR_ix, tR_ix +1))\n",
    "      tSumAro_i = sum(tSumByR_t) -1\n",
    "      if tSumAro_i:\n",
    "        tCheOk_b = False\n",
    "      if tGetAllIx_b:\n",
    "        tAllIxWSumT_l.append((tR_ix -1, tC_ix -1, tSumByR_t, tSumAro_i))\n",
    "      elif not tCheOk_b:\n",
    "          break\n",
    "      # print(tR_ix -1, tC_ix -1, tSumByR_t, tSumAro_i)\n",
    "  if not tGetAllIx_b and not tCheOk_b:\n",
    "    break\n",
    "\n",
    "print('ДА' if tCheOk_b else 'НЕТ')\n",
    "if tAllIxWSumT_l:\n",
    "  print(*tAllIxWSumT_l, sum(_el[-1] for _el in tAllIxWSumT_l), sep='\\n')"
   ]
  },
  {
   "cell_type": "markdown",
   "metadata": {},
   "source": [
    "7.5 Функции с произвольным числом параметров\n",
    "7 из 8 шагов пройдено\n",
    "14 из 18 баллов  получено\n",
    "Значимый подвиг 7. (Для закрепления предыдущего материала). Объявите функцию с именем str_min, которая сравнивает две переданные строки и возвращает минимальную из них (то есть, выполняется лексикографическое сравнение строк). Затем, используя функциональный подход к программированию (то есть, более сложные функции реализуются путем вызова более простых), реализовать еще две аналогичные функции:\n",
    "\n",
    "- с именем str_min3 для поиска минимальной строки из трех переданных строк;\n",
    "- с именем str_min4 для поиска минимальной строки из четырех переданных строк.\n",
    "\n",
    "Выполнять функции не нужно, только записать."
   ]
  },
  {
   "cell_type": "code",
   "execution_count": null,
   "metadata": {},
   "outputs": [],
   "source": [
    "def str_min(la1_s, la2_s):\n",
    "    return la1_s if la1_s < la2_s else la2_s\n",
    "\n",
    "def str_min3(la1_s, la2_s, la3_s):\n",
    "    return str_min(str_min(la1_s, la2_s), la3_s)\n",
    "\n",
    "def str_min4(la1_s, la2_s, la3_s, la4_s):\n",
    "    return str_min(str_min3(la1_s, la2_s, la3_s), la4_s)\n",
    "\n",
    "# str_min = str_min3 = str_min4 = min\n"
   ]
  },
  {
   "cell_type": "code",
   "execution_count": 133,
   "metadata": {},
   "outputs": [
    {
     "data": {
      "text/plain": [
       "(1, [2, 3, 4], 5)"
      ]
     },
     "execution_count": 133,
     "metadata": {},
     "output_type": "execute_result"
    }
   ],
   "source": [
    "x, *t, z = (1, 2, 3, 4, 5)\n",
    "x, t, z"
   ]
  },
  {
   "cell_type": "markdown",
   "metadata": {},
   "source": [
    "7.6 Операторы упаковки и распаковки коллекций\n",
    "2 из 7 шагов пройдено\n",
    "1 из 11 баллов  получен\n",
    "Подвиг 2. Вводится список из семи целых чисел в одну строчку через пробел. Необходимо первые четыре числа занести в переменную lst, а остальные три в отдельные переменные x, y, z. Сделать с использованием оператора упаковки. Вывести список lst на экран с помощью команды:\n",
    "\n",
    "print(*lst)\n",
    "\n",
    "Sample Input:\n",
    "56 4 -23 2 0 3 5\n",
    "\n",
    "Sample Output:\n",
    "56 4 -23 2"
   ]
  },
  {
   "cell_type": "code",
   "execution_count": 138,
   "metadata": {},
   "outputs": [
    {
     "name": "stdout",
     "output_type": "stream",
     "text": [
      "56 4 -23 2\n"
     ]
    }
   ],
   "source": [
    "# *lst, x, y, z = map(int, input().split())\n",
    "# *lst, x, y, z = input().split()\n",
    "*lst, x, y, z = map(int, '56 4 -23 2 0 3 5'.split())\n",
    "print(*lst)"
   ]
  },
  {
   "cell_type": "markdown",
   "metadata": {},
   "source": [
    "7.6 Операторы упаковки и распаковки коллекций\n",
    "3 из 7 шагов пройдено\n",
    "3 из 11 баллов  получено\n",
    "Подвиг 3. Вводятся названия городов в одну строчку через пробел. На основе этой строки необходимо сформировать список из названий. А, затем, используя оператор распаковки *, преобразовать этот список в кортеж lst_c. Результат вывести на экран командой:\n",
    "\n",
    "print(lst_c)\n",
    "\n",
    "Sample Input:\n",
    "Москва Уфа Тверь Самара\n",
    "\n",
    "Sample Output:\n",
    "('Москва', 'Уфа', 'Тверь', 'Самара')"
   ]
  },
  {
   "cell_type": "code",
   "execution_count": 146,
   "metadata": {},
   "outputs": [
    {
     "name": "stdout",
     "output_type": "stream",
     "text": [
      "(1, 2, 3, 4, 5)\n"
     ]
    }
   ],
   "source": [
    "t_l = [1, 2, 3, 4, 5]\n",
    "(*t_l,)\n",
    "# tuple((*t_l))\n",
    "\n",
    "tInp_l = input().split()\n",
    "tInp_l = [1, 2, 3, 4, 5]\n",
    "# lst_c = *input().split(),\n",
    "lst_c = (*tInp_l,)\n",
    "\n",
    "print(lst_c)"
   ]
  },
  {
   "cell_type": "markdown",
   "metadata": {},
   "source": [
    "7.6 Операторы упаковки и распаковки коллекций\n",
    "4 из 7 шагов пройдено\n",
    "5 из 11 баллов  получено\n",
    "Подвиг 4. Вводятся два целых значения a и b (a < b) в одну строчку через пробел. Необходимо сформировать список из целых чисел от a до b (включительно) с шагом изменения 1, используя функцию range, оператор [] и оператор распаковки *. Вывести полученный список на экран командой:\n",
    "\n",
    "print(*lst)\n",
    "\n",
    "Sample Input:\n",
    "\n",
    "3 11\n",
    "\n",
    "Sample Output:\n",
    "\n",
    "3 4 5 6 7 8 9 10 11"
   ]
  },
  {
   "cell_type": "code",
   "execution_count": 151,
   "metadata": {},
   "outputs": [
    {
     "name": "stdout",
     "output_type": "stream",
     "text": [
      "3 4 5 6 7 8 9 10\n",
      "3 4 5 6 7 8 9 10 11\n",
      "3 4 5 6 7 8 9 10 11\n"
     ]
    }
   ],
   "source": [
    "t_l = ['3', '11']\n",
    "tInP_it = map(int, t_l)\n",
    "lst = [*range(*tInP_it)] # ->3 4 5 6 7 8 9 10\n",
    "print(*lst)\n",
    "\n",
    "tInP_l = list(map(int, t_l))\n",
    "tInP_l[-1] += 1\n",
    "lst = [*range(*tInP_l)]\n",
    "print(*lst)\n",
    "\n",
    "# tBeg_i, tEnd_i = map(int, input().split())\n",
    "tBeg_i, tEnd_i = map(int, t_l)\n",
    "lst = [*range(tBeg_i, tEnd_i+1)]\n",
    "\n",
    "print(*lst)"
   ]
  },
  {
   "cell_type": "markdown",
   "metadata": {},
   "source": [
    "Подвиг 5. Вводится список вещественных чисел и список названий городов, каждый в отдельной строке. Необходимо сформировать единый список lst, в котором сначала идут числа, а затем, названия городов. Реализовать программу с помощью оператор распаковки *. Вывести полученный список на экран командой:\n",
    "\n",
    "print(*lst)\n",
    "\n",
    "Sample Input:\n",
    "\n",
    "5.8 11.0 4.3\n",
    "\n",
    "Уфа Омск Тверь Самара\n",
    "\n",
    "Sample Output:\n",
    "\n",
    "5.8 11.0 4.3 Уфа Омск Тверь Самара"
   ]
  },
  {
   "cell_type": "code",
   "execution_count": 155,
   "metadata": {},
   "outputs": [
    {
     "data": {
      "text/plain": [
       "((1, 2, 3, 4, 5, '3', '11'),\n",
       " [1, 2, 3, 4, 5, '3', '11', 'Уфа', 'Омск', 'Тверь', 'Самара'])"
      ]
     },
     "execution_count": 155,
     "metadata": {},
     "output_type": "execute_result"
    }
   ],
   "source": [
    "z = (1, 2, 3, 4, 5)\n",
    "t_l = ['3', '11']\n",
    "t1_it = iter('Уфа Омск Тверь Самара'.split())\n",
    "(*z, *t_l), [*z, *t_l, *t1_it]"
   ]
  },
  {
   "cell_type": "code",
   "execution_count": 156,
   "metadata": {},
   "outputs": [
    {
     "name": "stdout",
     "output_type": "stream",
     "text": [
      "5.8 11.0 4.3 Уфа Омск Тверь Самара\n"
     ]
    }
   ],
   "source": [
    "# print(*map(float, input().split()), *input().split())\n",
    "# lst = [*map(float, input().split()), *input().split()]\n",
    "lst = [*map(float, '5.8 11.0 4.3'.split()), *iter('Уфа Омск Тверь Самара'.split())]\n",
    "\n",
    "print(*lst)"
   ]
  },
  {
   "cell_type": "markdown",
   "metadata": {},
   "source": [
    "7.6 Операторы упаковки и распаковки коллекций\n",
    "6 из 7 шагов пройдено\n",
    "9 из 11 баллов  получено\n",
    "Подвиг 6. Имеется словарь, содержащий пункты меню:\n",
    "\n",
    "menu = {'Главная': 'home', 'Архив': 'archive', 'Новости': 'news'}\n",
    "\n",
    "Дополнительно вводятся еще пункты меню в виде строк в формате:\n",
    "\n",
    "название_1=url_1\n",
    "...\n",
    "название_N=url_N\n",
    "\n",
    "Необходимо эту введенную информацию преобразовать в словарь и добавить к словарю menu, используя оператор распаковки для словарей. На результирующий словарь должна вести переменная menu. Выводить словарь не нужно, только сформировать.\n",
    "\n",
    "P. S. Для считывания списка целиком в программе уже записаны начальные строчки.\n",
    "\n",
    "Sample Input:\n",
    "\n",
    "Города=about-cities\n",
    "\n",
    "Машины=read-of-cars\n",
    "\n",
    "Самолеты=airplanes\n",
    "\n",
    "Sample Output:\n",
    "\n",
    "Архив Главная Города Машины Новости Самолеты\n",
    "\n",
    "about-cities airplanes archive home news read-of-cars"
   ]
  },
  {
   "cell_type": "code",
   "execution_count": null,
   "metadata": {},
   "outputs": [],
   "source": [
    "import sys\n",
    "\n",
    "# считывание списка из входного потока\n",
    "lst_in = list(map(str.strip, sys.stdin.readlines()))\n",
    "\n",
    "menu = {'Главная': 'home', 'Архив': 'archive', 'Новости': 'news'}\n",
    "# здесь продолжайте программу (используйте список lst_in и menu)\n",
    "\n",
    "d = dict([_s.split('=') for _s in lst_in])\n",
    "# menu.update({**d})\n",
    "# menu = {**menu, **d}\n",
    "menu = dict(**menu, **d)"
   ]
  },
  {
   "cell_type": "code",
   "execution_count": 158,
   "metadata": {},
   "outputs": [
    {
     "name": "stdout",
     "output_type": "stream",
     "text": [
      "['Города=about-cities', 'Машины=read-of-cars', 'Самолеты=airplanes']\n"
     ]
    }
   ],
   "source": [
    "menu = {'Главная': 'home', 'Архив': 'archive', 'Новости': 'news'}\n",
    "s = \"\"\"Города=about-cities\n",
    "Машины=read-of-cars\n",
    "Самолеты=airplanes\"\"\"\n",
    "\n",
    "lst_in = list(map(str.strip, s.split()))\n",
    "print(lst_in)\n",
    "# tInP_it = (_s.split('=') for _s in input().split())\n",
    "\n",
    "# d = dict(((_k, int(_v)) for _k, _v in tInP_it))\n",
    "\n",
    "# print(*sorted(d.items()))"
   ]
  },
  {
   "cell_type": "markdown",
   "metadata": {},
   "source": [
    "7.7 Рекурсивные функции\n",
    "3 из 10 шагов пройдено\n",
    "4 из 23 баллов  получено\n",
    "Подвиг 3. Вводится список целых чисел в одну строчку через пробел. Необходимо вычислить сумму этих введенных значений, используя рекурсивную функцию (для перебора элементов списка) с именем get_rec_sum. Функция должна возвращать значение суммы. (Выводить на экран она ничего не должна).\n",
    "\n",
    "Вызовите эту функцию и выведите вычисленное значение суммы на экран.\n",
    "\n",
    "Sample Input:\n",
    "\n",
    "8 11 -5 4 3\n",
    "\n",
    "Sample Output:\n",
    "\n",
    "21"
   ]
  },
  {
   "cell_type": "code",
   "execution_count": 159,
   "metadata": {},
   "outputs": [],
   "source": [
    "t_l = [1, 2, 3, 4, 5]\n"
   ]
  },
  {
   "cell_type": "code",
   "execution_count": 165,
   "metadata": {},
   "outputs": [
    {
     "ename": "IndexError",
     "evalue": "pop from empty list",
     "output_type": "error",
     "traceback": [
      "\u001b[1;31m---------------------------------------------------------------------------\u001b[0m",
      "\u001b[1;31mIndexError\u001b[0m                                Traceback (most recent call last)",
      "\u001b[1;32md:\\Doc\\Dvl\\Prj\\Py\\Stu\\PyDev\\05\\HW\\ts.ipynb Ячейка 191\u001b[0m in \u001b[0;36m<cell line: 1>\u001b[1;34m()\u001b[0m\n\u001b[1;32m----> <a href='vscode-notebook-cell:/d%3A/Doc/Dvl/Prj/Py/Stu/PyDev/05/HW/ts.ipynb#ch0000226?line=0'>1</a>\u001b[0m \u001b[39mprint\u001b[39m(t_l\u001b[39m.\u001b[39;49mpop())\n",
      "\u001b[1;31mIndexError\u001b[0m: pop from empty list"
     ]
    }
   ],
   "source": [
    "tInp_a = list(map(int, input().split()))\n",
    "\n",
    "def get_rec_sum(laInt_l):\n",
    "    if len(laInt_l) == 0: return 0\n",
    "    else: \n",
    "        #lo_i = laInt_l.pop() # Bad:destructive\n",
    "        return laInt_l.pop() + get_rec_sum(laInt_l)\n",
    "\n",
    "print(get_rec_sum(tInp_a))\n",
    "\n",
    "lst1 = [int(i) for i in input().split()]\n",
    "\n",
    "def get_rec_sum(lst):\n",
    "    head, *tail = lst # x, *y = [0]\n",
    "    return head + get_rec_sum(tail) if tail else head\n",
    "\n",
    "print(get_rec_sum(tInp_a))\n",
    "\n",
    "\n",
    "def get_rec_sum(lst):\n",
    "    return 0 if len(lst) == 0 else get_rec_sum(lst[1:]) + lst[0]\n",
    "\n",
    "print(get_rec_sum(tInp_a))\n"
   ]
  },
  {
   "cell_type": "code",
   "execution_count": null,
   "metadata": {},
   "outputs": [],
   "source": [
    "def get_rec_sum(lst):\n",
    "    head, *tail = lst\n",
    "    return head + get_rec_sum(tail) if tail else head\n",
    "\n",
    "print(get_rec_sum(lst1))"
   ]
  },
  {
   "cell_type": "markdown",
   "metadata": {},
   "source": [
    "7.7 Рекурсивные функции\n",
    "4 из 10 шагов пройдено\n",
    "\n",
    "6 из 23 баллов  получено\n",
    "Подвиг 4. Вводится натуральное число N. Необходимо с помощью рекурсивной функции fib_rec(N, f=[]) (здесь N - общее количество чисел Фибоначчи; f - начальный список этих чисел) сформировать последовательность чисел Фибоначчи по правилу: первые два числа равны 1 и 1, а каждое следующе значение равно сумме двух предыдущих. Пример такой последовательности для первых 7 чисел: 1, 1, 2, 3, 5, 8, 13, ...\n",
    "\n",
    "Функция должна возвращать список сформированной последовательности длиной N.\n",
    "\n",
    "Вызывать функцию не нужно, только объявить.\n",
    "\n",
    "Sample Input:\n",
    "\n",
    "7\n",
    "\n",
    "Sample Output:\n",
    "\n",
    "1 1 2 3 5 8 13"
   ]
  },
  {
   "cell_type": "code",
   "execution_count": 194,
   "metadata": {},
   "outputs": [
    {
     "name": "stdout",
     "output_type": "stream",
     "text": [
      "1 []\n",
      "1 [1, 1]\n",
      "\t< 1 [1, 1]\n",
      "2 []\n",
      "2 [1, 1]\n",
      "\t< 2 [1, 1]\n",
      "3 []\n",
      "3 [1, 1]\n",
      "\t= 3 [1, 1, 2]\n",
      "4 [1, 1, 2, 3, 5]\n",
      "4 [1, 1, 2, 3, 5]\n",
      "\t< 4 [1, 1, 2, 3, 5]\n",
      "5 []\n",
      "5 [1, 1]\n",
      "Bf:Rr 5 [1, 1]\n",
      "4 [1, 1]\n",
      "4 [1, 1]\n",
      "Bf:Rr 4 [1, 1]\n",
      "3 [1, 1]\n",
      "3 [1, 1]\n",
      "\t= 3 [1, 1, 2]\n",
      "Af:Rr 4 [1, 1, 2]\n",
      "\t= 4 [1, 1, 2, 3]\n",
      "Af:Rr 5 [1, 1, 2, 3]\n",
      "\t= 5 [1, 1, 2, 3, 5]\n",
      "[1]\n",
      "-------------------------------------------------------\n",
      "[1, 1]\n",
      "-------------------------------------------------------\n",
      "[1, 1, 2]\n",
      "-------------------------------------------------------\n",
      "[1, 1, 2, 3]\n",
      "-------------------------------------------------------\n",
      "[1, 1, 2, 3, 5]\n"
     ]
    }
   ],
   "source": [
    "def fib_rec(N, f=[]):\n",
    "  print(N, f)\n",
    "  # Init\n",
    "  if len(f) < 2: f = [1, 1]\n",
    "  print(N, f)\n",
    "  # Recur\n",
    "  if N -1 > len(f):\n",
    "    print('Bf:Rr', N, f)\n",
    "    fib_rec(N -1, f=f)\n",
    "    # f1_l = fib_rec(N -1, f=f)\n",
    "    # print('Af:Rr', N, f, f1_l, id(f) == id(f1_l))\n",
    "    print('Af:Rr', N, f)\n",
    "\n",
    "  # if N in (1, 2):\n",
    "  #   return f[:N]\n",
    "  # elif N -1 == len(f):\n",
    "  # Guard \n",
    "  if N -1 == len(f): \n",
    "    # print('\\t=', N, f)\n",
    "    f.append(f[N -3] + f[N -2])\n",
    "    print('\\t=', N, f)\n",
    "    # return f[:N]\n",
    "  elif N -1 < len(f): \n",
    "    print('\\t<', N, f)\n",
    "  return f[:N]\n",
    "\n",
    "print(\n",
    "fib_rec(1), fib_rec(2), fib_rec(3), \n",
    "fib_rec(4, [1, 1, 2, 3, 5]), fib_rec(5), \n",
    "sep='\\n' + '-' *55 + '\\n')\n"
   ]
  },
  {
   "cell_type": "code",
   "execution_count": 202,
   "metadata": {},
   "outputs": [
    {
     "data": {
      "text/plain": [
       "([1, 1, 2, 3], [1, 1, 2, 3, 5])"
      ]
     },
     "execution_count": 202,
     "metadata": {},
     "output_type": "execute_result"
    }
   ],
   "source": [
    "def fib_rec(N, f=[]):\n",
    "    if len(f) < N:\n",
    "        f.append(1 if len(f) < 2 else f[-1] + f[-2])\n",
    "        fib_rec(N)\n",
    "        \n",
    "    # return f[:N]\n",
    "    return f[:N]\n",
    "fib_rec(4, [1, 1, 2, 3, 5]), fib_rec(5, [1, 1, 2, 3, 5, 8])"
   ]
  },
  {
   "cell_type": "code",
   "execution_count": 204,
   "metadata": {},
   "outputs": [
    {
     "data": {
      "text/plain": [
       "([1, 1, 2, 3], [1, 1, 2, 3, 5])"
      ]
     },
     "execution_count": 204,
     "metadata": {},
     "output_type": "execute_result"
    }
   ],
   "source": [
    "def fib_rec(N, f=[1, 1]):\n",
    "    if N > 2:\n",
    "        f.append(f[-1] + f[-2])\n",
    "        fib_rec(N - 1, f)\n",
    "    return f[:N]\n",
    "fib_rec(4, [1, 1, 2, 3, 5]), fib_rec(5, [1, 1, 2, 3, 5, 8])"
   ]
  },
  {
   "cell_type": "code",
   "execution_count": 206,
   "metadata": {},
   "outputs": [
    {
     "name": "stdout",
     "output_type": "stream",
     "text": [
      "[]\n",
      "-------------------------------------------------------\n",
      "[]\n",
      "-------------------------------------------------------\n",
      "[1, 1, 2, 3, 5, 8, 13, 21, 34, 55, 89, 144, 233]\n",
      "-------------------------------------------------------\n",
      "[1]\n",
      "-------------------------------------------------------\n",
      "[1, 1]\n",
      "-------------------------------------------------------\n",
      "[1, 1, 2]\n",
      "-------------------------------------------------------\n",
      "[1, 1, 2, 3]\n",
      "-------------------------------------------------------\n",
      "[1, 1, 2, 3, 5]\n"
     ]
    }
   ],
   "source": [
    "def fib_rec(N, f=[]):\n",
    "  # Init&Check\n",
    "  if N < 1: return []\n",
    "  if len(f) < 2: f = [1, 1]\n",
    "\n",
    "  # Recur\n",
    "  if N -1 > len(f):\n",
    "    print('Bf:Rr', N, f)\n",
    "    fib_rec(N -1, f=f)\n",
    "    # f1_l = fib_rec(N -1, f=f)\n",
    "    # print('Af:Rr', N, f, f1_l, id(f) == id(f1_l))\n",
    "    print('Af:Rr', N, f)\n",
    "\n",
    "  # if N in (1, 2):\n",
    "  #   return f[:N]\n",
    "  # elif N -1 == len(f):\n",
    "  # Guard \n",
    "  if N -1 == len(f): \n",
    "    # print('\\t=', N, f)\n",
    "    f.append(f[N -3] + f[N -2])\n",
    "    print('\\t=', N, f)\n",
    "    # return f[:N]\n",
    "  elif N -1 < len(f): \n",
    "    print('\\t<', N, f)\n",
    "  return f[:N]\n",
    "\n",
    "def fib_rec(N, f=[]):\n",
    "  # Init\n",
    "  if len(f) < 2: f = [1, 1]\n",
    "\n",
    "  # Recur\n",
    "  if N -1 > len(f):\n",
    "    #print('Bf:Rr', N, f)\n",
    "    fib_rec(N -1, f=f)\n",
    "    #print('Af:Rr', N, f)\n",
    "\n",
    "  # Guard \n",
    "  if N -1 == len(f): \n",
    "    f.append(f[N -3] + f[N -2])\n",
    "  return f[:N]\n",
    "\n",
    "def fib_rec(N, f=[]):\n",
    "  # Init&Check\n",
    "  N = int(N)\n",
    "  if N < 1: return []\n",
    "  if len(f) < 2: f = [1, 1]\n",
    "\n",
    "  # Recur\n",
    "  if N -1 > len(f):\n",
    "    fib_rec(N -1, f=f)\n",
    "\n",
    "  # Guard \n",
    "  if N -1 == len(f): \n",
    "    f.append(f[N -3] + f[N -2])\n",
    "  return f[:N] # Optimized for case: N < len(f)\n",
    "\n",
    "print(\n",
    "fib_rec(-1), fib_rec(0), fib_rec(13), \n",
    "fib_rec(1), fib_rec(2), fib_rec(3), \n",
    "fib_rec(4, [1, 1, 2, 3, 5]), fib_rec(5), \n",
    "sep='\\n' + '-' *55 + '\\n')\n"
   ]
  },
  {
   "cell_type": "code",
   "execution_count": null,
   "metadata": {},
   "outputs": [],
   "source": [
    "def fact_rec(n):\n",
    "    return fact_rec(n -1) * n if n > 1 else 1"
   ]
  },
  {
   "cell_type": "markdown",
   "metadata": {},
   "source": [
    "7.7 Рекурсивные функции\n",
    "7 из 10 шагов пройдено\n",
    "\n",
    "10 из 23 баллов  получено\n",
    "Подвиг 6. Имеется следующий многомерный список:\n",
    "\n",
    "d = [1, 2, [True, False], [\"Москва\", \"Уфа\", [100, 101], ['True', [-2, -1]]], 7.89]\n",
    "С помощью рекурсивной функции get_line_list создать на его основе одномерный список из значений элементов списка d. Функция должна возвращать новый созданный одномерный список.  (Только возвращать, выводить на экран ничего не нужно.)\n",
    "\n",
    "Вызывать функцию не нужно, только объявить со следующей сигнатурой:\n",
    "\n",
    "def get_line_list(d,a=[]): ...\n",
    "где d - исходный список; a - новый формируемый."
   ]
  },
  {
   "cell_type": "code",
   "execution_count": 23,
   "metadata": {},
   "outputs": [
    {
     "name": "stdout",
     "output_type": "stream",
     "text": [
      "[] [1] [2] [True, False] ['True', -2, -1] ['Москва', 'Уфа', 100, 101, 'True', -2, -1] \n",
      " [1, 2, True, False, 'Москва', 'Уфа', 100, 101, 'True', -2, -1, 7.89]\n"
     ]
    }
   ],
   "source": [
    "d = [1, 2, [True, False], [\"Москва\", \"Уфа\", [100, 101], ['True', [-2, -1]]], 7.89]\n",
    "\n",
    "import itertools as itts\n",
    "import operator as op\n",
    "import functools as futs\n",
    "\n",
    "def get_line_list(d,a=[]):\n",
    "    if isinstance(d, (tuple, list)):\n",
    "      return list(d) if len(d) <2 else futs.reduce(op.add, map(get_line_list, d))\n",
    "      # return list(d) if len(d) <2 else futs.reduce(lambda _x, _y: _x + _y, map(get_line_list, d))\n",
    "    else: \n",
    "        return [d]\n",
    "\n",
    "#>>>print(get_line_list([]), get_line_list(1), get_line_list((2,)),\n",
    "    # get_line_list(d[2]), get_line_list(d[3][-1]), get_line_list(d[3]), '\\n',\n",
    "    # get_line_list(d),\n",
    "    # )\n",
    "# [] [1] [2] [True, False] ['True', -2, -1] ['Москва', 'Уфа', 100, 101, 'True', -2, -1] \n",
    "#  [1, 2, True, False, 'Москва', 'Уфа', 100, 101, 'True', -2, -1, 7.89]"
   ]
  },
  {
   "cell_type": "code",
   "execution_count": 10,
   "metadata": {},
   "outputs": [
    {
     "name": "stdout",
     "output_type": "stream",
     "text": [
      "1\n",
      "2\n",
      "[True, False]\n",
      "['Москва', 'Уфа', [100, 101], ['True', [-2, -1]]]\n",
      "7.89\n"
     ]
    }
   ],
   "source": [
    "futs.reduce(lambda _x, _y: _x + _y,([1], [2], [True]))\n",
    "print(*map(lambda _a: _a, d), sep='\\n')"
   ]
  },
  {
   "cell_type": "code",
   "execution_count": null,
   "metadata": {},
   "outputs": [],
   "source": [
    "# Алекс Глозман\n",
    "get_line_list = f = lambda d, a=[]:\\\n",
    "        f(d[1:], f(d[0], a) if type(d[0]) is list else a + [d[0]]) if d else a\n"
   ]
  },
  {
   "cell_type": "markdown",
   "metadata": {},
   "source": [
    "7.7 Рекурсивные функции\n",
    "9 из 10 шагов пройдено\n",
    "\n",
    "15 из 23 баллов  получено\n",
    "Великий подвиг 8. Вводится список из целых чисел в одну строчку через пробел. Необходимо выполнить его сортировку по возрастанию с помощью алгоритма сортировки слиянием. Функция должна возвращать новый отсортированный список.\n",
    "Вызовите результирующую функцию сортировки для введенного списка и отобразите результат на экран в виде последовательности чисел, записанных через пробел.\n",
    "\n",
    "Подсказка. Для разбиения списка и его последующей сборки используйте рекурсивные функции.\n",
    "\n",
    "P. S. Теория сортировки в видео предыдущего шага.\n",
    "\n",
    "Sample Input:\n",
    "\n",
    "8 11 -6 3 0 1 1\n",
    "\n",
    "Sample Output:\n",
    "\n",
    "-6 0 1 1 3 8 11"
   ]
  },
  {
   "cell_type": "code",
   "execution_count": 82,
   "metadata": {},
   "outputs": [
    {
     "name": "stdout",
     "output_type": "stream",
     "text": [
      "id(t_l)=2119122719360, id(tW_l)=2119118232960, id(tRes_l)=2119123143424\n",
      "(0, ('8', '-6'))\n",
      "(1, ('11', '0'))\n",
      "(2, ('-6', '1'))\n",
      "(3, ('3', '1'))\n",
      "(4, ('0', '11'))\n",
      "(5, ('1', '3'))\n",
      "(6, ('1', '8'))\n",
      "_______________\n",
      "id(t_l)=2119123146112, id(tW_l)=2119123014976, id(tRes_l)=2119123144896\n",
      "(0, (8, -6))\n",
      "(1, (11, 0))\n",
      "(2, (-6, 1))\n",
      "(3, (3, 1))\n",
      "(4, (0, 3))\n",
      "(5, (1, 8))\n",
      "(6, (1, 11))\n",
      "_______________\n",
      "id(t_l)=2119123149632, id(tW_l)=2119118617856, id(tRes_l)=2119123014976\n",
      "\n",
      "_______________\n",
      "id(t_l)=2119118167616, id(tW_l)=2119123144896, id(tRes_l)=2119123144512\n",
      "(0, (0, 0))\n",
      "(1, (0, 0))\n",
      "(2, (0, 0))\n",
      "_______________\n",
      "id(t_l)=2119123146688, id(tW_l)=2119123014976, id(tRes_l)=2119118232960\n",
      "(0, (5, 0))\n",
      "(1, (4, 1))\n",
      "(2, (3, 2))\n",
      "(3, (2, 3))\n",
      "(4, (1, 4))\n",
      "(5, (0, 5))\n",
      "_______________\n",
      "id(t_l)=2119123144832, id(tW_l)=2119090091264, id(tRes_l)=2119118966720\n",
      "(0, (5, 1))\n",
      "(1, (1, 1))\n",
      "(2, (1, 1))\n",
      "(3, (6, 1))\n",
      "(4, (1, 5))\n",
      "(5, (1, 6))\n",
      "_______________\n"
     ]
    }
   ],
   "source": [
    "def tMergeSrtL_ff(laChaOrSrc_l, laReversed_b=False, laInPlace_b=False):\n",
    "    # Guard\n",
    "    if len(laChaOrSrc_l) == 1 or len(laChaOrSrc_l) == 0:\n",
    "        return laChaOrSrc_l if laInPlace_b else laChaOrSrc_l.copy()\n",
    "\n",
    "    # Split(4 Rr) & Ini\n",
    "    loLeft_l = tMergeSrtL_ff(laChaOrSrc_l[:(len(laChaOrSrc_l) // 2)],\n",
    "        laReversed_b=laReversed_b, laInPlace_b=True) # ??(laInPlace_b=laInPlace_b)|(laInPlace_b=False)\n",
    "    loRight_l = tMergeSrtL_ff(laChaOrSrc_l[(len(laChaOrSrc_l) // 2):],\n",
    "        laReversed_b=laReversed_b, laInPlace_b=True) # ??(laInPlace_b=laInPlace_b)|(laInPlace_b=False)\n",
    "    loLf_ix = loRi_ix = loRes_ix = 0\n",
    "    loRes_l = laChaOrSrc_l if laInPlace_b else [0] * (len(loLeft_l) + len(loRight_l))\n",
    "\n",
    "    # Merge Left&Right\n",
    "    while loLf_ix < len(loLeft_l) and loRi_ix < len(loRight_l):\n",
    "        if ((not laReversed_b and (loLeft_l[loLf_ix] <= loRight_l[loRi_ix])) \n",
    "            or (laReversed_b and (loLeft_l[loLf_ix] >= loRight_l[loRi_ix]))):\n",
    "            loRes_l[loRes_ix] = loLeft_l[loLf_ix]\n",
    "            loLf_ix += 1\n",
    "        else:\n",
    "            loRes_l[loRes_ix] = loRight_l[loRi_ix]\n",
    "            loRi_ix += 1\n",
    "        loRes_ix += 1\n",
    "\n",
    "    # Add Left tail\n",
    "    if loLf_ix < len(loLeft_l):\n",
    "        loRes_l[loRes_ix:] = loLeft_l[loLf_ix:]\n",
    "        \n",
    "    # Add Right tail\n",
    "    if loRi_ix < len(loRight_l):\n",
    "        loRes_l[loRes_ix:] = loRight_l[loRi_ix:]\n",
    "  \n",
    "    return loRes_l\n",
    "# Сделал рекурсию в одну функцию и парам.laInPlace_b=False добавил\n",
    "# print(*tMergeSrtL_ff(list(map(int, input().split()))))\n",
    "tStr_l = '8 11 -6 3 0 1 1'.split()\n",
    "for t_l in (tStr_l, list(map(int, tStr_l)), [], [0, 0, 0], [*range(5, -1, -1)], [5, 1, 1, 6, 1, 1]):\n",
    "  tW_l = t_l.copy(); tRes_l = tMergeSrtL_ff(tW_l)\n",
    "  print(f'{id(t_l)=}, {id(tW_l)=}, {id(tRes_l)=}')\n",
    "  print(*enumerate(zip(t_l, tRes_l)), sep='\\n')\n",
    "  print('_' *15) \n"
   ]
  },
  {
   "cell_type": "code",
   "execution_count": 70,
   "metadata": {},
   "outputs": [
    {
     "name": "stdout",
     "output_type": "stream",
     "text": [
      "['8', '11', '-6', '3', '0', '1', '1'] [8, 11, -6, 3, 0, 1, 1]\n"
     ]
    }
   ],
   "source": [
    "# Алекс Глозман\n",
    "def merge(lst1, lst2):\n",
    "    res, i, j = [], 0, 0\n",
    "    while lst1 and lst2:\n",
    "        res.append((lst1, lst2)[lst1[-1] < lst2[-1]].pop())\n",
    "        # res.append((lst1, lst2)[lst1[-1] <= lst2[-1]].pop()) # 4 stable\n",
    "    return lst1 + lst2 + res[::-1]\n",
    "\n",
    "def merge_sort(lst):\n",
    "    hl = len(lst) // 2\n",
    "    return hl and merge(merge_sort(lst[:hl]), merge_sort(lst[hl:])) or lst\n",
    "\n",
    "lst = list(map(int, input().split())) \n",
    "print(*merge_sort(lst))"
   ]
  },
  {
   "cell_type": "code",
   "execution_count": 47,
   "metadata": {},
   "outputs": [
    {
     "name": "stdout",
     "output_type": "stream",
     "text": [
      "2119117866688\n",
      "[5, 4, 3, 2, 1, 0]\n",
      "2119090130880\n",
      "[0, 1, 2, 3, 4, 5]\n",
      "2119090129472\n",
      "[0, 0, 0, 0, 0, 0]\n",
      "\n",
      "2119117866688\n",
      "[5, 4, 3, 2, 1, 0]\n",
      "2119090130880\n",
      "[0, 1, 2, 3, 4, 5]\n",
      "2119090129472\n",
      "[5, 4, 3, 0, 0, 0]\n",
      "\n",
      "2119117866688\n",
      "[5, 4, 3, 2, 1, 0]\n",
      "2119090130880\n",
      "[0, 1, 2, 3, 4, 5]\n",
      "2119090129472\n",
      "[5, 4, 3, 3, 4, 5]\n",
      "\n",
      "2119117866688\n",
      "[5, 4, 3, 2, 1, 0]\n",
      "2119090130880\n",
      "[0, 1, 2, 3, 4, 5]\n",
      "2119090129472\n",
      "[0, 1, 2, 3, 4, 5]\n"
     ]
    }
   ],
   "source": [
    "t1_l, t0_l = t_l.copy()[::-1], [0 for _i in range(6)]\n",
    "print(id(t_l), t_l, id(t1_l), t1_l, id(t0_l), t0_l, sep='\\n')\n",
    "t0_l[:3] = t_l[:3]\n",
    "print('', id(t_l), t_l, id(t1_l), t1_l, id(t0_l), t0_l, sep='\\n')\n",
    "t0_l[3:] = t1_l[3:]\n",
    "print('', id(t_l), t_l, id(t1_l), t1_l, id(t0_l), t0_l, sep='\\n')\n",
    "t0_l[:] = t1_l[:]\n",
    "print('', id(t_l), t_l, id(t1_l), t1_l, id(t0_l), t0_l, sep='\\n')"
   ]
  },
  {
   "cell_type": "code",
   "execution_count": 38,
   "metadata": {},
   "outputs": [
    {
     "name": "stdout",
     "output_type": "stream",
     "text": [
      "(0, ('8', '-6'))\n",
      "(1, ('11', '0'))\n",
      "(2, ('-6', '1'))\n",
      "(3, ('3', '1'))\n",
      "(4, ('0', '11'))\n",
      "(5, ('1', '3'))\n",
      "(6, ('1', '8'))\n",
      "_______________\n",
      "\n",
      "_______________\n",
      "(0, (0, 0))\n",
      "(1, (0, 0))\n",
      "(2, (0, 0))\n",
      "_______________\n",
      "(0, (5, 0))\n",
      "(1, (4, 1))\n",
      "(2, (3, 2))\n",
      "(3, (2, 3))\n",
      "(4, (1, 4))\n",
      "(5, (0, 5))\n",
      "_______________\n"
     ]
    }
   ],
   "source": [
    "for t_l in ('8 11 -6 3 0 1 1'.split(), [], [0, 0, 0], [*range(5, -1, -1)]):\n",
    "  print(*enumerate(zip(t_l, tMergeSrtL_ff(t_l.copy()))), sep='\\n')\n",
    "  print('_' *15) \n"
   ]
  },
  {
   "cell_type": "markdown",
   "metadata": {},
   "source": [
    "##### End:Stepik"
   ]
  },
  {
   "cell_type": "code",
   "execution_count": 81,
   "metadata": {},
   "outputs": [
    {
     "data": {
      "text/plain": [
       "('\\\\', '')"
      ]
     },
     "execution_count": 81,
     "metadata": {},
     "output_type": "execute_result"
    }
   ],
   "source": [
    "os.path.split('\\\\')"
   ]
  },
  {
   "cell_type": "code",
   "execution_count": 67,
   "metadata": {},
   "outputs": [
    {
     "data": {
      "text/plain": [
       "''"
      ]
     },
     "execution_count": 67,
     "metadata": {},
     "output_type": "execute_result"
    }
   ],
   "source": [
    "r'/\\//\\\\'.strip(''.join((os.sep, os.altsep)))"
   ]
  },
  {
   "cell_type": "code",
   "execution_count": 39,
   "metadata": {},
   "outputs": [
    {
     "ename": "NameError",
     "evalue": "name 't_o' is not defined",
     "output_type": "error",
     "traceback": [
      "\u001b[1;31m---------------------------------------------------------------------------\u001b[0m",
      "\u001b[1;31mNameError\u001b[0m                                 Traceback (most recent call last)",
      "\u001b[1;32md:\\Doc\\Dvl\\Prj\\Py\\Stu\\PyDev\\05\\HW\\ts.ipynb Cell 37'\u001b[0m in \u001b[0;36m<cell line: 1>\u001b[1;34m()\u001b[0m\n\u001b[1;32m----> <a href='vscode-notebook-cell:/d%3A/Doc/Dvl/Prj/Py/Stu/PyDev/05/HW/ts.ipynb#ch0000064?line=0'>1</a>\u001b[0m t_o\u001b[39m.\u001b[39mname\n",
      "\u001b[1;31mNameError\u001b[0m: name 't_o' is not defined"
     ]
    }
   ],
   "source": [
    "t_o.name"
   ]
  },
  {
   "cell_type": "code",
   "execution_count": 11,
   "metadata": {},
   "outputs": [
    {
     "data": {
      "text/plain": [
       "False"
      ]
     },
     "execution_count": 11,
     "metadata": {},
     "output_type": "execute_result"
    }
   ],
   "source": [
    "mCfmMsg_sf = 'Пожалуйста, подтвердите Ваше решение{}\\n - введите{} и нажмите Enter:'\n",
    "mCfmDfPtt_s = ' ДА'\n",
    "def mInP_Cfm_fp(laDecision_s='', laPtt_s=mCfmDfPtt_s, laMsg_sf=None,\n",
    "    laInPFlt_cll=lambda _s: _s.lower(), file:mSupportsWrite_ca=sys.stdout):\n",
    "  laPtt_s = mCfmDfPtt_s if laPtt_s is None else str(laPtt_s)\n",
    "  laDecision_s = '' if laDecision_s is None else str(laDecision_s)\n",
    "  laMsg_sf = mCfmMsg_sf if laMsg_sf is None else str(laMsg_sf)\n",
    "  lo_s, loPtt_s, loDecision_s, loMsg_sf = None, laPtt_s, laDecision_s, laMsg_sf\n",
    "  lo_s = loMsg_sf.format(loDecision_s, loPtt_s)\n",
    "  \n",
    "  # loPHCo_i = loMsg_sf.count('{}') # 2Do:SeaRx(\\{(.*?)\\})\n",
    "  # if loPHCo_i < 1 and loMsg_sf.strip() != '':\n",
    "  #   lo_s = loMsg_sf\n",
    "  # for loTry_i in range(3, -1,-1):\n",
    "  #   try:\n",
    "  #     lo_s = loMsg_sf.format(loDecision_s, loPtt_s)\n",
    "  #   except SyntaxError as loExc_o:\n",
    "  #     match loTry_i:\n",
    "  #       case [3]:\n",
    "  #         loMsg_sf = mCfmMsg_sf\n",
    "  #         print(loTry_i, \"mCfmMsg_sf.format(loDecision_s, loPtt_s)\")\n",
    "  #       case [2]:\n",
    "  #         loDecision_s = ''\n",
    "  #         print(loTry_i, \"mCfmMsg_sf.format('', loPtt_s)\")\n",
    "  #       case [1]:\n",
    "  #         loPtt_s = mCfmDfPtt_s\n",
    "  #         print(loTry_i, \"mCfmMsg_sf.format('', mCfmDfPtt_s)\")\n",
    "  #       case [0]:\n",
    "  #         loPtt_s = 'ДА'\n",
    "  #         lo_s = 'Пожалуйста, подтвердите Ваше решение\\n - введите ДА и нажмите Enter:'\n",
    "  #         print(loTry_i, f'{lo_s!r}')\n",
    "\n",
    "  loRes_s = input(lo_s)\n",
    "  if callable(laInPFlt_cll):\n",
    "    loRes_s, loPtt_s = laInPFlt_cll(loRes_s), laInPFlt_cll(loPtt_s)\n",
    "  return loRes_s == loPtt_s or loRes_s.strip() == loPtt_s.strip()\n",
    "  # 2Do: MaB: loPtt_s CaB:tuple\n",
    "mInP_Cfm_fp()\n"
   ]
  },
  {
   "cell_type": "code",
   "execution_count": 75,
   "metadata": {},
   "outputs": [
    {
     "data": {
      "text/plain": [
       "'tst1'"
      ]
     },
     "execution_count": 75,
     "metadata": {},
     "output_type": "execute_result"
    }
   ],
   "source": [
    "'tst{}'.format(1,3)"
   ]
  },
  {
   "cell_type": "code",
   "execution_count": 49,
   "metadata": {},
   "outputs": [],
   "source": [
    "def mOuP_Vie_fpt(laVie_t, laTDesc1OrMOrNo_t, laHea_s='Fmt:([DF~][L ]) <name>',\n",
    "    laPau_b=True, file:mSupportsWrite_ca=sys.stdout):\n",
    "  print(f\"In Dir:({mStt_d['kStkDir_l'][-1]}):\\n\" + mOuPSep_s)\n",
    "  loCo_i = len(laVie_t)\n",
    "  if loCo_i == 0:\n",
    "    print(laTDesc1OrMOrNo_t[-1] + '.\\n' + mOuPSep_s, file=file)\n",
    "  else:\n",
    "    lo_s = (laTDesc1OrMOrNo_t[0] if loCo_i == 1 else laTDesc1OrMOrNo_t[1])\n",
    "    if laHea_s is not None: lo_s += f'({laHea_s})'\n",
    "    print(lo_s + \":\", file=file)\n",
    "    print(*laVie_t, mOuPSep_s, sep='\\n', file=file)\n",
    "  if laPau_b: mInP_Wai_fp(file=file)\n",
    "\n",
    "\n",
    "def mA_VieAll_fmf(laSf_o:mMenu_c, file:mSupportsWrite_ca=sys.stdout):\n",
    "  lo_t = tuple(f'({_el[1]}) <{_el[0]}>' for _el in mStt_d['kPreSrtByTyT_t'])\n",
    "  mOuP_Vie_fpt(lo_t, ('One', 'All', 'No files, directories or others'),\n",
    "      laPau_b=False, file=file) \n",
    "  if laSf_o is not None: mInP_Wai_fp(file=file)\n",
    "  return lo_t\n",
    "\n",
    "def mA_VieFi_fmf(laSf_o:mMenu_c, file:mSupportsWrite_ca=sys.stdout):\n",
    "  lo_t = tuple(f'({_el[1]}) <{_el[0]}>' for _el in mStt_d['kPreSrtByTyT_t']\n",
    "               if _el[1][0] == 'F')\n",
    "  mOuP_Vie_fpt(lo_t, ('File', 'Files', 'No files'), \n",
    "      laPau_b=False, file=file) \n",
    "  if laSf_o is not None: mInP_Wai_fp(file=file)\n",
    "  return lo_t\n",
    "\n",
    "def mA_VieDir_fmf(laSf_o:mMenu_c, file:mSupportsWrite_ca=sys.stdout):\n",
    "  lo_t = tuple(f'({_el[1]}) <{_el[0]}>' for _el in mStt_d['kPreSrtByTyT_t']\n",
    "               if _el[1][0] == 'D')\n",
    "  mOuP_Vie_fpt(lo_t, ('Directory', 'Directories', 'No directories'),\n",
    "      laPau_b=(laSf_o is not None), file=file) \n",
    "  if laSf_o is not None: mInP_Wai_fp(file=file)\n",
    "  return lo_t\n",
    "\n",
    "def mA_VieSLnk_fmf(laSf_o:mMenu_c, file:mSupportsWrite_ca=sys.stdout):\n",
    "  lo_t = tuple(f'({_el[1]}) <{_el[0]}>' for _el in mStt_d['kPreSrtByTyT_t']\n",
    "               if _el[1][-1] == 'L')\n",
    "  mOuP_Vie_fpt(lo_t, ('Softlink', 'Softlinks', 'No softlinks'),\n",
    "      laPau_b=False, file=file) \n",
    "  if laSf_o is not None: mInP_Wai_fp(file=file)\n",
    "  return lo_t\n",
    "mWaiMsg_s = 'Пожалуйста, нажмите Enter для возврата в меню.'\n",
    "def mInP_Wai_fp(laMsg_s=None, file:mSupportsWrite_ca=sys.stdout):\n",
    "    input((laMsg_s if laMsg_s is not None else mWaiMsg_s))\n"
   ]
  },
  {
   "cell_type": "code",
   "execution_count": 52,
   "metadata": {},
   "outputs": [
    {
     "name": "stdout",
     "output_type": "stream",
     "text": [
      "In Dir:(D:\\Doc\\Dvl\\Prj\\Py\\Stu\\PyDev\\05\\HW\\ts\\ju\\0)):\n",
      "================================\n",
      "No directories.\n",
      "================================\n",
      "\tERR: You input:'..\\mhk>' INVALID because of NOT каталог с введеным (не пустым) именем\n",
      " должен существовать.\n",
      " Нужно ввести еще 1 знач. и осталось 10 попыт.\n",
      "\tMSG: You input:'..' and change current directory:(D:\\Doc\\Dvl\\Prj\\Py\\Stu\\PyDev\\05\\HW\\ts\\ju)\n",
      "ТекДиректория:(D:\\Doc\\Dvl\\Prj\\Py\\Stu\\PyDev\\05\\HW\\ts\\ju), (All,File,Dir,Oth,+SLink):(1,0,1,0,0)\n"
     ]
    }
   ],
   "source": [
    "def mA_ChaCurDi_fm(laSf_o:mMenu_c, file:mSupportsWrite_ca=sys.stdout):\n",
    "  mA_VieDir_fmf(None, file)\n",
    "  lo_cll = lambda _s: str(_s).strip() != ''\\\n",
    "      and os.path.isdir(mCre_AbsPath_ff(_s, laCurDir_s=mStt_d['kStkDir_l'][-1]))\n",
    "      # and mChe_ExsPath_ff(_s, laCurDir_s=mStt_d['kStkDir_l'][-1])\\\n",
    "  # lo_cll = futs.partial(mChe_ExsPath_ff, laCurDir_s=mStt_d['kDirEntry_t'][-1])\n",
    "  lo_s = ('каталог с введеным (не пустым) именем\\n должен существовать')\n",
    "  loRes_s = mInP_FltAVali_fefi(' имя нового каталога (абсол. или относит.)\\n',\n",
    "      laInPTypeFlt_cll=None, laValiInPMsg_s=lo_s, laVali_cll=lo_cll,\n",
    "      file=file)[0]\n",
    "  loAbsPth_s = mCre_AbsPath_ff(loRes_s, mStt_d['kStkDir_l'][-1])\n",
    "  # with open(os.path.join(loAbsPth_s), mode='x') as lw_o:\n",
    "  #   ...\n",
    "  try:\n",
    "    mFll_Stt_fe(loAbsPth_s)\n",
    "  except OSError as loExc_o:\n",
    "    print((f\"\\tERR: You input:'{loRes_s}' INVALID \"\n",
    "        + f\"with exception:({loExc_o}), try again next time.\"), file=file)\n",
    "    if laSf_o is not None: mInP_Wai_fp(file=file)\n",
    "    return str(loExc_o)\n",
    "  else:\n",
    "    print(f\"\\tMSG: You input:'{loRes_s}' and change current directory:({loAbsPth_s})\", file=file)\n",
    "    return loAbsPth_s\n",
    "  # finally:\n",
    "  #   loFi_o.close()\n",
    "mA_ChaCurDi_fm(None)\n",
    "mOuP_Stt_fmp(None)"
   ]
  },
  {
   "cell_type": "code",
   "execution_count": 42,
   "metadata": {},
   "outputs": [
    {
     "name": "stdout",
     "output_type": "stream",
     "text": [
      "In Dir:(D:\\Doc\\Dvl\\Prj\\Py\\Stu\\PyDev\\05\\HW\\ts):\n",
      "================================\n",
      "All(Fmt:([DF~][L ]) <name>):\n",
      "(D ) <ju>\n",
      "(DL) <mod>\n",
      "(D ) <trd>\n",
      "(D ) <Ts1>\n",
      "(D ) <tstt>\n",
      "(D ) <y>\n",
      "(F ) <LICENSE>\n",
      "(F ) <ll>\n",
      "(F ) <lll>\n",
      "(F ) <README.md>\n",
      "(F ) <ts1.py>\n",
      "(F ) <ttt.txt>\n",
      "(F ) <x>\n",
      "(~L) <ts.txt>\n",
      "================================\n",
      "\tERR: You input:'tstt' INVALID because of NOT каталог (файл\n",
      " или любой другой объект файл.системы) с введеным (не пустым) именем\n",
      " не должен существовать.\n",
      " Нужно ввести еще 1 знач. и осталось 10 попыт.\n",
      "\tERR: You input:'trd' INVALID because of NOT каталог (файл\n",
      " или любой другой объект файл.системы) с введеным (не пустым) именем\n",
      " не должен существовать.\n",
      " Нужно ввести еще 1 знач. и осталось 9 попыт.\n",
      "\tERR: You input:'lll' INVALID because of NOT каталог (файл\n",
      " или любой другой объект файл.системы) с введеным (не пустым) именем\n",
      " не должен существовать.\n",
      " Нужно ввести еще 1 знач. и осталось 8 попыт.\n",
      "\tERR: You input:'' INVALID because of NOT каталог (файл\n",
      " или любой другой объект файл.системы) с введеным (не пустым) именем\n",
      " не должен существовать.\n",
      " Нужно ввести еще 1 знач. и осталось 7 попыт.\n",
      "\tERR: You input:'' INVALID because of NOT каталог (файл\n",
      " или любой другой объект файл.системы) с введеным (не пустым) именем\n",
      " не должен существовать.\n",
      " Нужно ввести еще 1 знач. и осталось 6 попыт.\n",
      "\tERR: You input:'lkjm>' INVALID with exception:([WinError 123] Синтаксическая ошибка в имени файла, имени папки или метке тома: 'D:\\\\Doc\\\\Dvl\\\\Prj\\\\Py\\\\Stu\\\\PyDev\\\\05\\\\HW\\\\ts\\\\lkjm>'), try again next time.\n",
      "ТекДиректория:(D:\\Doc\\Dvl\\Prj\\Py\\Stu\\PyDev\\05\\HW\\ts), (All,File,Dir,Oth,+SLink):(14,7,6,1,2)\n"
     ]
    }
   ],
   "source": [
    "def mA_CreDi_fm(laSf_o:mMenu_c, file:mSupportsWrite_ca=sys.stdout):\n",
    "  mA_VieAll_fmf(None, file)\n",
    "  lo_cll = lambda _s: str(_s).strip() != '' and not mChe_ExsPath_ff(_s, laCurDir_s=mStt_d['kStkDir_l'][-1])\n",
    "  # lo_cll = futs.partial(mChe_ExsPath_ff, laCurDir_s=mStt_d['kDirEntry_t'][-1])\n",
    "  lo_s = ('каталог (файл\\n или любой другой объект файл.системы) '\n",
    "    + 'с введеным (не пустым) именем\\n не должен существовать')\n",
    "  loRes_s = mInP_FltAVali_fefi(' имя нового каталога (абсол. или относит.)\\n',\n",
    "      laInPTypeFlt_cll=None, laValiInPMsg_s=lo_s, laVali_cll=lo_cll,\n",
    "      file=file)[0]\n",
    "  loAbsPth_s = mCre_AbsPath_ff(loRes_s, mStt_d['kStkDir_l'][-1])\n",
    "  # with open(os.path.join(loAbsPth_s), mode='x') as lw_o:\n",
    "  #   ...\n",
    "  try:\n",
    "    os.makedirs(loAbsPth_s)\n",
    "  except OSError as loExc_o:\n",
    "    print((f\"\\tERR: You input:'{loRes_s}' INVALID \"\n",
    "        + f\"with exception:({loExc_o}), try again next time.\"), file=file)\n",
    "    if laSf_o is not None: mInP_Wai_fp(file=file)\n",
    "    return str(loExc_o)\n",
    "  else:\n",
    "    print(f\"\\tMSG: You input:'{loRes_s}' and create directory:({loAbsPth_s})\", file=file)\n",
    "    mFll_Stt_fe(mStt_d['kStkDir_l'][-1])\n",
    "    return loAbsPth_s\n",
    "  # finally:\n",
    "  #   loFi_o.close()\n",
    "mA_CreDi_fm(None)\n"
   ]
  },
  {
   "cell_type": "code",
   "execution_count": 98,
   "metadata": {},
   "outputs": [
    {
     "data": {
      "text/plain": [
       "(True, True, False, False, False, False, True, False)"
      ]
     },
     "execution_count": 98,
     "metadata": {},
     "output_type": "execute_result"
    }
   ],
   "source": [
    "def mCre_Path_ff(laPth4Cre_s, laCurDir_s=None):\n",
    "  if not os.path.isabs(laPth4Cre_s):\n",
    "    if laCurDir_s is None: laCurDir_s = os.path.realpath(os.curdir)\n",
    "    return os.path.abspath(os.path.normpath(\n",
    "        os.path.join(laCurDir_s, laPth4Cre_s)))\n",
    "  else: return os.path.normpath(laPth4Cre_s)\n",
    "\n",
    "# !!!(os.path.exists): path refers to an existing path or an open file descriptor.\n",
    "#  Returns False for broken symbolic links. On some platforms, this function\n",
    "#  may return False if permission is not granted to execute os.stat()\n",
    "#  on the requested file, even if the path physically exists\n",
    "def mChe_ExsPath_ff(laPth4Che_s, laCurDir_s=None, laCheBroLnk_b=True):\n",
    "  if str(laPth4Che_s).strip() == '': return False\n",
    "  loAbsPht_s = mCre_Path_ff(laPth4Che_s, laCurDir_s=laCurDir_s)\n",
    "  # print(loAbsPht_s)\n",
    "  return os.path.exists(loAbsPht_s) or (laCheBroLnk_b and os.path.lexists(loAbsPht_s))\n",
    "mChe_ExsPath_ff(r'ts\\ts.txt', teCurDir_s), mChe_ExsPath_ff(r'ts\\ts.txt'),\\\n",
    "mChe_ExsPath_ff(r'ts\\ts.txt', laCheBroLnk_b=False), mChe_ExsPath_ff(''),\\\n",
    "mChe_ExsPath_ff(r'ts\\ts.txt', teCurDir_s, False), mChe_ExsPath_ff(' \\n\\t '),\\\n",
    "mChe_ExsPath_ff(r'd:\\doc\\dvl\\prj\\py\\stu\\pydev\\05\\hw\\ts\\ts.txt', teCurDir_s),\\\n",
    "mChe_ExsPath_ff(r'd:\\doc\\dvl\\prj\\py\\stu\\pydev\\05\\hw\\ts\\ts.txt', teCurDir_s, False)\n"
   ]
  },
  {
   "cell_type": "code",
   "execution_count": 100,
   "metadata": {},
   "outputs": [
    {
     "data": {
      "text/plain": [
       "True"
      ]
     },
     "execution_count": 100,
     "metadata": {},
     "output_type": "execute_result"
    }
   ],
   "source": [
    "os.path.isabs(os.path.join(teCurDir_s,''))"
   ]
  },
  {
   "cell_type": "code",
   "execution_count": 91,
   "metadata": {},
   "outputs": [
    {
     "name": "stdout",
     "output_type": "stream",
     "text": [
      "d:\\doc\\dvl\\prj\\py\\stu\\pydev\\05\\hw\\ts\\ts.txt\n",
      "d:\\doc\\dvl\\prj\\py\\stu\\pydev\\05\\hw\\ts\\ts.txt\n",
      "d:\\doc\\dvl\\prj\\py\\stu\\pydev\\05\\hw\\ts\\ts.txt\n",
      "d:\\doc\\dvl\\prj\\py\\stu\\pydev\\05\\hw\\ts\\ts.txt\n",
      "d:\\doc\\dvl\\prj\\py\\stu\\pydev\\05\\hw\\ts\\ts.txt\n",
      "d:\\doc\\dvl\\prj\\py\\stu\\pydev\\05\\hw\\ts\\ts.txt\n",
      "d:\\doc\\dvl\\prj\\py\\stu\\pydev\\05\\hw\\ts\\ts.txt\n"
     ]
    },
    {
     "data": {
      "text/plain": [
       "(True, True, False, False, True, False, True)"
      ]
     },
     "execution_count": 91,
     "metadata": {},
     "output_type": "execute_result"
    }
   ],
   "source": [
    "def mChe_ExsPath_ff(laPth4Che_s, laCurDir_s=None, laCheBroLnk_b=True):\n",
    "  if not os.path.isabs(laPth4Che_s):\n",
    "    if laCurDir_s is None: laCurDir_s = os.path.realpath(os.curdir)\n",
    "    loAbsPht_s = os.path.normcase(os.path.abspath(os.path.normpath(\n",
    "      os.path.join(laCurDir_s, laPth4Che_s))))\n",
    "  else: loAbsPht_s = os.path.normcase(os.path.normpath(laPth4Che_s))\n",
    "  print(loAbsPht_s)\n",
    "  return os.path.exists(loAbsPht_s) or (laCheBroLnk_b and os.path.lexists(loAbsPht_s))\n",
    "# !!!(os.path.exists): path refers to an existing path or an open file descriptor.\n",
    "#  Returns False for broken symbolic links. On some platforms, this function\n",
    "#  may return False if permission is not granted to execute os.stat()\n",
    "#  on the requested file, even if the path physically exists\n",
    "mChe_ExsPath_ff(r'ts\\ts.txt', teCurDir_s), mChe_ExsPath_ff(r'ts\\ts.txt'),\\\n",
    "mChe_ExsPath_ff(r'ts\\ts.txt', laCheBroLnk_b=False),\\\n",
    "mChe_ExsPath_ff(r'ts\\ts.txt', teCurDir_s, False),\\\n",
    "mChe_ExsPath_ff(r'd:\\doc\\dvl\\prj\\py\\stu\\pydev\\05\\hw\\ts\\ts.txt', teCurDir_s),\\\n",
    "mChe_ExsPath_ff(r'd:\\doc\\dvl\\prj\\py\\stu\\pydev\\05\\hw\\ts\\ts.txt', teCurDir_s, False)\n"
   ]
  },
  {
   "cell_type": "code",
   "execution_count": 128,
   "metadata": {},
   "outputs": [],
   "source": [
    "tTsDir_s, tTsFi_s = r'ts', r'tsz.txt'\n",
    "mStt_d['kStkDir_l'][-1], os.path.join(tTsDir_s, tTsFi_s), os.path.join(mStt_d['kStkDir_l'][-1], tTsFi_s)\n",
    "if tTsFi_s in [_el.name for _el in mStt_d['kDirEntry_t']]:\n",
    "  print('FileExistsError')\n",
    "else: \n",
    "  with open(os.path.join(mStt_d['kStkDir_l'][-1], tTsFi_s), mode='x') as lw_o:\n",
    "    ...\n"
   ]
  },
  {
   "cell_type": "code",
   "execution_count": 61,
   "metadata": {},
   "outputs": [
    {
     "name": "stdout",
     "output_type": "stream",
     "text": [
      "D:\\Doc\\Dvl\\Prj\\Py\\Stu\\PyDev\\05\\HW D:\\Doc\\Dvl\\Prj\\Py\\Stu\\PyDev\\05\\HW\\ts\\ts.txt\n"
     ]
    },
    {
     "ename": "NotADirectoryError",
     "evalue": "[WinError 267] Неверно задано имя папки: 'ts.txt'",
     "output_type": "error",
     "traceback": [
      "\u001b[1;31m---------------------------------------------------------------------------\u001b[0m",
      "\u001b[1;31mNotADirectoryError\u001b[0m                        Traceback (most recent call last)",
      "\u001b[1;32md:\\Doc\\Dvl\\Prj\\Py\\Stu\\PyDev\\05\\HW\\ts.ipynb Cell 5'\u001b[0m in \u001b[0;36m<cell line: 6>\u001b[1;34m()\u001b[0m\n\u001b[0;32m      <a href='vscode-notebook-cell:/d%3A/Doc/Dvl/Prj/Py/Stu/PyDev/05/HW/ts.ipynb#ch0000012?line=3'>4</a>\u001b[0m os\u001b[39m.\u001b[39mchdir(teCurDir_s)\n\u001b[0;32m      <a href='vscode-notebook-cell:/d%3A/Doc/Dvl/Prj/Py/Stu/PyDev/05/HW/ts.ipynb#ch0000012?line=5'>6</a>\u001b[0m \u001b[39mif\u001b[39;00m os\u001b[39m.\u001b[39mpath\u001b[39m.\u001b[39mexists(tTsDir_s):\n\u001b[1;32m----> <a href='vscode-notebook-cell:/d%3A/Doc/Dvl/Prj/Py/Stu/PyDev/05/HW/ts.ipynb#ch0000012?line=6'>7</a>\u001b[0m   \u001b[39mif\u001b[39;00m os\u001b[39m.\u001b[39mpath\u001b[39m.\u001b[39misdir(tTsDir_s): os\u001b[39m.\u001b[39mchdir(tTsFi_s)\n\u001b[0;32m      <a href='vscode-notebook-cell:/d%3A/Doc/Dvl/Prj/Py/Stu/PyDev/05/HW/ts.ipynb#ch0000012?line=7'>8</a>\u001b[0m     \u001b[39m# try:\u001b[39;00m\n\u001b[0;32m      <a href='vscode-notebook-cell:/d%3A/Doc/Dvl/Prj/Py/Stu/PyDev/05/HW/ts.ipynb#ch0000012?line=8'>9</a>\u001b[0m     \u001b[39m#   os.chdir(os.path.join(tTsFi_s,tTsDir_s))\u001b[39;00m\n\u001b[0;32m     <a href='vscode-notebook-cell:/d%3A/Doc/Dvl/Prj/Py/Stu/PyDev/05/HW/ts.ipynb#ch0000012?line=9'>10</a>\u001b[0m     \u001b[39m# except FileNotFoundError as tExc_o:\u001b[39;00m\n\u001b[1;32m   (...)\u001b[0m\n\u001b[0;32m     <a href='vscode-notebook-cell:/d%3A/Doc/Dvl/Prj/Py/Stu/PyDev/05/HW/ts.ipynb#ch0000012?line=12'>13</a>\u001b[0m     \u001b[39m#         for _s in dir(tExc_o) if not _s.startswith('__')), sep='\\n')\u001b[39;00m\n\u001b[0;32m     <a href='vscode-notebook-cell:/d%3A/Doc/Dvl/Prj/Py/Stu/PyDev/05/HW/ts.ipynb#ch0000012?line=13'>14</a>\u001b[0m     \u001b[39m#   raise tExc_o\u001b[39;00m\n\u001b[0;32m     <a href='vscode-notebook-cell:/d%3A/Doc/Dvl/Prj/Py/Stu/PyDev/05/HW/ts.ipynb#ch0000012?line=14'>15</a>\u001b[0m   \u001b[39melse\u001b[39;00m: \u001b[39mprint\u001b[39m(\u001b[39m'\u001b[39m\u001b[39mNotADirectoryError\u001b[39m\u001b[39m'\u001b[39m)\n",
      "\u001b[1;31mNotADirectoryError\u001b[0m: [WinError 267] Неверно задано имя папки: 'ts.txt'"
     ]
    }
   ],
   "source": [
    "tTsDir_s, tTsFi_s = r'ts', r'ts.txt'\n",
    "# os.path.join(tTsDir_s, tTsFi_s)\n",
    "print(os.path.realpath(os.curdir), os.path.join(teCurDir_s, tTsDir_s, tTsFi_s))\n",
    "os.chdir(teCurDir_s)\n",
    "\n",
    "if os.path.exists(tTsDir_s):\n",
    "  if os.path.isdir(tTsDir_s): os.chdir(tTsDir_s)\n",
    "    # try:\n",
    "    #   os.chdir(os.path.join(tTsFi_s,tTsDir_s))\n",
    "    # except FileNotFoundError as tExc_o:\n",
    "    #   print(tExc_o, f'{tExc_o!r}',\n",
    "    #       *(f'{_s}:{getattr(tExc_o, _s, None)}'\n",
    "    #         for _s in dir(tExc_o) if not _s.startswith('__')), sep='\\n')\n",
    "    #   raise tExc_o\n",
    "  else: print('NotADirectoryError')\n",
    "else: \n",
    "  os.mkdir(tTsDir_s) # os.(remove rmdir removedirs)\n",
    "  os.chdir(tTsDir_s)\n",
    "  \n",
    "print(os.path.realpath(os.curdir))\n",
    "teScan_t = tuple(sorted(os.scandir('.'), key=lambda _el: _el.name.upper()))\n",
    "print(*teScan_t, sep='\\n') # os.DirEntry \n",
    "if tTsFi_s in [_el.name for _el in teScan_t]:\n",
    "  print('FileExistsError')\n",
    "else: \n",
    "  with open(os.path.join(tTsFi_s), mode='x') as lw_o:\n",
    "    ...\n",
    "tuple(_el.name for _el in sorted(os.scandir('.'), key=lambda _el: _el.name.upper()))"
   ]
  },
  {
   "cell_type": "code",
   "execution_count": 41,
   "metadata": {},
   "outputs": [
    {
     "data": {
      "text/plain": [
       "True"
      ]
     },
     "execution_count": 41,
     "metadata": {},
     "output_type": "execute_result"
    }
   ],
   "source": [
    "tTsFi_s in [_el.name for _el in teScan_t]"
   ]
  },
  {
   "cell_type": "code",
   "execution_count": 123,
   "metadata": {},
   "outputs": [
    {
     "name": "stdout",
     "output_type": "stream",
     "text": [
      "DVL:Exc: [WinError 3] loDir_s non exist: 'ts.txt' -> 'ts.txt222'(FileNotFoundError(2, 'loDir_s non exist')):\n",
      "args:(2, 'loDir_s non exist')\n",
      "characters_written:None\n",
      "errno:2\n",
      "filename:ts.txt\n",
      "filename2:ts.txt222\n",
      "strerror:loDir_s non exist\n",
      "winerror:3\n",
      "with_traceback:<built-in method with_traceback of FileNotFoundError object at 0x000001625554DFC0>\n",
      "\n",
      "Fin\n"
     ]
    },
    {
     "ename": "FileNotFoundError",
     "evalue": "[WinError 3] loDir_s non exist: 'ts.txt' -> 'ts.txt222'",
     "output_type": "error",
     "traceback": [
      "\u001b[1;31m---------------------------------------------------------------------------\u001b[0m",
      "\u001b[1;31mFileNotFoundError\u001b[0m                         Traceback (most recent call last)",
      "\u001b[1;32md:\\Doc\\Dvl\\Prj\\Py\\Stu\\PyDev\\05\\HW\\ts.ipynb Cell 18'\u001b[0m in \u001b[0;36m<cell line: 1>\u001b[1;34m()\u001b[0m\n\u001b[0;32m      <a href='vscode-notebook-cell:/d%3A/Doc/Dvl/Prj/Py/Stu/PyDev/05/HW/ts.ipynb#ch0000006?line=0'>1</a>\u001b[0m \u001b[39mtry\u001b[39;00m:\n\u001b[1;32m----> <a href='vscode-notebook-cell:/d%3A/Doc/Dvl/Prj/Py/Stu/PyDev/05/HW/ts.ipynb#ch0000006?line=1'>2</a>\u001b[0m   \u001b[39mraise\u001b[39;00m \u001b[39mFileNotFoundError\u001b[39;00m(\u001b[39m2\u001b[39m,\u001b[39m'\u001b[39m\u001b[39mloDir_s non exist\u001b[39m\u001b[39m'\u001b[39m, tTsFi_s, \u001b[39m3\u001b[39m, tTsFi_s \u001b[39m+\u001b[39m\u001b[39m'\u001b[39m\u001b[39m222\u001b[39m\u001b[39m'\u001b[39m)\n\u001b[0;32m      <a href='vscode-notebook-cell:/d%3A/Doc/Dvl/Prj/Py/Stu/PyDev/05/HW/ts.ipynb#ch0000006?line=2'>3</a>\u001b[0m \u001b[39mexcept\u001b[39;00m \u001b[39mFileNotFoundError\u001b[39;00m \u001b[39mas\u001b[39;00m tExc_o:\n\u001b[0;32m      <a href='vscode-notebook-cell:/d%3A/Doc/Dvl/Prj/Py/Stu/PyDev/05/HW/ts.ipynb#ch0000006?line=3'>4</a>\u001b[0m   \u001b[39mprint\u001b[39m(\u001b[39mf\u001b[39m\u001b[39m'\u001b[39m\u001b[39mDVL:Exc: \u001b[39m\u001b[39m{\u001b[39;00mtExc_o\u001b[39m}\u001b[39;00m\u001b[39m(\u001b[39m\u001b[39m{\u001b[39;00mtExc_o\u001b[39m!r}\u001b[39;00m\u001b[39m):\u001b[39m\u001b[39m'\u001b[39m,\n\u001b[0;32m      <a href='vscode-notebook-cell:/d%3A/Doc/Dvl/Prj/Py/Stu/PyDev/05/HW/ts.ipynb#ch0000006?line=4'>5</a>\u001b[0m    \u001b[39m*\u001b[39m(\u001b[39mf\u001b[39m\u001b[39m'\u001b[39m\u001b[39m{\u001b[39;00m_s\u001b[39m}\u001b[39;00m\u001b[39m:\u001b[39m\u001b[39m{\u001b[39;00m\u001b[39mgetattr\u001b[39m(tExc_o, _s, \u001b[39mNone\u001b[39;00m)\u001b[39m}\u001b[39;00m\u001b[39m'\u001b[39m \u001b[39mfor\u001b[39;00m _s \u001b[39min\u001b[39;00m \u001b[39mdir\u001b[39m(tExc_o) \u001b[39mif\u001b[39;00m \u001b[39mnot\u001b[39;00m _s\u001b[39m.\u001b[39mstartswith(\u001b[39m'\u001b[39m\u001b[39m__\u001b[39m\u001b[39m'\u001b[39m)), sep\u001b[39m=\u001b[39m\u001b[39m'\u001b[39m\u001b[39m\\n\u001b[39;00m\u001b[39m'\u001b[39m)\n",
      "\u001b[1;31mFileNotFoundError\u001b[0m: [WinError 3] loDir_s non exist: 'ts.txt' -> 'ts.txt222'"
     ]
    }
   ],
   "source": [
    "try:\n",
    "  raise FileNotFoundError(2,'loDir_s non exist', tTsFi_s, 3, tTsFi_s +'222')\n",
    "except FileNotFoundError as tExc_o:\n",
    "  print(f'DVL:Exc: {tExc_o}({tExc_o!r}):',\n",
    "   *(f'{_s}:{getattr(tExc_o, _s, None)}' for _s in dir(tExc_o) if not _s.startswith('__')), sep='\\n')\n",
    "  raise\n",
    "finally:\n",
    "  # print('Fin', tExc_o)\n",
    "  print('\\nFin')\n",
    "   "
   ]
  },
  {
   "cell_type": "code",
   "execution_count": 48,
   "metadata": {},
   "outputs": [
    {
     "ename": "NameError",
     "evalue": "name 'tExc_o' is not defined",
     "output_type": "error",
     "traceback": [
      "\u001b[1;31m---------------------------------------------------------------------------\u001b[0m",
      "\u001b[1;31mNameError\u001b[0m                                 Traceback (most recent call last)",
      "\u001b[1;32md:\\Doc\\Dvl\\Prj\\Py\\Stu\\PyDev\\05\\HW\\ts.ipynb Cell 8'\u001b[0m in \u001b[0;36m<cell line: 1>\u001b[1;34m()\u001b[0m\n\u001b[1;32m----> <a href='vscode-notebook-cell:/d%3A/Doc/Dvl/Prj/Py/Stu/PyDev/05/HW/ts.ipynb#ch0000020?line=0'>1</a>\u001b[0m \u001b[39mdir\u001b[39m(tExc_o)\n",
      "\u001b[1;31mNameError\u001b[0m: name 'tExc_o' is not defined"
     ]
    }
   ],
   "source": [
    "FileNotFoundError()"
   ]
  },
  {
   "cell_type": "code",
   "execution_count": null,
   "metadata": {},
   "outputs": [
    {
     "name": "stdout",
     "output_type": "stream",
     "text": [
      "D:\\Doc\\Dvl\\Prj\\Py\\Stu\\PyDev\\05\\HW\n",
      "D:\\Doc\\Dvl\\Prj\\Py\\Stu\\PyDev\\05\\HW\\mod\n",
      "D:\\Doc\\Dvl\\Prj\\Py\\Stu\\PyDev\\05\\HW\n"
     ]
    },
    {
     "ename": "FileNotFoundError",
     "evalue": "[WinError 161] Указан недопустимый путь: '//rty'",
     "output_type": "error",
     "traceback": [
      "\u001b[1;31m---------------------------------------------------------------------------\u001b[0m\n",
      "\u001b[1;31mFileNotFoundError\u001b[0m                         Traceback (most recent call last)\n",
      "\u001b[1;32md:\\Doc\\Dvl\\Prj\\Py\\Stu\\PyDev\\05\\HW\\ts.ipynb Cell 7'\u001b[0m in \u001b[0;36m<cell line: 6>\u001b[1;34m()\u001b[0m\n",
      "\u001b[0;32m      <a href='vscode-notebook-cell:/d%3A/Doc/Dvl/Prj/Py/Stu/PyDev/05/HW/ts.ipynb#ch0000011?line=3'>4</a>\u001b[0m os\u001b[39m.\u001b[39mchdir(os\u001b[39m.\u001b[39mpardir)\n",
      "\u001b[0;32m      <a href='vscode-notebook-cell:/d%3A/Doc/Dvl/Prj/Py/Stu/PyDev/05/HW/ts.ipynb#ch0000011?line=4'>5</a>\u001b[0m \u001b[39mprint\u001b[39m(os\u001b[39m.\u001b[39mpath\u001b[39m.\u001b[39mrealpath(os\u001b[39m.\u001b[39mcurdir))\n",
      "\u001b[1;32m----> <a href='vscode-notebook-cell:/d%3A/Doc/Dvl/Prj/Py/Stu/PyDev/05/HW/ts.ipynb#ch0000011?line=5'>6</a>\u001b[0m os\u001b[39m.\u001b[39;49mchdir(\u001b[39mr\u001b[39;49m\u001b[39m'\u001b[39;49m\u001b[39m//rty\u001b[39;49m\u001b[39m'\u001b[39;49m) \u001b[39m# OSError: [WinError 123] Синтаксическая ошибка в имени файла, имени папки или метке тома: '<>rty'\u001b[39;00m\n",
      "\u001b[0;32m      <a href='vscode-notebook-cell:/d%3A/Doc/Dvl/Prj/Py/Stu/PyDev/05/HW/ts.ipynb#ch0000011?line=6'>7</a>\u001b[0m os\u001b[39m.\u001b[39mchdir(\u001b[39mr\u001b[39m\u001b[39m'\u001b[39m\u001b[39m<>rty\u001b[39m\u001b[39m'\u001b[39m) \u001b[39m# OSError: [WinError 123] Синтаксическая ошибка в имени файла, имени папки или метке тома: '<>rty'\u001b[39;00m\n",
      "\u001b[0;32m      <a href='vscode-notebook-cell:/d%3A/Doc/Dvl/Prj/Py/Stu/PyDev/05/HW/ts.ipynb#ch0000011?line=7'>8</a>\u001b[0m os\u001b[39m.\u001b[39mchdir(\u001b[39mr\u001b[39m\u001b[39m'\u001b[39m\u001b[39mrty\u001b[39m\u001b[39m'\u001b[39m) \u001b[39m# FileNotFoundError: [WinError 2] Не удается найти указанный файл: 'rty'\u001b[39;00m\n",
      "\n",
      "\u001b[1;31mFileNotFoundError\u001b[0m: [WinError 161] Указан недопустимый путь: '//rty'"
     ]
    }
   ],
   "source": [
    "print(os.path.realpath(os.curdir))\n",
    "os.chdir('mod')\n",
    "print(os.path.realpath(os.curdir))\n",
    "os.chdir(os.pardir)\n",
    "print(os.path.realpath(os.curdir))\n",
    "os.chdir(r'//rty') # FileNotFoundError: [WinError 161] Указан недопустимый путь: '//rty'\n",
    "os.chdir(r'<>rty') # OSError: [WinError 123] Синтаксическая ошибка в имени файла, имени папки или метке тома: '<>rty'\n",
    "os.chdir(r'rty') # FileNotFoundError: [WinError 2] Не удается найти указанный файл: 'rty'\n",
    "os.chdir(r'README.md') # NotADirectoryError: [WinError 267] Неверно задано имя папки: 'README.md'\n",
    "print(os.path.realpath(os.curdir))"
   ]
  },
  {
   "cell_type": "markdown",
   "metadata": {},
   "source": [
    "##### Nte:FileOpError\n",
    "exception FileExistsError\n",
    "Raised when trying to create a file or directory which already exists. Corresponds to errno EEXIST.\n",
    "\n",
    "exception FileNotFoundError\n",
    "Raised when a file or directory is requested but doesn’t exist. Corresponds to errno ENOENT.\n",
    "\n",
    "exception InterruptedError\n",
    "Raised when a system call is interrupted by an incoming signal. Corresponds to errno EINTR.\n",
    "\n",
    ">Changed in version 3.5: Python now retries system calls when a syscall is interrupted by a signal, except if the signal handler raises an exception (see PEP 475 for the rationale), instead of raising InterruptedError.\n",
    "\n",
    "exception IsADirectoryError\n",
    "Raised when a file operation (such as os.remove()) is requested on a directory. Corresponds to errno EISDIR.\n",
    "\n",
    "exception NotADirectoryError\n",
    "Raised when a directory operation (such as os.listdir()) is requested on something which is not a directory. On most POSIX platforms, it may also be raised if an operation attempts to open or traverse a non-directory file as if it were a directory. Corresponds to errno ENOTDIR.\n",
    "\n",
    "exception PermissionError\n",
    "Raised when trying to run an operation without the adequate access rights - for example filesystem permissions. Corresponds to errno EACCES and EPERM.\n",
    "\n",
    "exception OSError([arg])\n",
    "exception OSError(errno, strerror[, filename[, winerror[, filename2]]])\n",
    ">Name:\n",
    "All functions in this module -os - raise OSError (or subclasses thereof) in the case of invalid or inaccessible file names and paths, or other arguments that have the correct type, but are not accepted by the operating system."
   ]
  },
  {
   "cell_type": "code",
   "execution_count": 25,
   "metadata": {},
   "outputs": [
    {
     "name": "stdout",
     "output_type": "stream",
     "text": [
      "D:\\Doc\\Dvl\\Prj\\Py\\Stu\\PyDev\\05\\HW\n",
      "D:\\Doc\\Dvl\\Prj\\Py\\Stu\\PyDev\\05\\HW\\mod\n"
     ]
    }
   ],
   "source": [
    "print(os.path.realpath(os.curdir))\n",
    "os.chdir('mod') # FileNotFoundError: [WinError 2] Не удается найти указанный файл: 'rty'\n",
    "print(os.path.realpath(os.curdir))\n"
   ]
  },
  {
   "cell_type": "code",
   "execution_count": 8,
   "metadata": {},
   "outputs": [
    {
     "name": "stdout",
     "output_type": "stream",
     "text": [
      " Нужно ввести еще 1 знач. и осталось 1 попыт.\n",
      "\tERR: You input:'5' INVALID because of NOT x in (1,2,3).\n",
      " Нужно ввести еще 1 знач. и осталось 10 попыт.\n",
      "(6.0, 2.2) (1,)\n"
     ]
    }
   ],
   "source": [
    "# mod.MVVlStd.inp_FltAVali_fefi()\n",
    "print(mod.MVVlStd.inp_FltAVali_fefi(laWhatInPMsg_s=' Any Float', laInPValues_co=2, laInPTypeFlt_cll=float, laMaxInPTry_co=1),\n",
    " mod.MVVlStd.inp_FltAVali_fefi(' x', laValiInPMsg_s='x in (1,2,3)',\n",
    "  laVali_cll=lambda x: x in (1,2,3))\n",
    "  )\n"
   ]
  },
  {
   "cell_type": "code",
   "execution_count": 133,
   "metadata": {},
   "outputs": [
    {
     "data": {
      "text/plain": [
       "22.444"
      ]
     },
     "execution_count": 133,
     "metadata": {},
     "output_type": "execute_result"
    }
   ],
   "source": [
    "mInP_FltAVali_fefi(f' сумму на сколько пополнить счет\\n',\n",
    "      laInPTypeFlt_cll=lambda _s: float(_s.replace(',', '.', 1)), laDfV_s='100,00',\n",
    "      # laInPTypeFlt_cll=float, laDfV_s='100.00',\n",
    "      laAcceptEmptyInPAsDf_b=True, laValiInPMsg_s=f'положительное число (1_?000([,.]33)?)\\n',\n",
    "      # laAcceptEmptyInPAsDf_b=True, laValiInPMsg_s=f'положительное число с возм.десят.точкой\\n',\n",
    "      laVali_cll=lambda _n: 0 <= _n)[0]"
   ]
  },
  {
   "cell_type": "code",
   "execution_count": 220,
   "metadata": {},
   "outputs": [
    {
     "data": {
      "text/plain": [
       "'123_456_789_01'"
      ]
     },
     "execution_count": 220,
     "metadata": {},
     "output_type": "execute_result"
    }
   ],
   "source": [
    "t_s = \"12345678901\"\n",
    "# t_s = \"12\"\n",
    "# tuple((t_s[(0+_i)*3:(1+_i)*3], _i) for _i in range(len(t_s)//3 +1) if t_s[(0+_i)*3:(1+_i)*3])\n",
    "'_'.join(t_s[(0+_i)*3:(1+_i)*3] for _i in range(len(t_s)//3 +1) if t_s[(0+_i)*3:(1+_i)*3])"
   ]
  },
  {
   "cell_type": "code",
   "execution_count": 241,
   "metadata": {},
   "outputs": [
    {
     "data": {
      "text/plain": [
       "' сумму покупки (на Вашем счету:1_000)\\n'"
      ]
     },
     "execution_count": 241,
     "metadata": {},
     "output_type": "execute_result"
    }
   ],
   "source": [
    "(\" сумму покупки (на Вашем счету:\" +\n",
    "      f\"{mCre_SFrFloat_ff(1000)})\\n\")"
   ]
  },
  {
   "cell_type": "code",
   "execution_count": 240,
   "metadata": {},
   "outputs": [
    {
     "data": {
      "text/plain": [
       "(1000.33, '1_222,444', '1_000', 0.1598)"
      ]
     },
     "execution_count": 240,
     "metadata": {},
     "output_type": "execute_result"
    }
   ],
   "source": [
    "float('1_000,33'.replace(',', '.', 1)), (f'{min(10000.00, 1222.444):_f}').replace('.', ',', 1).rstrip('0'),\\\n",
    "  f\"{1000:_d}\", 0.159_8\n",
    "  # , float('0.159,8'), float('0.159 8')"
   ]
  },
  {
   "cell_type": "code",
   "execution_count": 236,
   "metadata": {},
   "outputs": [
    {
     "name": "stdout",
     "output_type": "stream",
     "text": [
      "('1_000,', '1 000,', '1000,', '1.000,', '1_000,', '1_000,', '1 000,', '1000,', '1.000,', '1_000,', '1_000', '1 000', '1000', '1.000', '1_000', '1_000', '1 000', '1000', '1.000', '1_000', '1_000,', '1 000,', '1000,', '1.000,', '1_000,', '1_000,', '1 000,', '1000,', '1.000,', '1_000,', '1_000', '1 000', '1000', '1.000', '1_000', '1_000', '1 000', '1000', '1.000', '1_000', '1_000.', '1 000.', '1000.', '1_000.', '1,000.', '1_000.', '1 000.', '1000.', '1_000.', '1,000.', '1_000', '1 000', '1000', '1_000', '1,000', '1_000', '1 000', '1000', '1_000', '1,000', '1_000.', '1 000.', '1000.', '1_000.', '1,000.', '1_000.', '1 000.', '1000.', '1_000.', '1,000.', '1_000', '1 000', '1000', '1_000', '1,000', '1_000', '1 000', '1000', '1_000', '1,000', '-122,444', '-122,444', '-122,444', '-122,444', '-122,444', '-122,444', '-122,444', '-122,444', '-122,444', '-122,444', '-122,444', '-122,444', '-122,444', '-122,444', '-122,444', '-122,444', '-122,444', '-122,444', '-122,444', '-122,444', '-122,444', '-122,444', '-122,444', '-122,444', '-122,444', '-122,444', '-122,444', '-122,444', '-122,444', '-122,444', '-122,444', '-122,444', '-122,444', '-122,444', '-122,444', '-122,444', '-122,444', '-122,444', '-122,444', '-122,444', '-122.444', '-122.444', '-122.444', '-122.444', '-122.444', '-122.444', '-122.444', '-122.444', '-122.444', '-122.444', '-122.444', '-122.444', '-122.444', '-122.444', '-122.444', '-122.444', '-122.444', '-122.444', '-122.444', '-122.444', '-122.444', '-122.444', '-122.444', '-122.444', '-122.444', '-122.444', '-122.444', '-122.444', '-122.444', '-122.444', '-122.444', '-122.444', '-122.444', '-122.444', '-122.444', '-122.444', '-122.444', '-122.444', '-122.444', '-122.444', ',159_8', ',159 8', ',1598', ',159.8', ',159_8', '0,159_8', '0,159 8', '0,1598', '0,159.8', '0,159_8', ',159_8', ',159 8', ',1598', ',159.8', ',159_8', '0,159_8', '0,159 8', '0,1598', '0,159.8', '0,159_8', ',1598', ',1598', ',1598', ',1598', ',1598', '0,1598', '0,1598', '0,1598', '0,1598', '0,1598', ',1598', ',1598', ',1598', ',1598', ',1598', '0,1598', '0,1598', '0,1598', '0,1598', '0,1598', '.159_8', '.159 8', '.1598', '.159_8', '.159,8', '0.159_8', '0.159 8', '0.1598', '0.159_8', '0.159,8', '.159_8', '.159 8', '.1598', '.159_8', '.159,8', '0.159_8', '0.159 8', '0.1598', '0.159_8', '0.159,8', '.1598', '.1598', '.1598', '.1598', '.1598', '0.1598', '0.1598', '0.1598', '0.1598', '0.1598', '.1598', '.1598', '.1598', '.1598', '.1598', '0.1598', '0.1598', '0.1598', '0.1598', '0.1598', '0,', '0,', '0,', '0,', '0,', '0,', '0,', '0,', '0,', '0,', '0', '0', '0', '0', '0', '0', '0', '0', '0', '0', '0,', '0,', '0,', '0,', '0,', '0,', '0,', '0,', '0,', '0,', '0', '0', '0', '0', '0', '0', '0', '0', '0', '0', '0.', '0.', '0.', '0.', '0.', '0.', '0.', '0.', '0.', '0.', '0', '0', '0', '0', '0', '0', '0', '0', '0', '0', '0.', '0.', '0.', '0.', '0.', '0.', '0.', '0.', '0.', '0.', '0', '0', '0', '0', '0', '0', '0', '0', '0', '0', ',5', ',5', ',5', ',5', ',5', '0,5', '0,5', '0,5', '0,5', '0,5', ',5', ',5', ',5', ',5', ',5', '0,5', '0,5', '0,5', '0,5', '0,5', ',5', ',5', ',5', ',5', ',5', '0,5', '0,5', '0,5', '0,5', '0,5', ',5', ',5', ',5', ',5', ',5', '0,5', '0,5', '0,5', '0,5', '0,5', '.5', '.5', '.5', '.5', '.5', '0.5', '0.5', '0.5', '0.5', '0.5', '.5', '.5', '.5', '.5', '.5', '0.5', '0.5', '0.5', '0.5', '0.5', '.5', '.5', '.5', '.5', '.5', '0.5', '0.5', '0.5', '0.5', '0.5', '.5', '.5', '.5', '.5', '.5', '0.5', '0.5', '0.5', '0.5', '0.5')\n"
     ]
    }
   ],
   "source": [
    "def mCre_SFrFloat_ff(laSrc_n:float, laReg_s:str='RU', la1kSep_s:str='_',\n",
    "                     la1kSep4Frac_b:bool=True, laFracSepSv_b:bool=False, laLf0Sv_b:bool=True):\n",
    "  if len(la1kSep_s) > 1 or la1kSep_s not in '.,_ ': la1kSep_s = '_'\n",
    "  loRes_s, lo1kSepRPl_b = (f\"{laSrc_n:_f}\").rstrip('0'), None\n",
    "  if la1kSep4Frac_b and loRes_s[-1] != '.':\n",
    "    lo_l = loRes_s.split('.')\n",
    "    lo_l[1] = '_'.join(lo_l[1][(0+_i)*3:(1+_i)*3] for _i in range(len(lo_l[1])//3 +1)\n",
    "        if lo_l[1][(0+_i)*3:(1+_i)*3])\n",
    "    loRes_s = '.'.join(lo_l)\n",
    "  if laReg_s.lower() =='RU'.lower():\n",
    "    loRes_s = loRes_s.replace('.', ',')\n",
    "    if not laFracSepSv_b: loRes_s = loRes_s.rstrip(',')\n",
    "    if la1kSep_s not in ',_' or la1kSep_s == '': lo1kSepRPl_b = True\n",
    "  else:\n",
    "    if not laFracSepSv_b: loRes_s = loRes_s.rstrip('.')\n",
    "    if la1kSep_s not in '._' or la1kSep_s == '': lo1kSepRPl_b = True\n",
    "    # return (f\"{laSrc_n:{la1kSep_s}f}\").rstrip('0').rstrip('.')\n",
    "  if laLf0Sv_b and len(loRes_s) > 2 and loRes_s[0] == '0' and not loRes_s[1].isdecimal():\n",
    "    loRes_s =loRes_s[1:]\n",
    "  if lo1kSepRPl_b: return loRes_s.replace('_', la1kSep_s)\n",
    "  else: return loRes_s\n",
    "\n",
    "tTs_t = tuple((_n, _Reg_s, _sep_s, _4Frac_b, _SepSv_b, _Lf0Sv_b, \n",
    "  mCre_SFrFloat_ff(_n, laReg_s=_Reg_s, la1kSep_s=_sep_s, la1kSep4Frac_b=_4Frac_b,\n",
    "                   laFracSepSv_b=_SepSv_b, laLf0Sv_b=_Lf0Sv_b))\n",
    "  for _n in (1000.00, -122.444, 0.1598, 0, .5)\n",
    "  for _Reg_s in ('Ru', '') \n",
    "  for _4Frac_b in (True, False) \n",
    "  for _SepSv_b in (True, False) \n",
    "  for _Lf0Sv_b in (True, False) \n",
    "  for _sep_s in ('_', ' ', '', '.', ','))\n",
    "print(tuple(_el[-1] for _el in tTs_t))"
   ]
  },
  {
   "cell_type": "code",
   "execution_count": 178,
   "metadata": {},
   "outputs": [
    {
     "name": "stdout",
     "output_type": "stream",
     "text": [
      "На Вашем счету:(-1_222,444) <= 0.\n",
      " Пополните счет, пожалуйста.\n"
     ]
    },
    {
     "data": {
      "text/plain": [
       "(False, False, False, True, True, True, False)"
      ]
     },
     "execution_count": 178,
     "metadata": {},
     "output_type": "execute_result"
    }
   ],
   "source": [
    "lo_s = (f\"{min(1000.00, -1222.444):_f}\").replace('.', ',', 1).rstrip('0').rstrip(',')\n",
    "print(f\"На Вашем счету:({lo_s}) <= 0.\",\n",
    "    ' Пополните счет, пожалуйста.', sep='\\n')\n",
    "'_' not in ',_', ' ' not in ',_ ', ',' not in ',_', 'ygiy' not in ',_', len(',_') != 1 or ',_' not in ',_',\\\n",
    "   'w' not in ',_', ',_' not in ',_'"
   ]
  },
  {
   "cell_type": "markdown",
   "metadata": {},
   "source": [
    "### W/o(import)"
   ]
  },
  {
   "cell_type": "code",
   "execution_count": 9,
   "metadata": {},
   "outputs": [
    {
     "name": "stdout",
     "output_type": "stream",
     "text": [
      " Нужно ввести еще 1 знач. и осталось 1 попыт.\n",
      "\tERR: You input:'6' INVALID because of NOT x in (1,2,3).\n",
      " Нужно ввести еще 1 знач. и осталось 10 попыт.\n",
      "(4.5, 5.0) (2,)\n"
     ]
    }
   ],
   "source": [
    "import copy, sys, time\n",
    "from dataclasses import dataclass, field\n",
    "from collections.abc import Callable\n",
    "\n",
    "glScrWid_s = 80\n",
    "glSep_s = '_' *glScrWid_s\n",
    "\n",
    "glStdMsg4InP_l = [' Please, Input', ' and press Enter',\n",
    "    'Your value will be validated as', 'on default ',\n",
    "    # ' and {} attempt{} left'\n",
    "    ' and {} attem. left',\n",
    "    ' It remains to input {} more val.{}.']\n",
    "glStdMsg4InP_l = [' Пожалуйста, введите', ' и нажмите Enter',\n",
    "    'Ваш ввод должен соответствовать усл.', 'по умолчанию ',\n",
    "    ' и осталось {} попыт.',\n",
    "    ' Нужно ввести еще {} знач.{}.']\n",
    "\n",
    "def inp_FltAVali_fefi(laWhatInPMsg_s, laInPValues_co=1, laValiInPMsg_s='',\n",
    "    laVali_cll=None, laInPTypeFlt_cll=int, laMaxInPTry_co=11,\n",
    "    laAcceptEmptyInPAsDf_b=False, laDfV_s=None, laMsg4InP_l=glStdMsg4InP_l,\n",
    "    laVerbose_i=None, file=sys.stdout) -> tuple:\n",
    "\n",
    "  if laInPValues_co < 1: raise ValueError(f'laInPValues_co must be > 0, now:{laInPValues_co}')\n",
    "  loTypeAValiFlsCo_l, loRes_l, loMaxTry_co = [0, 0], [], int(max(laInPValues_co, laMaxInPTry_co))\n",
    "  if laValiInPMsg_s and laVali_cll:\n",
    "    lo_s = f' - {laMsg4InP_l[2]}({laValiInPMsg_s}'\n",
    "    if lo_s[-1] == '\\n': lo_s = lo_s[:-1] + ') -\\n'\n",
    "    else: lo_s += ') -'\n",
    "  else: lo_s = ''\n",
    "  lo_s = laMsg4InP_l[0] + f\"{laWhatInPMsg_s}{lo_s}\" + laMsg4InP_l[1]\n",
    "  if laAcceptEmptyInPAsDf_b and laDfV_s is not None:\n",
    "    lo_s += f\"({laMsg4InP_l[3]}'{laDfV_s}')\"\n",
    "  loInPMsg_s = f\"{lo_s}: \"\n",
    "\n",
    "  for l_co in range(loMaxTry_co):\n",
    "    li_s = input(loInPMsg_s)\n",
    "    if li_s == '' and laAcceptEmptyInPAsDf_b and laDfV_s is not None:\n",
    "      li_s = laDfV_s # 2Do: Che: laDfV_s is str OR UpLi\n",
    "    # if not li_s: ??User(Exit|Bre) ??laAcceptEmpty(As(Df|Bre))InP_b=False\n",
    "    try:\n",
    "      if laInPTypeFlt_cll is not None:\n",
    "        liChe_i = laInPTypeFlt_cll(li_s)\n",
    "      else: liChe_i = li_s\n",
    "    except ValueError as leExc_o:\n",
    "      loTypeAValiFlsCo_l[0] +=1; liChe_i = None\n",
    "      print(f\"\\tERR: You input:'{li_s}' NOT pass check type w/func({laInPTypeFlt_cll}\",\n",
    "          f'- Exception:{type(leExc_o).__name__}({leExc_o}) raised.', file=file)\n",
    "    else:\n",
    "      if laVali_cll is not None:\n",
    "        if laVali_cll(liChe_i):\n",
    "          loRes_l.append(liChe_i)\n",
    "          # print(f\"\\tMSG: You input:'{liChe_i}' valid.\", file=file)\n",
    "        else:\n",
    "          loTypeAValiFlsCo_l[1] +=1\n",
    "          lo_s = f' because of NOT {laValiInPMsg_s}' if laValiInPMsg_s else ''\n",
    "          print(f\"\\tERR: You input:'{liChe_i}' INVALID{lo_s}.\", file=file)\n",
    "      else:\n",
    "        loRes_l.append(liChe_i)\n",
    "        # print(f\"\\tMSG: You input:'{liChe_i}'.\", file=file)\n",
    "        # if liChe_i == tPtt_i: tOk_co +=1\n",
    "    # print(f'DBG: {loRes_l=}')\n",
    "    if len(loRes_l) == laInPValues_co: break  \n",
    "    if laMaxInPTry_co:\n",
    "      if l_co == (loMaxTry_co -1): # RFa:Rm(NNe int)\n",
    "        if loRes_l:\n",
    "          print(f\"\\tWRN: Rich max(laInPValues_co, laMaxInPTry_co):{loMaxTry_co}, return {tuple(loRes_l)} as User input.\", file=file)\n",
    "        else:\n",
    "          raise ValueError(f'Rich max(laInPValues_co, laMaxInPTry_co):{loMaxTry_co} but loRes_l is Empty - nothing return as User input.')\n",
    "      else:\n",
    "        # lo_s = '' if l_co == (loMaxTry_co -2) else 's'\n",
    "        # lo_s = f' and {loMaxTry_co - l_co -1} attempt{lo_s} left'\n",
    "        if laMsg4InP_l[-2]:\n",
    "          lo_s = laMsg4InP_l[-2].format(loMaxTry_co - l_co -1)\n",
    "        else: lo_s = ''\n",
    "    else: lo_s = '' #RFa:Rm:NNe(.rstrip('.'))\n",
    "    if laMsg4InP_l[-1]:\n",
    "      lo_s = laMsg4InP_l[-1].format(laInPValues_co - len(loRes_l), lo_s)\n",
    "      print(lo_s.rstrip('.') + '.', file=file)\n",
    "    # print(f'MSG: It remains to input {laInPValues_co - len(loRes_l)} more value{lo_s}.', file=file)\n",
    "  return tuple(loRes_l)\n",
    "\n",
    "print(inp_FltAVali_fefi(laWhatInPMsg_s=' Any Float', laInPValues_co=2, laInPTypeFlt_cll=float,\n",
    "    laMaxInPTry_co=1))\n",
    "print(inp_FltAVali_fefi(' x', laValiInPMsg_s='x in (1,2,3)',\n",
    "  laVali_cll=lambda x: x in (1,2,3))\n",
    "  )\n"
   ]
  },
  {
   "cell_type": "code",
   "execution_count": 12,
   "metadata": {},
   "outputs": [
    {
     "data": {
      "text/plain": [
       "False"
      ]
     },
     "execution_count": 12,
     "metadata": {},
     "output_type": "execute_result"
    }
   ],
   "source": [
    "callable('None')"
   ]
  },
  {
   "cell_type": "code",
   "execution_count": null,
   "metadata": {},
   "outputs": [],
   "source": [
    "@dataclass\n",
    "class Menu_c():\n",
    "\n",
    "  fOutMenuItm_d: dict = field(default_factory=dict) # OutVar: ItmFmt(_k=Key, _v=[Desc_s, _cll, ??Type_en:(AlwOut, ...)])\n",
    "  # fOutStt_d: dict = None # OutVar\n",
    "  fAppTtl_s: str = ''\n",
    "  fPrnOutStt_cll: Callable = None # OutVar # [self, file]; ??(Slv:NN)Df: IF fOutStt_d is !None -> print(fOutStt_d)\n",
    "  fIterSortKey_cll: Callable = None # [key] ??(Prop4Set): AsIn2fOutMenuItm_d OR (lambda _el: str(_el))|int\n",
    "  fHeaFmt_s: str = None\n",
    "  fFooFmt_s: str = None\n",
    "  fItmFmt_s: str = '{_k!s:>2}. {_v[0]}'\n",
    "  fActHst_l: list = field(default_factory=list)\n",
    "  # 2Do: PP(Max(Col|Row)) 4 prn_fmp\n",
    "  fAFile4Prn_o: object = sys.stdout\n",
    "\n",
    "  def __post_init__(self):\n",
    "    if self.fHeaFmt_s is not None: self.fHeaFmt_s = str(self.fHeaFmt_s)\n",
    "    else:\n",
    "      self.fHeaFmt_s = glSep_s\n",
    "      if self.fAppTtl_s: self.fHeaFmt_s += f'\\n{self.fAppTtl_s}:'\n",
    "    if self.fFooFmt_s is not None: self.fFooFmt_s = str(self.fFooFmt_s)\n",
    "    else: self.fFooFmt_s = glSep_s[:len(glSep_s)//3 *2]\n",
    "    \n",
    "    self.fRunLoop_b = bool(self.fOutMenuItm_d)\n",
    "    self.fInP_s, self.fInP_k = None, None\n",
    "    if self.fActHst_l is not None:\n",
    "      self.fActHst_l.append((time.time_ns(), 'Inn', '__post_init__', True))\n",
    "\n",
    "  def __iter__(self): # 2Do: MaB Onl WhiUse(prn_fmp)\n",
    "    if self.fIterSortKey_cll is None:\n",
    "      return (_k for _k in self.fOutMenuItm_d.keys())\n",
    "    return (_k for _k in sorted(self.fOutMenuItm_d.keys(), key=self.fIterSortKey_cll))\n",
    "\n",
    "  def __getitem__(self, key): # BOf:KISS\n",
    "    return self.fOutMenuItm_d[key]\n",
    "\n",
    "  def __len__(self): # BOf:KISS\n",
    "    return len(self.fOutMenuItm_d)\n",
    "\n",
    "  def __contains__(self, key): # BOf:KISS\n",
    "    return key in self.fOutMenuItm_d\n",
    "\n",
    "  # 2Do: MaB: oup_fmp(self, file=fAFile4Prn_o)\n",
    "  # 2Do: MaB Onl(9+KeyExit OR Fit2Scr+KeyExit) w/Set(sf.WhiVieItmKey_l)\n",
    "  def prn_fmp(self, file=fAFile4Prn_o):\n",
    "    if bool(self.fOutMenuItm_d):\n",
    "      if self.fHeaFmt_s != '': print(self.fHeaFmt_s, file=file)\n",
    "      print(*(self.fItmFmt_s.format(_k=_k, _v=self[_k]) for _k in self),\n",
    "          sep='\\n', file=file)\n",
    "      self.prn_Info_fmp(file=file)\n",
    "      if self.fFooFmt_s != '': print(self.fFooFmt_s, file=file)\n",
    "\n",
    "  # 2Do: __str__(self), __format__, tVieHst_fmp\n",
    "  def prn_Info_fmp(self, file=fAFile4Prn_o):\n",
    "    if self.fPrnOutStt_cll and callable(self.fPrnOutStt_cll):\n",
    "      self.fPrnOutStt_cll(self, file=file)\n",
    "\n",
    "  # 2Do: add_Itms?_ffm(self), del_Itms?_ffpm(self), def get_Keys?_ffpm(self):\n",
    "  # ??run_ffpm(self):\n",
    "  def __call__(self, file=fAFile4Prn_o): # MainLoop\n",
    "    if self.fActHst_l is not None:\n",
    "      self.fActHst_l.append((time.time_ns(), 'Inn', 'Beg:MainLoop', True))\n",
    "    while self.fRunLoop_b:\n",
    "      self.prn_fmp(file=file)\n",
    "      self.fInP_s, self.fInP_k = None, None # ??&| In2__post_init__\n",
    "      self.fInP_s = inp_FltAVali_fefi(f' пункт меню', laInPTypeFlt_cll=None,\n",
    "          file=file)[0].strip()\n",
    "      if self.fInP_s in self:\n",
    "        self.fInP_k = self.fInP_s\n",
    "      else:\n",
    "        try: self.fInP_k = int(self.fInP_s)\n",
    "        except ValueError as le_o: self.fInP_k = None\n",
    "        else:\n",
    "          if self.fInP_k not in self: self.fInP_k = None\n",
    "      if self.fInP_k is not None:\n",
    "        lo_cll = self[self.fInP_k][1]\n",
    "        if lo_cll is None: # 2Do:??AddHst\n",
    "          print(f'DVL: None 4 calling Fu() пункт меню({self.fInP_k})', file=file)\n",
    "          continue\n",
    "        else:\n",
    "          loRes_a = lo_cll(self, file=file)\n",
    "          if self.fActHst_l is not None:\n",
    "            self.fActHst_l.append((time.time_ns(), 'InP',\n",
    "                f'({self.fInP_s})' + self[self.fInP_k][0], loRes_a))\n",
    "      else:\n",
    "          print(f'MSG: Неверный пункт меню({self.fInP_s})', file=file) # 2Do:??AddHst\n",
    "    else:\n",
    "      if self.fHeaFmt_s != '': print(self.fHeaFmt_s, file=file)\n",
    "      print('До свидания!', file=file)\n",
    "      if self.fActHst_l is not None:\n",
    "        self.fActHst_l.append((time.time_ns(), 'Inn', 'End:MainLoop', True))\n",
    "      if self.fFooFmt_s != '': print(self.fFooFmt_s, file=file)\n",
    "\n",
    "    return self.fActHst_l\n"
   ]
  },
  {
   "cell_type": "code",
   "execution_count": 2,
   "metadata": {},
   "outputs": [
    {
     "name": "stdout",
     "output_type": "stream",
     "text": [
      "(1655977149789138500, 'Inn', '__post_init__', True)\n",
      "(1655977149789138500, 'Inn', 'Beg:MainLoop', True)\n",
      "(1655977622240934900, 'InP', '(Б)Мой банковский счет', [(1655977154499235200, 'Inn', '__post_init__', True), (1655977154499235200, 'Inn', 'Beg:MainLoop', True), (1655977161600854500, 'InP', '(1)Пополнение счета', 100.0), (1655977228192579300, 'InP', '(2)Покупка', ('Еда', 55.5)), (1655977248709705300, 'InP', '(2)Покупка', (None, 55.5)), (1655977256206115300, 'InP', '(2)Покупка', ('Еда', 44.5)), (1655977258495373500, 'InP', '(3)История покупок', (0.0, 2)), (1655977622238932600, 'InP', '(4)Выход', None), (1655977622239938800, 'Inn', 'End:MainLoop', True)])\n",
      "(1655977705911594500, 'InP', '(Ы)Выход', None)\n",
      "(1655977705912593100, 'Inn', 'End:MainLoop', True)\n"
     ]
    }
   ],
   "source": [
    "print(*[(1655977149789138500, 'Inn', '__post_init__', True), (1655977149789138500, 'Inn', 'Beg:MainLoop', True), (1655977622240934900, 'InP', '(Б)Мой банковский счет', [(1655977154499235200, 'Inn', '__post_init__', True), (1655977154499235200, 'Inn', 'Beg:MainLoop', True), (1655977161600854500, 'InP', '(1)Пополнение счета', 100.0), (1655977228192579300, 'InP', '(2)Покупка', ('Еда', 55.5)), (1655977248709705300, 'InP', '(2)Покупка', (None, 55.5)), (1655977256206115300, 'InP', '(2)Покупка', ('Еда', 44.5)), (1655977258495373500, 'InP', '(3)История покупок', (0.0, 2)), (1655977622238932600, 'InP', '(4)Выход', None), (1655977622239938800, 'Inn', 'End:MainLoop', True)]), (1655977705911594500, 'InP', '(Ы)Выход', None), (1655977705912593100, 'Inn', 'End:MainLoop', True)], sep='\\n')"
   ]
  }
 ],
 "metadata": {
  "kernelspec": {
   "display_name": "Python 3.10.4 ('PyDev')",
   "language": "python",
   "name": "python3"
  },
  "language_info": {
   "codemirror_mode": {
    "name": "ipython",
    "version": 3
   },
   "file_extension": ".py",
   "mimetype": "text/x-python",
   "name": "python",
   "nbconvert_exporter": "python",
   "pygments_lexer": "ipython3",
   "version": "3.10.4"
  },
  "orig_nbformat": 4,
  "vscode": {
   "interpreter": {
    "hash": "80293c70213cf7c3ccbcfb7e8993bc81b05a4697583b0e801800b9f0611eee6b"
   }
  }
 },
 "nbformat": 4,
 "nbformat_minor": 2
}
