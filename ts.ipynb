{
 "cells": [
  {
   "cell_type": "markdown",
   "metadata": {},
   "source": [
    "### W(import)"
   ]
  },
  {
   "cell_type": "code",
   "execution_count": 1,
   "metadata": {},
   "outputs": [],
   "source": [
    "import copy, os, shutil, sys\n",
    "import mod.MVVlStd, mod.victory, mod.MyBankAcc\n",
    "\n"
   ]
  },
  {
   "cell_type": "code",
   "execution_count": 8,
   "metadata": {},
   "outputs": [
    {
     "name": "stdout",
     "output_type": "stream",
     "text": [
      " Нужно ввести еще 1 знач. и осталось 1 попыт.\n",
      "\tERR: You input:'5' INVALID because of NOT x in (1,2,3).\n",
      " Нужно ввести еще 1 знач. и осталось 10 попыт.\n",
      "(6.0, 2.2) (1,)\n"
     ]
    }
   ],
   "source": [
    "# mod.MVVlStd.inp_FltAVali_fefi()\n",
    "print(mod.MVVlStd.inp_FltAVali_fefi(laWhatInPMsg_s=' Any Float', laInPValues_co=2, laInPTypeFlt_cll=float, laMaxInPTry_co=1),\n",
    " mod.MVVlStd.inp_FltAVali_fefi(' x', laValiInPMsg_s='x in (1,2,3)',\n",
    "  laVali_cll=lambda x: x in (1,2,3))\n",
    "  )\n"
   ]
  },
  {
   "cell_type": "markdown",
   "metadata": {},
   "source": [
    "### W/o(import)"
   ]
  },
  {
   "cell_type": "code",
   "execution_count": 9,
   "metadata": {},
   "outputs": [
    {
     "name": "stdout",
     "output_type": "stream",
     "text": [
      " Нужно ввести еще 1 знач. и осталось 1 попыт.\n",
      "\tERR: You input:'6' INVALID because of NOT x in (1,2,3).\n",
      " Нужно ввести еще 1 знач. и осталось 10 попыт.\n",
      "(4.5, 5.0) (2,)\n"
     ]
    }
   ],
   "source": [
    "import copy, sys, time\n",
    "from dataclasses import dataclass, field\n",
    "from collections.abc import Callable\n",
    "\n",
    "glScrWid_s = 80\n",
    "glSep_s = '_' *glScrWid_s\n",
    "\n",
    "glStdMsg4InP_l = [' Please, Input', ' and press Enter',\n",
    "    'Your value will be validated as', 'on default ',\n",
    "    # ' and {} attempt{} left'\n",
    "    ' and {} attem. left',\n",
    "    ' It remains to input {} more val.{}.']\n",
    "glStdMsg4InP_l = [' Пожалуйста, введите', ' и нажмите Enter',\n",
    "    'Ваш ввод должен соответствовать усл.', 'по умолчанию ',\n",
    "    ' и осталось {} попыт.',\n",
    "    ' Нужно ввести еще {} знач.{}.']\n",
    "\n",
    "def inp_FltAVali_fefi(laWhatInPMsg_s, laInPValues_co=1, laValiInPMsg_s='',\n",
    "    laVali_cll=None, laInPTypeFlt_cll=int, laMaxInPTry_co=11,\n",
    "    laAcceptEmptyInPAsDf_b=False, laDfV_s=None, laMsg4InP_l=glStdMsg4InP_l,\n",
    "    laVerbose_i=None, file=sys.stdout) -> tuple:\n",
    "\n",
    "  if laInPValues_co < 1: raise ValueError(f'laInPValues_co must be > 0, now:{laInPValues_co}')\n",
    "  loTypeAValiFlsCo_l, loRes_l, loMaxTry_co = [0, 0], [], int(max(laInPValues_co, laMaxInPTry_co))\n",
    "  if laValiInPMsg_s and laVali_cll:\n",
    "    lo_s = f' - {laMsg4InP_l[2]}({laValiInPMsg_s}'\n",
    "    if lo_s[-1] == '\\n': lo_s = lo_s[:-1] + ') -\\n'\n",
    "    else: lo_s += ') -'\n",
    "  else: lo_s = ''\n",
    "  lo_s = laMsg4InP_l[0] + f\"{laWhatInPMsg_s}{lo_s}\" + laMsg4InP_l[1]\n",
    "  if laAcceptEmptyInPAsDf_b and laDfV_s is not None:\n",
    "    lo_s += f\"({laMsg4InP_l[3]}'{laDfV_s}')\"\n",
    "  loInPMsg_s = f\"{lo_s}: \"\n",
    "\n",
    "  for l_co in range(loMaxTry_co):\n",
    "    li_s = input(loInPMsg_s)\n",
    "    if li_s == '' and laAcceptEmptyInPAsDf_b and laDfV_s is not None:\n",
    "      li_s = laDfV_s # 2Do: Che: laDfV_s is str OR UpLi\n",
    "    # if not li_s: ??User(Exit|Bre) ??laAcceptEmpty(As(Df|Bre))InP_b=False\n",
    "    try:\n",
    "      if laInPTypeFlt_cll is not None:\n",
    "        liChe_i = laInPTypeFlt_cll(li_s)\n",
    "      else: liChe_i = li_s\n",
    "    except ValueError as leExc_o:\n",
    "      loTypeAValiFlsCo_l[0] +=1; liChe_i = None\n",
    "      print(f\"\\tERR: You input:'{li_s}' NOT pass check type w/func({laInPTypeFlt_cll}\",\n",
    "          f'- Exception:{type(leExc_o).__name__}({leExc_o}) raised.', file=file)\n",
    "    else:\n",
    "      if laVali_cll is not None:\n",
    "        if laVali_cll(liChe_i):\n",
    "          loRes_l.append(liChe_i)\n",
    "          # print(f\"\\tMSG: You input:'{liChe_i}' valid.\", file=file)\n",
    "        else:\n",
    "          loTypeAValiFlsCo_l[1] +=1\n",
    "          lo_s = f' because of NOT {laValiInPMsg_s}' if laValiInPMsg_s else ''\n",
    "          print(f\"\\tERR: You input:'{liChe_i}' INVALID{lo_s}.\", file=file)\n",
    "      else:\n",
    "        loRes_l.append(liChe_i)\n",
    "        # print(f\"\\tMSG: You input:'{liChe_i}'.\", file=file)\n",
    "        # if liChe_i == tPtt_i: tOk_co +=1\n",
    "    # print(f'DBG: {loRes_l=}')\n",
    "    if len(loRes_l) == laInPValues_co: break  \n",
    "    if laMaxInPTry_co:\n",
    "      if l_co == (loMaxTry_co -1): # RFa:Rm(NNe int)\n",
    "        if loRes_l:\n",
    "          print(f\"\\tWRN: Rich max(laInPValues_co, laMaxInPTry_co):{loMaxTry_co}, return {tuple(loRes_l)} as User input.\", file=file)\n",
    "        else:\n",
    "          raise ValueError(f'Rich max(laInPValues_co, laMaxInPTry_co):{loMaxTry_co} but loRes_l is Empty - nothing return as User input.')\n",
    "      else:\n",
    "        # lo_s = '' if l_co == (loMaxTry_co -2) else 's'\n",
    "        # lo_s = f' and {loMaxTry_co - l_co -1} attempt{lo_s} left'\n",
    "        if laMsg4InP_l[-2]:\n",
    "          lo_s = laMsg4InP_l[-2].format(loMaxTry_co - l_co -1)\n",
    "        else: lo_s = ''\n",
    "    else: lo_s = '' #RFa:Rm:NNe(.rstrip('.'))\n",
    "    if laMsg4InP_l[-1]:\n",
    "      lo_s = laMsg4InP_l[-1].format(laInPValues_co - len(loRes_l), lo_s)\n",
    "      print(lo_s.rstrip('.') + '.', file=file)\n",
    "    # print(f'MSG: It remains to input {laInPValues_co - len(loRes_l)} more value{lo_s}.', file=file)\n",
    "  return tuple(loRes_l)\n",
    "\n",
    "print(inp_FltAVali_fefi(laWhatInPMsg_s=' Any Float', laInPValues_co=2, laInPTypeFlt_cll=float,\n",
    "    laMaxInPTry_co=1))\n",
    "print(inp_FltAVali_fefi(' x', laValiInPMsg_s='x in (1,2,3)',\n",
    "  laVali_cll=lambda x: x in (1,2,3))\n",
    "  )\n"
   ]
  },
  {
   "cell_type": "code",
   "execution_count": 12,
   "metadata": {},
   "outputs": [
    {
     "data": {
      "text/plain": [
       "False"
      ]
     },
     "execution_count": 12,
     "metadata": {},
     "output_type": "execute_result"
    }
   ],
   "source": [
    "callable('None')"
   ]
  },
  {
   "cell_type": "code",
   "execution_count": null,
   "metadata": {},
   "outputs": [],
   "source": [
    "@dataclass\n",
    "class Menu_c():\n",
    "\n",
    "  fOutMenuItm_d: dict = field(default_factory=dict) # OutVar: ItmFmt(_k=Key, _v=[Desc_s, _cll, ??Type_en:(AlwOut, ...)])\n",
    "  # fOutStt_d: dict = None # OutVar\n",
    "  fAppTtl_s: str = ''\n",
    "  fPrnOutStt_cll: Callable = None # OutVar # [self, file]; ??(Slv:NN)Df: IF fOutStt_d is !None -> print(fOutStt_d)\n",
    "  fIterSortKey_cll: Callable = None # [key] ??(Prop4Set): AsIn2fOutMenuItm_d OR (lambda _el: str(_el))|int\n",
    "  fHeaFmt_s: str = None\n",
    "  fFooFmt_s: str = None\n",
    "  fItmFmt_s: str = '{_k!s:>2}. {_v[0]}'\n",
    "  fActHst_l: list = field(default_factory=list)\n",
    "  # 2Do: PP(Max(Col|Row)) 4 prn_fmp\n",
    "  fAFile4Prn_o: object = sys.stdout\n",
    "\n",
    "  def __post_init__(self):\n",
    "    if self.fHeaFmt_s is not None: self.fHeaFmt_s = str(self.fHeaFmt_s)\n",
    "    else:\n",
    "      self.fHeaFmt_s = glSep_s\n",
    "      if self.fAppTtl_s: self.fHeaFmt_s += f'\\n{self.fAppTtl_s}:'\n",
    "    if self.fFooFmt_s is not None: self.fFooFmt_s = str(self.fFooFmt_s)\n",
    "    else: self.fFooFmt_s = glSep_s[:len(glSep_s)//3 *2]\n",
    "    \n",
    "    self.fRunLoop_b = bool(self.fOutMenuItm_d)\n",
    "    self.fInP_s, self.fInP_k = None, None\n",
    "    if self.fActHst_l is not None:\n",
    "      self.fActHst_l.append((time.time_ns(), 'Inn', '__post_init__', True))\n",
    "\n",
    "  def __iter__(self): # 2Do: MaB Onl WhiUse(prn_fmp)\n",
    "    if self.fIterSortKey_cll is None:\n",
    "      return (_k for _k in self.fOutMenuItm_d.keys())\n",
    "    return (_k for _k in sorted(self.fOutMenuItm_d.keys(), key=self.fIterSortKey_cll))\n",
    "\n",
    "  def __getitem__(self, key): # BOf:KISS\n",
    "    return self.fOutMenuItm_d[key]\n",
    "\n",
    "  def __len__(self): # BOf:KISS\n",
    "    return len(self.fOutMenuItm_d)\n",
    "\n",
    "  def __contains__(self, key): # BOf:KISS\n",
    "    return key in self.fOutMenuItm_d\n",
    "\n",
    "  # 2Do: MaB: oup_fmp(self, file=fAFile4Prn_o)\n",
    "  # 2Do: MaB Onl(9+KeyExit OR Fit2Scr+KeyExit) w/Set(sf.WhiVieItmKey_l)\n",
    "  def prn_fmp(self, file=fAFile4Prn_o):\n",
    "    if bool(self.fOutMenuItm_d):\n",
    "      if self.fHeaFmt_s != '': print(self.fHeaFmt_s, file=file)\n",
    "      print(*(self.fItmFmt_s.format(_k=_k, _v=self[_k]) for _k in self),\n",
    "          sep='\\n', file=file)\n",
    "      self.prn_Info_fmp(file=file)\n",
    "      if self.fFooFmt_s != '': print(self.fFooFmt_s, file=file)\n",
    "\n",
    "  # 2Do: __str__(self), __format__, tVieHst_fmp\n",
    "  def prn_Info_fmp(self, file=fAFile4Prn_o):\n",
    "    if self.fPrnOutStt_cll and callable(self.fPrnOutStt_cll):\n",
    "      self.fPrnOutStt_cll(self, file=file)\n",
    "\n",
    "  # 2Do: add_Itms?_ffm(self), del_Itms?_ffpm(self), def get_Keys?_ffpm(self):\n",
    "  # ??run_ffpm(self):\n",
    "  def __call__(self, file=fAFile4Prn_o): # MainLoop\n",
    "    if self.fActHst_l is not None:\n",
    "      self.fActHst_l.append((time.time_ns(), 'Inn', 'Beg:MainLoop', True))\n",
    "    while self.fRunLoop_b:\n",
    "      self.prn_fmp(file=file)\n",
    "      self.fInP_s, self.fInP_k = None, None # ??&| In2__post_init__\n",
    "      self.fInP_s = inp_FltAVali_fefi(f' пункт меню', laInPTypeFlt_cll=None,\n",
    "          file=file)[0].strip()\n",
    "      if self.fInP_s in self:\n",
    "        self.fInP_k = self.fInP_s\n",
    "      else:\n",
    "        try: self.fInP_k = int(self.fInP_s)\n",
    "        except ValueError as le_o: self.fInP_k = None\n",
    "        else:\n",
    "          if self.fInP_k not in self: self.fInP_k = None\n",
    "      if self.fInP_k is not None:\n",
    "        lo_cll = self[self.fInP_k][1]\n",
    "        if lo_cll is None: # 2Do:??AddHst\n",
    "          print(f'DVL: None 4 calling Fu() пункт меню({self.fInP_k})', file=file)\n",
    "          continue\n",
    "        else:\n",
    "          loRes_a = lo_cll(self, file=file)\n",
    "          if self.fActHst_l is not None:\n",
    "            self.fActHst_l.append((time.time_ns(), 'InP',\n",
    "                f'({self.fInP_s})' + self[self.fInP_k][0], loRes_a))\n",
    "      else:\n",
    "          print(f'MSG: Неверный пункт меню({self.fInP_s})', file=file) # 2Do:??AddHst\n",
    "    else:\n",
    "      if self.fHeaFmt_s != '': print(self.fHeaFmt_s, file=file)\n",
    "      print('До свидания!', file=file)\n",
    "      if self.fActHst_l is not None:\n",
    "        self.fActHst_l.append((time.time_ns(), 'Inn', 'End:MainLoop', True))\n",
    "      if self.fFooFmt_s != '': print(self.fFooFmt_s, file=file)\n",
    "\n",
    "    return self.fActHst_l\n"
   ]
  },
  {
   "cell_type": "code",
   "execution_count": 2,
   "metadata": {},
   "outputs": [
    {
     "name": "stdout",
     "output_type": "stream",
     "text": [
      "(1655977149789138500, 'Inn', '__post_init__', True)\n",
      "(1655977149789138500, 'Inn', 'Beg:MainLoop', True)\n",
      "(1655977622240934900, 'InP', '(Б)Мой банковский счет', [(1655977154499235200, 'Inn', '__post_init__', True), (1655977154499235200, 'Inn', 'Beg:MainLoop', True), (1655977161600854500, 'InP', '(1)Пополнение счета', 100.0), (1655977228192579300, 'InP', '(2)Покупка', ('Еда', 55.5)), (1655977248709705300, 'InP', '(2)Покупка', (None, 55.5)), (1655977256206115300, 'InP', '(2)Покупка', ('Еда', 44.5)), (1655977258495373500, 'InP', '(3)История покупок', (0.0, 2)), (1655977622238932600, 'InP', '(4)Выход', None), (1655977622239938800, 'Inn', 'End:MainLoop', True)])\n",
      "(1655977705911594500, 'InP', '(Ы)Выход', None)\n",
      "(1655977705912593100, 'Inn', 'End:MainLoop', True)\n"
     ]
    }
   ],
   "source": [
    "print(*[(1655977149789138500, 'Inn', '__post_init__', True), (1655977149789138500, 'Inn', 'Beg:MainLoop', True), (1655977622240934900, 'InP', '(Б)Мой банковский счет', [(1655977154499235200, 'Inn', '__post_init__', True), (1655977154499235200, 'Inn', 'Beg:MainLoop', True), (1655977161600854500, 'InP', '(1)Пополнение счета', 100.0), (1655977228192579300, 'InP', '(2)Покупка', ('Еда', 55.5)), (1655977248709705300, 'InP', '(2)Покупка', (None, 55.5)), (1655977256206115300, 'InP', '(2)Покупка', ('Еда', 44.5)), (1655977258495373500, 'InP', '(3)История покупок', (0.0, 2)), (1655977622238932600, 'InP', '(4)Выход', None), (1655977622239938800, 'Inn', 'End:MainLoop', True)]), (1655977705911594500, 'InP', '(Ы)Выход', None), (1655977705912593100, 'Inn', 'End:MainLoop', True)], sep='\\n')"
   ]
  }
 ],
 "metadata": {
  "kernelspec": {
   "display_name": "Python 3.9.12 ('wrk')",
   "language": "python",
   "name": "python3"
  },
  "language_info": {
   "codemirror_mode": {
    "name": "ipython",
    "version": 3
   },
   "file_extension": ".py",
   "mimetype": "text/x-python",
   "name": "python",
   "nbconvert_exporter": "python",
   "pygments_lexer": "ipython3",
   "version": "3.9.12"
  },
  "orig_nbformat": 4,
  "vscode": {
   "interpreter": {
    "hash": "7f7a3af5c01538d2bfc09ee01703310502697848996ef9d1b204e45b2a399cb6"
   }
  }
 },
 "nbformat": 4,
 "nbformat_minor": 2
}
